{
 "cells": [
  {
   "cell_type": "code",
   "execution_count": 1,
   "metadata": {
    "id": "VnvjjQVv0QdI"
   },
   "outputs": [],
   "source": [
    "import torch\n",
    "from torchvision import datasets, transforms"
   ]
  },
  {
   "cell_type": "code",
   "execution_count": 2,
   "metadata": {
    "id": "D-pm01sr6BFA"
   },
   "outputs": [],
   "source": [
    "# Define transformations for data augmentation and preprocessing\n",
    "transform = transforms.Compose([\n",
    "    transforms.ToTensor(),\n",
    "    transforms.Normalize((0.5, 0.5, 0.5), (0.5, 0.5, 0.5))\n",
    "])\n",
    "\n"
   ]
  },
  {
   "cell_type": "code",
   "execution_count": 3,
   "metadata": {},
   "outputs": [
    {
     "data": {
      "text/plain": [
       "'/user/ssheri'"
      ]
     },
     "execution_count": 3,
     "metadata": {},
     "output_type": "execute_result"
    }
   ],
   "source": [
    "pwd"
   ]
  },
  {
   "cell_type": "code",
   "execution_count": 4,
   "metadata": {
    "id": "2yzcJ_GJ4L-V"
   },
   "outputs": [],
   "source": [
    "data = datasets.ImageFolder('/user/ssheri/train_dataset',transform=transform)"
   ]
  },
  {
   "cell_type": "code",
   "execution_count": 5,
   "metadata": {
    "id": "vXMqHsvU1mwq"
   },
   "outputs": [],
   "source": [
    "import torch\n",
    "import torch.nn as nn\n",
    "import torch.optim as optim\n",
    "from torch.utils.data import DataLoader\n",
    "from torchvision import datasets, transforms"
   ]
  },
  {
   "cell_type": "code",
   "execution_count": 6,
   "metadata": {
    "id": "iDtlzrmGqqz0"
   },
   "outputs": [],
   "source": [
    "class Block(nn.Module):\n",
    "    def __init__(self, in_channels, out_channels, identity_downsample=None, stride=1):\n",
    "\n",
    "        super(Block, self).__init__()\n",
    "        # Every Resedual block will have two convolution layers with batch normalization done before applying relu\n",
    "        self.conv1 = nn.Conv2d(in_channels, out_channels, kernel_size=3, stride=stride, padding=1, bias=False)\n",
    "        self.batchnorm1 = nn.BatchNorm2d(out_channels)\n",
    "        self.conv2 = nn.Conv2d(out_channels, out_channels, kernel_size=3, stride=1, padding=1, bias=False)\n",
    "        self.batchnorm2 = nn.BatchNorm2d(out_channels)\n",
    "        self.relu = nn.ReLU()\n",
    "        self.identity_downsample = identity_downsample\n",
    "\n",
    "    def forward(self, x):\n",
    "        identity = x.clone()\n",
    "\n",
    "        x = self.conv1(x)\n",
    "        x = self.batchnorm1(x)\n",
    "        x = self.relu(x)\n",
    "        x = self.conv2(x)\n",
    "        x = self.batchnorm2(x)\n",
    "\n",
    "        if self.identity_downsample is not None:\n",
    "            identity = self.identity_downsample(identity)\n",
    "\n",
    "        x += identity\n",
    "        x = self.relu(x)\n",
    "        return x\n"
   ]
  },
  {
   "cell_type": "code",
   "execution_count": 7,
   "metadata": {
    "id": "NeNcY3tsqm9a"
   },
   "outputs": [],
   "source": [
    "\n",
    "class ResNet(nn.Module):\n",
    "  \n",
    "  def __init__(self, block, layers, image_channels, num_classes):\n",
    "    super(ResNet, self).__init__()\n",
    "    self.expansion = 1 # expansion factor is 1 for resnet 18, it is 4 for resnet 50,101 and 152\n",
    "    self.in_channels = 64\n",
    "    self.conv1 = nn.Conv2d(image_channels, 64, kernel_size=7, stride=2, padding=3, bias=False) # Extracts the low level features from input image\n",
    "    self.bn1 = nn.BatchNorm2d(64)\n",
    "    self.relu = nn.ReLU()\n",
    "    self.maxpool = nn.MaxPool2d(kernel_size=3, stride=2, padding=1)\n",
    "    # Feature map size of 112 * 112\n",
    "    self.layer1 = self.make_layer(block, layers[0], out_channels=64, stride=1) # Two convolutions with 64 outputs\n",
    "    self.layer2 = self.make_layer(block, layers[1], out_channels=128, stride=2) # Two convolution with 128 outputs\n",
    "    self.layer3 = self.make_layer(block, layers[2], out_channels=256, stride=2) # Two convolutions with 256 outputs\n",
    "    self.layer4 = self.make_layer(block, layers[3], out_channels=512, stride=2) # Two convolution with 512 outputs\n",
    "    # Feature map size of 7 * 7\n",
    "    self.avgpool = nn.AdaptiveAvgPool2d((1, 1))\n",
    "    self.fc = nn.Linear(512 * self.expansion, num_classes)\n",
    "# Increasing the filter size will help us to create more deep model and capture complex models\n",
    "  def forward(self, x):\n",
    "    x = self.conv1(x)\n",
    "    x = self.bn1(x)\n",
    "    x = self.relu(x)\n",
    "    x = self.maxpool(x)\n",
    "\n",
    "    x = self.layer1(x)\n",
    "    x = self.layer2(x)\n",
    "    x = self.layer3(x)\n",
    "    x = self.layer4(x)\n",
    "\n",
    "    x = self.avgpool(x)\n",
    "    x = torch.flatten(x,1)\n",
    "    x = self.fc(x)\n",
    "\n",
    "    return x\n",
    "\n",
    "  def make_layer(self, block, num_residual_blocks, out_channels, stride):\n",
    "    identity_downsample = None # initially identity_downsample is none\n",
    "    layers = []\n",
    "\n",
    "    if stride != 1 or self.in_channels != self.expansion * out_channels:\n",
    "        identity_downsample = nn.Sequential(\n",
    "            nn.Conv2d(self.in_channels, self.expansion * out_channels, kernel_size=1, stride=stride, bias=False),\n",
    "            nn.BatchNorm2d(self.expansion * out_channels)\n",
    "        )\n",
    "        # when above case occurs we create a identity_downsample with 1*1 conv layer to match number of channels\n",
    "\n",
    "    layers.append(block(self.in_channels, out_channels, identity_downsample, stride)) # append the first residual block with matched dimensions to layers\n",
    "    self.in_channels = out_channels * self.expansion # update input channels\n",
    "\n",
    "    for i in range(num_residual_blocks - 1): # append remaining residual blocks\n",
    "        layers.append(block(self.in_channels, out_channels))\n",
    "\n",
    "    return nn.Sequential(*layers)"
   ]
  },
  {
   "cell_type": "code",
   "execution_count": 8,
   "metadata": {
    "id": "ksR0vWCktEKu"
   },
   "outputs": [],
   "source": [
    "def ResNet18(img_channel=3, num_classes=len(data.classes)):\n",
    "    return ResNet(Block, [2, 2, 2, 2], img_channel, num_classes)\n"
   ]
  },
  {
   "cell_type": "code",
   "execution_count": null,
   "metadata": {
    "id": "tPW8UAl4qwzW"
   },
   "outputs": [],
   "source": []
  },
  {
   "cell_type": "code",
   "execution_count": null,
   "metadata": {
    "id": "OY_tKjfZz6Ze"
   },
   "outputs": [],
   "source": []
  },
  {
   "cell_type": "code",
   "execution_count": null,
   "metadata": {
    "id": "bP138E3m6-JU"
   },
   "outputs": [],
   "source": []
  },
  {
   "cell_type": "code",
   "execution_count": 7,
   "metadata": {
    "id": "a27sOGSg7e7I"
   },
   "outputs": [],
   "source": [
    "from torch.utils.data import random_split, DataLoader"
   ]
  },
  {
   "cell_type": "code",
   "execution_count": 8,
   "metadata": {
    "id": "LcCT9LfL4L5X"
   },
   "outputs": [],
   "source": [
    "train_size = int(0.7 * len(data))\n",
    "rem = len(data) - train_size\n",
    "test=int(rem/2)\n",
    "\n",
    "train_data, test_data,val_data = random_split(data, [train_size,test,test])"
   ]
  },
  {
   "cell_type": "code",
   "execution_count": 9,
   "metadata": {
    "colab": {
     "base_uri": "https://localhost:8080/"
    },
    "id": "jYjce6xv7i3J",
    "outputId": "4f57c244-1576-4dd0-e405-26602f16d388"
   },
   "outputs": [
    {
     "data": {
      "text/plain": [
       "50446"
      ]
     },
     "execution_count": 9,
     "metadata": {},
     "output_type": "execute_result"
    }
   ],
   "source": [
    "len(train_data)"
   ]
  },
  {
   "cell_type": "code",
   "execution_count": 10,
   "metadata": {
    "id": "wW8vpGBR7iS5"
   },
   "outputs": [],
   "source": [
    "train_loader = DataLoader(train_data, batch_size=35, shuffle=True)\n",
    "test_loader = DataLoader(test_data, batch_size=35, shuffle=False)\n",
    "val_loader = DataLoader(val_data,batch_size = 35, shuffle = False)"
   ]
  },
  {
   "cell_type": "code",
   "execution_count": 11,
   "metadata": {
    "id": "ZAXLXpGp8TQ6"
   },
   "outputs": [],
   "source": [
    "device = torch.device(\"cuda\" if torch.cuda.is_available() else \"cpu\")"
   ]
  },
  {
   "cell_type": "code",
   "execution_count": 12,
   "metadata": {
    "colab": {
     "base_uri": "https://localhost:8080/"
    },
    "id": "Sf5s-7wAay35",
    "outputId": "b19776de-a87f-4de5-c2e5-202f03a07cbc"
   },
   "outputs": [
    {
     "data": {
      "text/plain": [
       "15"
      ]
     },
     "execution_count": 12,
     "metadata": {},
     "output_type": "execute_result"
    }
   ],
   "source": [
    "len(data.classes)"
   ]
  },
  {
   "cell_type": "code",
   "execution_count": null,
   "metadata": {
    "id": "m9EyNNQB2BwN"
   },
   "outputs": [],
   "source": []
  },
  {
   "cell_type": "code",
   "execution_count": 15,
   "metadata": {
    "id": "stOfHI4H4L0Y"
   },
   "outputs": [],
   "source": [
    "model = ResNet18(num_classes=len(data.classes)).to(device)\n",
    "criterion = nn.CrossEntropyLoss()\n",
    "optimizer = optim.SGD(model.parameters(), lr=0.1, momentum=0.9, weight_decay=1e-4)"
   ]
  },
  {
   "cell_type": "code",
   "execution_count": null,
   "metadata": {
    "id": "BmDlgB_L7r2W"
   },
   "outputs": [],
   "source": []
  },
  {
   "cell_type": "code",
   "execution_count": 16,
   "metadata": {
    "colab": {
     "base_uri": "https://localhost:8080/"
    },
    "id": "DpF8Ej3h4CAv",
    "outputId": "44465284-336f-45a7-827e-663f977d8048"
   },
   "outputs": [
    {
     "name": "stdout",
     "output_type": "stream",
     "text": [
      "Epoch [1/20], Train Loss: 2.1320, Train Acc: 31.75%, Val Loss: 1.9725, Val Acc: 36.27%\n",
      "Epoch [2/20], Train Loss: 1.6519, Train Acc: 46.84%, Val Loss: 1.6091, Val Acc: 49.03%\n",
      "Epoch [3/20], Train Loss: 1.3701, Train Acc: 56.00%, Val Loss: 1.4189, Val Acc: 55.87%\n",
      "Epoch [4/20], Train Loss: 1.1822, Train Acc: 62.09%, Val Loss: 1.1719, Val Acc: 61.62%\n",
      "Epoch [5/20], Train Loss: 1.0643, Train Acc: 65.79%, Val Loss: 1.0953, Val Acc: 65.05%\n",
      "Epoch [6/20], Train Loss: 0.9563, Train Acc: 69.03%, Val Loss: 1.2631, Val Acc: 61.28%\n",
      "Epoch [7/20], Train Loss: 0.8865, Train Acc: 71.41%, Val Loss: 1.1191, Val Acc: 64.69%\n",
      "Epoch [8/20], Train Loss: 0.8123, Train Acc: 73.74%, Val Loss: 1.0815, Val Acc: 66.17%\n",
      "Epoch [9/20], Train Loss: 0.7505, Train Acc: 75.73%, Val Loss: 1.0071, Val Acc: 68.15%\n",
      "Epoch [10/20], Train Loss: 0.6856, Train Acc: 77.52%, Val Loss: 1.2341, Val Acc: 64.84%\n",
      "Epoch [11/20], Train Loss: 0.6338, Train Acc: 79.12%, Val Loss: 1.4855, Val Acc: 58.43%\n",
      "Epoch [12/20], Train Loss: 0.5789, Train Acc: 80.96%, Val Loss: 1.1068, Val Acc: 67.00%\n",
      "Epoch [13/20], Train Loss: 0.5200, Train Acc: 82.82%, Val Loss: 1.1484, Val Acc: 67.98%\n",
      "Epoch [14/20], Train Loss: 0.4825, Train Acc: 84.10%, Val Loss: 1.0970, Val Acc: 68.38%\n",
      "Epoch [15/20], Train Loss: 0.4379, Train Acc: 85.22%, Val Loss: 1.1530, Val Acc: 69.33%\n",
      "Epoch [16/20], Train Loss: 0.4075, Train Acc: 86.35%, Val Loss: 1.2238, Val Acc: 67.71%\n",
      "Epoch [17/20], Train Loss: 0.3844, Train Acc: 87.28%, Val Loss: 1.4902, Val Acc: 63.54%\n",
      "Epoch [18/20], Train Loss: 0.3560, Train Acc: 88.20%, Val Loss: 1.2879, Val Acc: 65.69%\n",
      "Epoch [19/20], Train Loss: 0.3447, Train Acc: 88.49%, Val Loss: 1.5007, Val Acc: 60.64%\n",
      "Epoch [20/20], Train Loss: 0.3329, Train Acc: 88.83%, Val Loss: 1.3637, Val Acc: 66.11%\n"
     ]
    }
   ],
   "source": [
    "\n",
    "\n",
    "# 5. Train the model\n",
    "num_epochs = 20\n",
    "train_losses = []\n",
    "train_accuracies = []\n",
    "val_losses = []\n",
    "val_accuracies = []\n",
    "\n",
    "for epoch in range(num_epochs):\n",
    "    train_loss = 0.0\n",
    "    train_correct = 0\n",
    "    val_loss = 0.0\n",
    "    val_correct = 0\n",
    "\n",
    "    # Training loop\n",
    "    model.train()\n",
    "    for inputs, labels in train_loader:\n",
    "        inputs, labels = inputs.to(device), labels.to(device)\n",
    "        optimizer.zero_grad()\n",
    "        outputs = model(inputs)\n",
    "        loss = criterion(outputs, labels)\n",
    "        loss.backward()\n",
    "        optimizer.step()\n",
    "        train_loss += loss.item() * inputs.size(0)\n",
    "        _, preds = torch.max(outputs, 1)\n",
    "        train_correct += torch.sum(preds == labels.data)\n",
    "\n",
    "    # Validation loop\n",
    "    model.eval()\n",
    "    with torch.no_grad():\n",
    "        for inputs, labels in val_loader:\n",
    "            inputs, labels = inputs.to(device), labels.to(device)\n",
    "            outputs = model(inputs)\n",
    "            loss = criterion(outputs, labels)\n",
    "            val_loss += loss.item() * inputs.size(0)\n",
    "            _, preds = torch.max(outputs, 1)\n",
    "            val_correct += torch.sum(preds == labels.data)\n",
    "\n",
    "    train_loss /= len(train_data)\n",
    "    train_accuracy = 100.0 * train_correct / len(train_data)\n",
    "    val_loss /= len(val_data)\n",
    "    val_accuracy = 100.0 * val_correct / len(val_data)\n",
    "\n",
    "    train_losses.append(train_loss)\n",
    "    train_accuracies.append(train_accuracy)\n",
    "    val_losses.append(val_loss)\n",
    "    val_accuracies.append(val_accuracy)\n",
    "\n",
    "    print(f'Epoch [{epoch+1}/{num_epochs}], Train Loss: {train_loss:.4f}, Train Acc: {train_accuracy:.2f}%, Val Loss: {val_loss:.4f}, Val Acc: {val_accuracy:.2f}%')\n",
    "\n",
    "\n"
   ]
  },
  {
   "cell_type": "code",
   "execution_count": 17,
   "metadata": {
    "id": "93XB7xQE4B8J"
   },
   "outputs": [
    {
     "name": "stdout",
     "output_type": "stream",
     "text": [
      "Accuracy of the network on the test images: 65 %\n",
      "Test loss is  1.4094692690472772\n"
     ]
    }
   ],
   "source": [
    "correct = 0\n",
    "total = 0\n",
    "y_true = []\n",
    "y_pred = []\n",
    "test_losses = []\n",
    "test_accuracies = []\n",
    "test_loss = 0\n",
    "with torch.no_grad():\n",
    "    for data in test_loader:\n",
    "        inputs, labels = data\n",
    "        inputs= inputs.to(device)\n",
    "        labels = labels.to(device)\n",
    "        outputs = model(inputs)\n",
    "        loss = criterion(outputs, labels)\n",
    "        test_loss += loss.item()\n",
    "        \n",
    "        _, predicted = torch.max(outputs.data, 1)\n",
    "        total += labels.size(0)\n",
    "        correct += (predicted == labels).sum().item()\n",
    "        y_true.extend(labels.cpu().numpy())\n",
    "        y_pred.extend(predicted.cpu().numpy())\n",
    "test_loss /= len(val_loader)\n",
    "test_accuracy = 100 * correct / total\n",
    "test_losses.append(test_loss)\n",
    "test_accuracies.append(test_accuracy)\n",
    "\n",
    "print('Accuracy of the network on the test images: %d %%' % (test_accuracy))\n",
    "print('Test loss is ',(test_loss))"
   ]
  },
  {
   "cell_type": "markdown",
   "metadata": {
    "id": "nYLE-xlh4B3p"
   },
   "source": [
    "### We will apply drop outs and early stopping in order to avoid over fitting"
   ]
  },
  {
   "cell_type": "code",
   "execution_count": 13,
   "metadata": {},
   "outputs": [],
   "source": [
    "class Block(nn.Module):\n",
    "    def __init__(self, in_channels, out_channels, identity_downsample=None, stride=1):\n",
    "\n",
    "        super(Block, self).__init__()\n",
    "        self.conv1 = nn.Conv2d(in_channels, out_channels, kernel_size=3, stride=stride, padding=1, bias=False)\n",
    "        self.batchnorm1 = nn.BatchNorm2d(out_channels)\n",
    "        self.conv2 = nn.Conv2d(out_channels, out_channels, kernel_size=3, stride=1, padding=1, bias=False)\n",
    "        self.batchnorm2 = nn.BatchNorm2d(out_channels)\n",
    "        self.relu = nn.ReLU()\n",
    "        self.identity_downsample = identity_downsample\n",
    "        self.dropout = nn.Dropout(0.38)\n",
    "\n",
    "    def forward(self, x):\n",
    "        identity = x.clone()\n",
    "\n",
    "        x = self.conv1(x)\n",
    "        x = self.batchnorm1(x)\n",
    "        x = self.relu(x)\n",
    "        x = self.dropout(x)\n",
    "        x = self.conv2(x)\n",
    "        x = self.batchnorm2(x)\n",
    "\n",
    "        if self.identity_downsample is not None:\n",
    "            identity = self.identity_downsample(identity)\n",
    "\n",
    "        x += identity\n",
    "        x = self.relu(x)\n",
    "        x = self.dropout(x)\n",
    "        return x\n"
   ]
  },
  {
   "cell_type": "code",
   "execution_count": 14,
   "metadata": {},
   "outputs": [],
   "source": [
    "\n",
    "class ResNet(nn.Module):\n",
    "  \n",
    "  def __init__(self, block, layers, image_channels, num_classes):\n",
    "    super(ResNet, self).__init__()\n",
    "    self.expansion = 1 # expansion factor is 1 for resnet 18, it is 4 for resnet 50,101 and 152\n",
    "    self.in_channels = 64\n",
    "    self.conv1 = nn.Conv2d(image_channels, 64, kernel_size=7, stride=2, padding=3, bias=False) # Extracts the low level features from input image\n",
    "    self.bn1 = nn.BatchNorm2d(64)\n",
    "    self.relu = nn.ReLU()\n",
    "    self.maxpool = nn.MaxPool2d(kernel_size=3, stride=2, padding=1)\n",
    "    # Feature map size of 112 * 112\n",
    "    self.layer1 = self.make_layer(block, layers[0], out_channels=64, stride=1) # Two convolutions with 64 outputs\n",
    "    self.layer2 = self.make_layer(block, layers[1], out_channels=128, stride=2) # Two convolution with 128 outputs\n",
    "    self.layer3 = self.make_layer(block, layers[2], out_channels=256, stride=2) # Two convolutions with 256 outputs\n",
    "    self.layer4 = self.make_layer(block, layers[3], out_channels=512, stride=2) # Two convolution with 512 outputs\n",
    "    # Feature map size of 7 * 7\n",
    "    self.avgpool = nn.AdaptiveAvgPool2d((1, 1))\n",
    "    self.fc = nn.Linear(512 * self.expansion, num_classes)\n",
    "# Increasing the filter size will help us to create more deep model and capture complex models\n",
    "  def forward(self, x):\n",
    "    x = self.conv1(x)\n",
    "    x = self.bn1(x)\n",
    "    x = self.relu(x)\n",
    "    x = self.maxpool(x)\n",
    "\n",
    "    x = self.layer1(x)\n",
    "    x = self.layer2(x)\n",
    "    x = self.layer3(x)\n",
    "    x = self.layer4(x)\n",
    "\n",
    "    x = self.avgpool(x)\n",
    "    x = torch.flatten(x,1)\n",
    "    x = self.fc(x)\n",
    "\n",
    "    return x\n",
    "\n",
    "  def make_layer(self, block, num_residual_blocks, out_channels, stride):\n",
    "    identity_downsample = None # initially identity_downsample is none\n",
    "    layers = []\n",
    "\n",
    "    if stride != 1 or self.in_channels != self.expansion * out_channels:\n",
    "        identity_downsample = nn.Sequential(\n",
    "            nn.Conv2d(self.in_channels, self.expansion * out_channels, kernel_size=1, stride=stride, bias=False),\n",
    "            nn.BatchNorm2d(self.expansion * out_channels)\n",
    "        )\n",
    "        # when above case occurs we create a identity_downsample with 1*1 conv layer to match number of channels\n",
    "\n",
    "    layers.append(block(self.in_channels, out_channels, identity_downsample, stride)) # append the first residual block with matched dimensions to layers\n",
    "    self.in_channels = out_channels * self.expansion # update input channels\n",
    "\n",
    "    for i in range(num_residual_blocks - 1): # append remaining residual blocks\n",
    "        layers.append(block(self.in_channels, out_channels))\n",
    "\n",
    "    return nn.Sequential(*layers)"
   ]
  },
  {
   "cell_type": "code",
   "execution_count": 15,
   "metadata": {
    "id": "sX8IEoMA4BzY"
   },
   "outputs": [],
   "source": [
    "def ResNet18(img_channel=3, num_classes=len(data.classes)):\n",
    "    return ResNet(Block, [2, 2, 2, 2], img_channel, num_classes)\n"
   ]
  },
  {
   "cell_type": "code",
   "execution_count": 16,
   "metadata": {
    "id": "cB4j5wY64BrX"
   },
   "outputs": [],
   "source": [
    "model = ResNet18(num_classes=len(data.classes)).to(device)\n",
    "criterion = nn.CrossEntropyLoss()\n",
    "optimizer = optim.SGD(model.parameters(), lr=0.1, momentum=0.9, weight_decay=1e-4)"
   ]
  },
  {
   "cell_type": "code",
   "execution_count": 17,
   "metadata": {
    "id": "bJ-O0oO94Blq"
   },
   "outputs": [
    {
     "name": "stdout",
     "output_type": "stream",
     "text": [
      "Epoch [1/50] Train Loss: 2.4430,Train_accuracy : 21.2148%, Val Loss: 2.0782, Val_accuracy: 32.3127%\n",
      "Epoch [2/50] Train Loss: 1.8837,Train_accuracy : 38.4708%, Val Loss: 1.8831, Val_accuracy: 39.6300%\n",
      "Epoch [3/50] Train Loss: 1.6211,Train_accuracy : 47.6331%, Val Loss: 1.5704, Val_accuracy: 49.9260%\n",
      "Epoch [4/50] Train Loss: 1.4505,Train_accuracy : 53.3204%, Val Loss: 1.5739, Val_accuracy: 50.6198%\n",
      "Epoch [5/50] Train Loss: 1.3353,Train_accuracy : 57.2176%, Val Loss: 1.5418, Val_accuracy: 51.0546%\n",
      "Epoch [6/50] Train Loss: 1.2576,Train_accuracy : 59.5786%, Val Loss: 1.2258, Val_accuracy: 60.3423%\n",
      "Epoch [7/50] Train Loss: 1.1982,Train_accuracy : 61.5569%, Val Loss: 1.3311, Val_accuracy: 57.1785%\n",
      "Epoch [8/50] Train Loss: 1.1515,Train_accuracy : 62.8395%, Val Loss: 1.2064, Val_accuracy: 61.8501%\n",
      "Epoch [9/50] Train Loss: 1.1075,Train_accuracy : 64.2588%, Val Loss: 1.2280, Val_accuracy: 60.6660%\n",
      "Epoch [10/50] Train Loss: 1.0658,Train_accuracy : 65.6940%, Val Loss: 1.5092, Val_accuracy: 53.3488%\n",
      "Epoch [11/50] Train Loss: 1.0384,Train_accuracy : 66.8893%, Val Loss: 1.0505, Val_accuracy: 67.0028%\n",
      "Epoch [12/50] Train Loss: 1.0182,Train_accuracy : 67.3255%, Val Loss: 1.0985, Val_accuracy: 65.6614%\n",
      "Epoch [13/50] Train Loss: 0.9877,Train_accuracy : 68.3582%, Val Loss: 1.0385, Val_accuracy: 66.9195%\n",
      "Epoch [14/50] Train Loss: 0.9732,Train_accuracy : 68.8836%, Val Loss: 0.9945, Val_accuracy: 67.8446%\n",
      "Epoch [15/50] Train Loss: 0.9455,Train_accuracy : 69.4802%, Val Loss: 1.2007, Val_accuracy: 62.0444%\n",
      "Epoch [16/50] Train Loss: 0.9313,Train_accuracy : 69.9461%, Val Loss: 1.0560, Val_accuracy: 66.5310%\n",
      "Epoch [17/50] Train Loss: 0.9193,Train_accuracy : 70.4734%, Val Loss: 1.2658, Val_accuracy: 62.2664%\n",
      "Epoch [18/50] Train Loss: 0.9064,Train_accuracy : 70.6795%, Val Loss: 1.0471, Val_accuracy: 67.0213%\n",
      "Epoch [19/50] Train Loss: 0.8960,Train_accuracy : 71.3317%, Val Loss: 1.3283, Val_accuracy: 58.0851%\n",
      "Epoch [20/50] Train Loss: 0.8832,Train_accuracy : 71.6073%, Val Loss: 1.0306, Val_accuracy: 67.7798%\n",
      "Epoch [21/50] Train Loss: 0.8703,Train_accuracy : 72.0810%, Val Loss: 0.9321, Val_accuracy: 70.4995%\n",
      "Epoch [22/50] Train Loss: 0.8656,Train_accuracy : 72.3487%, Val Loss: 1.2272, Val_accuracy: 62.6457%\n",
      "Epoch [23/50] Train Loss: 0.8539,Train_accuracy : 72.5885%, Val Loss: 1.0101, Val_accuracy: 68.7512%\n",
      "Epoch [24/50] Train Loss: 0.8523,Train_accuracy : 72.7035%, Val Loss: 1.0402, Val_accuracy: 67.6873%\n",
      "Epoch [25/50] Train Loss: 0.8361,Train_accuracy : 73.0484%, Val Loss: 1.3105, Val_accuracy: 60.7216%\n",
      "Epoch [26/50] Train Loss: 0.8312,Train_accuracy : 73.1753%, Val Loss: 1.2250, Val_accuracy: 62.2109%\n",
      "Epoch [27/50] Train Loss: 0.8309,Train_accuracy : 72.9433%, Val Loss: 1.1867, Val_accuracy: 63.4783%\n",
      "Epoch [28/50] Train Loss: 0.8288,Train_accuracy : 73.1297%, Val Loss: 1.0957, Val_accuracy: 66.3367%\n",
      "Epoch [29/50] Train Loss: 0.8211,Train_accuracy : 73.5341%, Val Loss: 1.0154, Val_accuracy: 68.7697%\n",
      "Epoch [30/50] Train Loss: 0.8177,Train_accuracy : 73.6808%, Val Loss: 0.9506, Val_accuracy: 69.7872%\n",
      "Epoch [31/50] Train Loss: 0.8056,Train_accuracy : 73.7977%, Val Loss: 0.8952, Val_accuracy: 71.2026%\n",
      "Epoch [32/50] Train Loss: 0.8025,Train_accuracy : 74.1446%, Val Loss: 1.0903, Val_accuracy: 66.9288%\n",
      "Epoch [33/50] Train Loss: 0.8029,Train_accuracy : 74.1466%, Val Loss: 1.0354, Val_accuracy: 68.9824%\n",
      "Epoch [34/50] Train Loss: 0.7993,Train_accuracy : 74.3012%, Val Loss: 0.9067, Val_accuracy: 71.4061%\n",
      "Epoch [35/50] Train Loss: 0.7896,Train_accuracy : 74.3666%, Val Loss: 0.9664, Val_accuracy: 70.3330%\n",
      "Epoch [36/50] Train Loss: 0.7932,Train_accuracy : 74.4737%, Val Loss: 1.0226, Val_accuracy: 68.4644%\n",
      "Epoch [37/50] Train Loss: 0.7898,Train_accuracy : 74.4539%, Val Loss: 0.9357, Val_accuracy: 70.3238%\n",
      "Epoch [38/50] Train Loss: 0.7820,Train_accuracy : 74.6818%, Val Loss: 0.8503, Val_accuracy: 73.6540%\n",
      "Epoch [39/50] Train Loss: 0.7825,Train_accuracy : 74.6144%, Val Loss: 0.9303, Val_accuracy: 70.5365%\n",
      "Epoch [40/50] Train Loss: 0.7773,Train_accuracy : 74.8484%, Val Loss: 0.8892, Val_accuracy: 71.7206%\n",
      "Epoch [41/50] Train Loss: 0.7783,Train_accuracy : 74.9435%, Val Loss: 1.0005, Val_accuracy: 68.5106%\n",
      "Epoch [42/50] Train Loss: 0.7698,Train_accuracy : 75.0624%, Val Loss: 0.9250, Val_accuracy: 70.8141%\n",
      "Epoch [43/50] Train Loss: 0.7681,Train_accuracy : 75.2706%, Val Loss: 1.0310, Val_accuracy: 68.6679%\n",
      "Epoch [44/50] Train Loss: 0.7629,Train_accuracy : 75.4054%, Val Loss: 0.9479, Val_accuracy: 69.7965%\n",
      "Epoch [45/50] Train Loss: 0.7675,Train_accuracy : 74.9296%, Val Loss: 0.8930, Val_accuracy: 71.9889%\n",
      "Epoch [46/50] Train Loss: 0.7656,Train_accuracy : 75.3796%, Val Loss: 0.9439, Val_accuracy: 70.5735%\n",
      "Epoch [47/50] Train Loss: 0.7618,Train_accuracy : 75.3221%, Val Loss: 1.0364, Val_accuracy: 69.2877%\n",
      "Epoch [48/50] Train Loss: 0.7665,Train_accuracy : 75.1715%, Val Loss: 1.0798, Val_accuracy: 67.5578%\n",
      "Epoch [49/50] Train Loss: 0.7583,Train_accuracy : 75.1516%, Val Loss: 0.9618, Val_accuracy: 70.4348%\n",
      "Epoch [50/50] Train Loss: 0.7561,Train_accuracy : 75.5600%, Val Loss: 0.9316, Val_accuracy: 71.3228%\n",
      "Finished Training\n"
     ]
    }
   ],
   "source": [
    "\n",
    "num_epochs = 50\n",
    "train_losses = []\n",
    "train_accuracies = []\n",
    "val_losses = []\n",
    "val_accuracies = []\n",
    "patience = 4\n",
    "best_loss = float('inf')\n",
    "\n",
    "# Training loop\n",
    "for epoch in range(num_epochs):\n",
    "    model.train()\n",
    "    training_loss = 0.0\n",
    "    total = 0\n",
    "    correct = 0\n",
    "    for i, data in enumerate(train_loader, 0):\n",
    "        inputs, labels = data\n",
    "        inputs = inputs.to(device)\n",
    "        labels = labels.to(device)\n",
    "        optimizer.zero_grad()\n",
    "        outputs = model(inputs)\n",
    "        loss = criterion(outputs, labels)\n",
    "        loss.backward()\n",
    "        optimizer.step()\n",
    "        training_loss += loss.item()\n",
    "        _, predicted = torch.max(outputs.data, 1)\n",
    "        total += labels.size(0)\n",
    "        correct += (predicted == labels).sum().item()\n",
    "    training_loss /= len(train_loader)\n",
    "    train_losses.append(training_loss)\n",
    "    train_accuracy = 100 * correct / total\n",
    "    train_accuracies.append(train_accuracy)\n",
    "\n",
    "    # Validation\n",
    "    model.eval()\n",
    "    val_loss = 0.0\n",
    "    correct_val = 0\n",
    "    total_val = 0\n",
    "    with torch.no_grad():\n",
    "        for data in val_loader:\n",
    "            inputs, labels = data\n",
    "            inputs = inputs.to(device)\n",
    "            labels = labels.to(device)\n",
    "            outputs = model(inputs)\n",
    "            loss = criterion(outputs, labels)\n",
    "            val_loss += loss.item()\n",
    "            _, predicted = torch.max(outputs.data, 1)\n",
    "            total_val += labels.size(0)\n",
    "            correct_val += (predicted == labels).sum().item()\n",
    "    val_loss /= len(val_loader)\n",
    "    val_accuracy = 100 * correct_val / total_val\n",
    "    \n",
    "    if val_loss<best_loss:\n",
    "        best_loss = val_loss\n",
    "        counter = 0\n",
    "    else:\n",
    "        counter = 1\n",
    "    if counter == patience:\n",
    "        print('early stopping occured')\n",
    "        torch.save(model.state_dict(), 'resetearly.pth')\n",
    "        break\n",
    "    \n",
    "    val_losses.append(val_loss)\n",
    "    val_accuracies.append(val_accuracy)\n",
    "\n",
    "    print(f\"Epoch [{epoch+1}/{num_epochs}] Train Loss: {training_loss:.4f},Train_accuracy : {train_accuracy:.4f}%, Val Loss: {val_loss:.4f}, Val_accuracy: {val_accuracy:.4f}%\")\n",
    "    if val_accuracy > 72:\n",
    "        savepath = f\"/user/ssheri/Documents/rnet_model_epoch_{epoch+1}.pth\"\n",
    "        torch.save(model.state_dict(), savepath)\n",
    "    \n",
    "\n",
    "print('Finished Training')"
   ]
  },
  {
   "cell_type": "code",
   "execution_count": 26,
   "metadata": {},
   "outputs": [
    {
     "name": "stdout",
     "output_type": "stream",
     "text": [
      "Accuracy of the network on the test images: 74 %\n",
      "Test loss is  0.8211640362600678\n"
     ]
    }
   ],
   "source": [
    "model_path = '/user/ssheri/Documents/rnet_model_epoch_38.pth'\n",
    "model = ResNet18(num_classes=15).to(device)\n",
    "model.load_state_dict(torch.load(model_path))\n",
    "model.eval()\n",
    "\n",
    "\n",
    "correct = 0\n",
    "total = 0\n",
    "y_true = []\n",
    "y_pred = []\n",
    "test_losses = []\n",
    "test_accuracies = []\n",
    "test_loss = 0\n",
    "with torch.no_grad():\n",
    "    for data in test_loader:\n",
    "        inputs, labels = data\n",
    "        inputs= inputs.to(device)\n",
    "        labels = labels.to(device)\n",
    "        outputs = model(inputs)\n",
    "        loss = criterion(outputs, labels)\n",
    "        test_loss += loss.item()\n",
    "        \n",
    "        _, predicted = torch.max(outputs.data, 1)\n",
    "        total += labels.size(0)\n",
    "        correct += (predicted == labels).sum().item()\n",
    "        y_true.extend(labels.cpu().numpy())\n",
    "        y_pred.extend(predicted.cpu().numpy())\n",
    "test_loss /= len(val_loader)\n",
    "test_accuracy = 100 * correct / total\n",
    "test_losses.append(test_loss)\n",
    "test_accuracies.append(test_accuracy)\n",
    "\n",
    "print('Accuracy of the network on the test images: %d %%' % (test_accuracy))\n",
    "print('Test loss is ',(test_loss))"
   ]
  },
  {
   "cell_type": "code",
   "execution_count": 27,
   "metadata": {},
   "outputs": [],
   "source": [
    "import matplotlib.pyplot as plt"
   ]
  },
  {
   "cell_type": "code",
   "execution_count": null,
   "metadata": {},
   "outputs": [],
   "source": []
  },
  {
   "cell_type": "code",
   "execution_count": 28,
   "metadata": {},
   "outputs": [
    {
     "data": {
      "text/plain": [
       "<matplotlib.legend.Legend at 0x1541647b19a0>"
      ]
     },
     "execution_count": 28,
     "metadata": {},
     "output_type": "execute_result"
    },
    {
     "data": {
      "image/png": "[encoded data removed]",
      "text/plain": [
       "<Figure size 1008x360 with 1 Axes>"
      ]
     },
     "metadata": {
      "needs_background": "light"
     },
     "output_type": "display_data"
    }
   ],
   "source": [
    "\n",
    "epochs = range(1, num_epochs + 1)\n",
    "plt.figure(figsize=(14, 5))\n",
    "plt.subplot(1, 2, 1)\n",
    "plt.plot(epochs, train_accuracies, 'b', label='Training Accuracy')\n",
    "plt.plot(epochs, val_accuracies, 'r', label='Validation Accuracy')\n",
    "plt.title('Training and Validation Accuracy')\n",
    "plt.xlabel('Epochs')\n",
    "plt.ylabel('Accuracy')\n",
    "plt.legend()\n"
   ]
  },
  {
   "cell_type": "code",
   "execution_count": 29,
   "metadata": {},
   "outputs": [
    {
     "data": {
      "image/png": "[encoded data removed]",
      "text/plain": [
       "<Figure size 432x288 with 1 Axes>"
      ]
     },
     "metadata": {
      "needs_background": "light"
     },
     "output_type": "display_data"
    }
   ],
   "source": [
    "plt.plot(epochs, train_losses, 'b', label='Training Loss')\n",
    "plt.plot(epochs, val_losses, 'r', label='Validation Loss')\n",
    "plt.title('Training and Validation Loss')\n",
    "plt.xlabel('Epochs')\n",
    "plt.ylabel('Loss')\n",
    "plt.legend()\n",
    "\n",
    "plt.show()"
   ]
  },
  {
   "cell_type": "code",
   "execution_count": 30,
   "metadata": {},
   "outputs": [],
   "source": [
    "torch.save(model.state_dict(), f'resnet_{test_accuracy}_accuracy.pth')"
   ]
  },
  {
   "cell_type": "code",
   "execution_count": 23,
   "metadata": {},
   "outputs": [],
   "source": [
    "from sklearn.metrics import confusion_matrix"
   ]
  },
  {
   "cell_type": "code",
   "execution_count": 24,
   "metadata": {},
   "outputs": [
    {
     "data": {
      "image/png": "[encoded data removed]",
      "text/plain": [
       "<Figure size 720x720 with 2 Axes>"
      ]
     },
     "metadata": {
      "needs_background": "light"
     },
     "output_type": "display_data"
    }
   ],
   "source": [
    "import matplotlib.pyplot as plt\n",
    "import seaborn as sns\n",
    "\n",
    "# Plot confusion matrix\n",
    "cm = confusion_matrix(y_true, y_pred)\n",
    "plt.figure(figsize=(10, 10))\n",
    "sns.heatmap(cm, annot=True, fmt=\"d\")\n",
    "plt.title(\"Confusion Matrix\")\n",
    "plt.xlabel(\"Predicted\")\n",
    "plt.ylabel(\"True\")\n",
    "plt.show()"
   ]
  },
  {
   "cell_type": "markdown",
   "metadata": {},
   "source": [
    "Reference:\n",
    "https://www.run.ai/guides/deep-learning-for-computer-vision/pytorch-resnet\n",
    "\n",
    "https://www.youtube.com/watch?v=DkNIBBBvcPs&t=1393s\n",
    "\n",
    "https://www.youtube.com/watch?v=GWt6Fu05voI&t=786s\n"
   ]
  },
  {
   "cell_type": "code",
   "execution_count": null,
   "metadata": {},
   "outputs": [],
   "source": []
  }
 ],
 "metadata": {
  "colab": {
   "provenance": []
  },
  "kernelspec": {
   "display_name": "RLevn",
   "language": "python",
   "name": "rlevn"
  },
  "language_info": {
   "codemirror_mode": {
    "name": "ipython",
    "version": 3
   },
   "file_extension": ".py",
   "mimetype": "text/x-python",
   "name": "python",
   "nbconvert_exporter": "python",
   "pygments_lexer": "ipython3",
   "version": "3.9.6"
  }
 },
 "nbformat": 4,
 "nbformat_minor": 1
}
