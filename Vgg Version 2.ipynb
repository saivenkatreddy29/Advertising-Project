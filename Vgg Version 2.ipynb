{
 "cells": [
  {
   "cell_type": "code",
   "execution_count": null,
   "metadata": {
    "id": "v-ZYkGOg0Qr_"
   },
   "outputs": [],
   "source": []
  },
  {
   "cell_type": "code",
   "execution_count": null,
   "metadata": {
    "id": "4yBQUGV-0QiA"
   },
   "outputs": [],
   "source": []
  },
  {
   "cell_type": "code",
   "execution_count": 2,
   "metadata": {
    "id": "VnvjjQVv0QdI"
   },
   "outputs": [],
   "source": [
    "import torch\n",
    "from torchvision import datasets, transforms"
   ]
  },
  {
   "cell_type": "code",
   "execution_count": null,
   "metadata": {
    "colab": {
     "base_uri": "https://localhost:8080/",
     "height": 91
    },
    "id": "yrGloZV-0QYX",
    "outputId": "d4a40829-bff2-4e1d-ef20-3606a4fd6954"
   },
   "outputs": [],
   "source": []
  },
  {
   "cell_type": "code",
   "execution_count": null,
   "metadata": {
    "id": "47Orwfd70QSZ"
   },
   "outputs": [],
   "source": []
  },
  {
   "cell_type": "code",
   "execution_count": 3,
   "metadata": {
    "id": "OY_tKjfZz6Ze"
   },
   "outputs": [],
   "source": [
    "import torch\n",
    "import torch.nn as nn\n",
    "import torch.optim as optim\n",
    "from torch.utils.data import DataLoader\n",
    "import torchvision.transforms as transforms\n",
    "import matplotlib.pyplot as plt\n",
    "import numpy as np\n",
    "from sklearn.metrics import confusion_matrix, precision_score, recall_score, f1_score\n"
   ]
  },
  {
   "cell_type": "code",
   "execution_count": 17,
   "metadata": {},
   "outputs": [],
   "source": [
    "import torch.nn as nn\n",
    "import torch.nn.functional as F\n",
    "\n",
    "class VGG13(nn.Module):\n",
    "    def __init__(self, num_classes):\n",
    "        super(VGG13, self).__init__()\n",
    "        # convert 3 inputs to 64 outputs\n",
    "        self.conv1Layer1 = nn.Conv2d(3, 64, kernel_size=3, padding=1)\n",
    "        # activation layer for conv1Layer1\n",
    "        self.relu1Layer1 = nn.ReLU()\n",
    "        # convert 64 inputs from previous to 64 outputs\n",
    "        self.conv1Layer2 = nn.Conv2d(64, 64, kernel_size=3, padding=1)\n",
    "        # activation layer for conv1Layer2\n",
    "        self.relu1Layer2 = nn.ReLU()\n",
    "        # Spacial dimentions are reduced using maxpool\n",
    "        self.maxpool1 = nn.MaxPool2d(kernel_size=2, stride=2)\n",
    "        # convert 64 inputs to 128 outputs\n",
    "        self.conv2Layer1 = nn.Conv2d(64, 128, kernel_size=3, padding=1)\n",
    "        # activation layer for conv2Layer1\n",
    "        self.relu2Layer1 = nn.ReLU()\n",
    "        self.conv2Layer2 = nn.Conv2d(128, 128, kernel_size=3, padding=1)\n",
    "        # activation layer for conv2Layer2\n",
    "        self.relu2Layer2 = nn.ReLU()\n",
    "        # Spacial dimentions are reduced using maxpool\n",
    "        self.maxpool2 = nn.MaxPool2d(kernel_size=2, stride=2)\n",
    "        # convert 128 inputs to 256 output channels\n",
    "        self.conv3Layer1 = nn.Conv2d(128, 256, kernel_size=3, padding=1)\n",
    "        self.relu3Layer1 = nn.ReLU()\n",
    "        # takes 256 inputs and gives 256 output channels\n",
    "        self.conv3Layer2 = nn.Conv2d(256, 256, kernel_size=3, padding=1)\n",
    "        self.relu3Layer2 = nn.ReLU()\n",
    "        self.maxpool3 = nn.MaxPool2d(kernel_size=2, stride=2)\n",
    "        # takes 256 inputs and gives 412 output channels\n",
    "        self.conv4Layer1 = nn.Conv2d(256, 512, kernel_size=3, padding=1)\n",
    "        # activation layer for conv4Layer1\n",
    "        self.relu4Layer1 = nn.ReLU()\n",
    "        # takes 512 inputs from output of previous layer and gives 512 output channels\n",
    "        self.conv4Layer2 = nn.Conv2d(512, 512, kernel_size=3, padding=1)\n",
    "        self.relu4Layer2 = nn.ReLU()\n",
    "        self.maxpool4 = nn.MaxPool2d(kernel_size=2, stride=2)\n",
    "\n",
    "        self.conv5Layer1 = nn.Conv2d(512, 512, kernel_size=3, padding=1)\n",
    "        self.relu5Layer1 = nn.ReLU()\n",
    "        self.conv5Layer2 = nn.Conv2d(512, 512, kernel_size=3, padding=1)\n",
    "        self.relu5Layer2 = nn.ReLU()\n",
    "        self.maxpool5 = nn.MaxPool2d(kernel_size=2, stride=2)\n",
    "        # Avg pooling to reduce the image size to required size\n",
    "        self.avgpool = nn.AdaptiveAvgPool2d((7, 7))\n",
    "        # For predicting model\n",
    "        self.classifier = nn.Sequential(\n",
    "            # Fully connected layer with input 512 * 7 * 7\n",
    "            nn.Linear(512 * 7 * 7, 4096),\n",
    "            # Relu for non linearity\n",
    "            nn.ReLU(),\n",
    "            # Fully connected layer with input 4096 producing output 1000\n",
    "            nn.Linear(4096, 4096),\n",
    "            # Relu for non linearity\n",
    "            nn.ReLU(),\n",
    "            # Takes 1000 inputs and produces the num_classes\n",
    "            nn.Linear(4096, num_classes)\n",
    "        )\n",
    "\n",
    "    def forward(self, x):\n",
    "        x = self.relu1Layer1(self.conv1Layer1(x))\n",
    "        x = self.relu1Layer2(self.conv1Layer2(x))\n",
    "        x = self.maxpool1(x)\n",
    "\n",
    "        x = self.relu2Layer1(self.conv2Layer1(x))\n",
    "        x = self.relu2Layer2(self.conv2Layer2(x))\n",
    "        x = self.maxpool2(x)\n",
    "\n",
    "        x = self.relu3Layer1(self.conv3Layer1(x))\n",
    "        x = self.relu3Layer2(self.conv3Layer2(x))\n",
    "        x = self.maxpool3(x)\n",
    "\n",
    "        x = self.relu4Layer1(self.conv4Layer1(x))\n",
    "        x = self.relu4Layer2(self.conv4Layer2(x))\n",
    "        x = self.maxpool4(x)\n",
    "\n",
    "        x = self.relu5Layer1(self.conv5Layer1(x))\n",
    "        x = self.relu5Layer2(self.conv5Layer2(x))\n",
    "        x = self.maxpool5(x)\n",
    "        # Add avg pooling\n",
    "        x = self.avgpool(x)\n",
    "        # Flattening input for fully connected layer\n",
    "        x = torch.flatten(x, 1)\n",
    "        # classifier for fully connected layer\n",
    "        x = self.classifier(x)\n",
    "        return x\n"
   ]
  },
  {
   "cell_type": "code",
   "execution_count": null,
   "metadata": {
    "id": "bP138E3m6-JU"
   },
   "outputs": [],
   "source": []
  },
  {
   "cell_type": "code",
   "execution_count": 18,
   "metadata": {
    "id": "D-pm01sr6BFA"
   },
   "outputs": [],
   "source": [
    "# Define transformations for data augmentation and preprocessing\n",
    "transform = transforms.Compose([\n",
    "    transforms.ToTensor(),\n",
    "    transforms.Normalize((0.5, 0.5, 0.5), (0.5, 0.5, 0.5))\n",
    "])\n",
    "\n"
   ]
  },
  {
   "cell_type": "code",
   "execution_count": 19,
   "metadata": {},
   "outputs": [
    {
     "data": {
      "text/plain": [
       "'/user/ssheri'"
      ]
     },
     "execution_count": 19,
     "metadata": {},
     "output_type": "execute_result"
    }
   ],
   "source": [
    "pwd"
   ]
  },
  {
   "cell_type": "code",
   "execution_count": 20,
   "metadata": {
    "id": "2yzcJ_GJ4L-V"
   },
   "outputs": [],
   "source": [
    "data = datasets.ImageFolder('/user/ssheri/train_dataset',transform=transform)"
   ]
  },
  {
   "cell_type": "code",
   "execution_count": 21,
   "metadata": {},
   "outputs": [
    {
     "data": {
      "text/plain": [
       "['airport_terminal',\n",
       " 'amusement_park',\n",
       " 'aquarium',\n",
       " 'art_school',\n",
       " 'auditorium',\n",
       " 'bathroom',\n",
       " 'beach',\n",
       " 'bedroom',\n",
       " 'bookstore',\n",
       " 'bus_station-indoor',\n",
       " 'campsite',\n",
       " 'chemistry_lab',\n",
       " 'clothing_store',\n",
       " 'coffee_shop']"
      ]
     },
     "execution_count": 21,
     "metadata": {},
     "output_type": "execute_result"
    }
   ],
   "source": [
    "data.classes"
   ]
  },
  {
   "cell_type": "code",
   "execution_count": 22,
   "metadata": {},
   "outputs": [
    {
     "name": "stdout",
     "output_type": "stream",
     "text": [
      "Label: airport_terminal, Count: 5000\n",
      "Label: amusement_park, Count: 5000\n",
      "Label: aquarium, Count: 5000\n",
      "Label: art_school, Count: 5000\n",
      "Label: auditorium, Count: 5000\n",
      "Label: bathroom, Count: 5000\n",
      "Label: beach, Count: 5000\n",
      "Label: bedroom, Count: 5000\n",
      "Label: bookstore, Count: 5000\n",
      "Label: bus_station-indoor, Count: 5000\n",
      "Label: campsite, Count: 5000\n",
      "Label: chemistry_lab, Count: 3447\n",
      "Label: clothing_store, Count: 5000\n",
      "Label: coffee_shop, Count: 3385\n"
     ]
    }
   ],
   "source": [
    "label_counts = torch.bincount(torch.tensor(data.targets))\n",
    "for label, count in zip(data.classes, label_counts):\n",
    "    print(f\"Label: {label}, Count: {count}\")"
   ]
  },
  {
   "cell_type": "code",
   "execution_count": 23,
   "metadata": {
    "id": "a27sOGSg7e7I"
   },
   "outputs": [],
   "source": [
    "from torch.utils.data import random_split, DataLoader"
   ]
  },
  {
   "cell_type": "code",
   "execution_count": 24,
   "metadata": {
    "id": "LcCT9LfL4L5X"
   },
   "outputs": [],
   "source": [
    "train_size = int(0.7 * len(data))\n",
    "rem = len(data) - train_size\n",
    "test=int(rem/2)\n",
    "\n",
    "train_data, test_data,val_data = random_split(data, [train_size,test,test])"
   ]
  },
  {
   "cell_type": "code",
   "execution_count": 25,
   "metadata": {
    "colab": {
     "base_uri": "https://localhost:8080/"
    },
    "id": "jYjce6xv7i3J",
    "outputId": "3ca713b1-5c74-4e6c-c1aa-ef8ac6c59b61"
   },
   "outputs": [
    {
     "data": {
      "text/plain": [
       "46782"
      ]
     },
     "execution_count": 25,
     "metadata": {},
     "output_type": "execute_result"
    }
   ],
   "source": [
    "len(train_data)"
   ]
  },
  {
   "cell_type": "code",
   "execution_count": 26,
   "metadata": {
    "id": "wW8vpGBR7iS5"
   },
   "outputs": [],
   "source": [
    "train_loader = DataLoader(train_data, batch_size=35, shuffle=True)\n",
    "test_loader = DataLoader(test_data, batch_size=35, shuffle=False)\n",
    "val_loader = DataLoader(val_data,batch_size = 35, shuffle = False)"
   ]
  },
  {
   "cell_type": "code",
   "execution_count": 27,
   "metadata": {
    "id": "ZAXLXpGp8TQ6"
   },
   "outputs": [],
   "source": [
    "device = torch.device(\"cuda\" if torch.cuda.is_available() else \"cpu\")"
   ]
  },
  {
   "cell_type": "code",
   "execution_count": 28,
   "metadata": {
    "colab": {
     "base_uri": "https://localhost:8080/"
    },
    "id": "Sf5s-7wAay35",
    "outputId": "4269e81a-f62e-4b9c-a0cc-fb371def6f58"
   },
   "outputs": [
    {
     "data": {
      "text/plain": [
       "14"
      ]
     },
     "execution_count": 28,
     "metadata": {},
     "output_type": "execute_result"
    }
   ],
   "source": [
    "len(data.classes)"
   ]
  },
  {
   "cell_type": "code",
   "execution_count": 30,
   "metadata": {},
   "outputs": [
    {
     "name": "stdout",
     "output_type": "stream",
     "text": [
      "VGG13(\n",
      "  (conv1Layer1): Conv2d(3, 64, kernel_size=(3, 3), stride=(1, 1), padding=(1, 1))\n",
      "  (relu1Layer1): ReLU()\n",
      "  (conv1Layer2): Conv2d(64, 64, kernel_size=(3, 3), stride=(1, 1), padding=(1, 1))\n",
      "  (relu1Layer2): ReLU()\n",
      "  (maxpool1): MaxPool2d(kernel_size=2, stride=2, padding=0, dilation=1, ceil_mode=False)\n",
      "  (conv2Layer1): Conv2d(64, 128, kernel_size=(3, 3), stride=(1, 1), padding=(1, 1))\n",
      "  (relu2Layer1): ReLU()\n",
      "  (conv2Layer2): Conv2d(128, 128, kernel_size=(3, 3), stride=(1, 1), padding=(1, 1))\n",
      "  (relu2Layer2): ReLU()\n",
      "  (maxpool2): MaxPool2d(kernel_size=2, stride=2, padding=0, dilation=1, ceil_mode=False)\n",
      "  (conv3Layer1): Conv2d(128, 256, kernel_size=(3, 3), stride=(1, 1), padding=(1, 1))\n",
      "  (relu3Layer1): ReLU()\n",
      "  (conv3Layer2): Conv2d(256, 256, kernel_size=(3, 3), stride=(1, 1), padding=(1, 1))\n",
      "  (relu3Layer2): ReLU()\n",
      "  (maxpool3): MaxPool2d(kernel_size=2, stride=2, padding=0, dilation=1, ceil_mode=False)\n",
      "  (conv4Layer1): Conv2d(256, 512, kernel_size=(3, 3), stride=(1, 1), padding=(1, 1))\n",
      "  (relu4Layer1): ReLU()\n",
      "  (conv4Layer2): Conv2d(512, 512, kernel_size=(3, 3), stride=(1, 1), padding=(1, 1))\n",
      "  (relu4Layer2): ReLU()\n",
      "  (maxpool4): MaxPool2d(kernel_size=2, stride=2, padding=0, dilation=1, ceil_mode=False)\n",
      "  (conv5Layer1): Conv2d(512, 512, kernel_size=(3, 3), stride=(1, 1), padding=(1, 1))\n",
      "  (relu5Layer1): ReLU()\n",
      "  (conv5Layer2): Conv2d(512, 512, kernel_size=(3, 3), stride=(1, 1), padding=(1, 1))\n",
      "  (relu5Layer2): ReLU()\n",
      "  (maxpool5): MaxPool2d(kernel_size=2, stride=2, padding=0, dilation=1, ceil_mode=False)\n",
      "  (avgpool): AdaptiveAvgPool2d(output_size=(7, 7))\n",
      "  (classifier): Sequential(\n",
      "    (0): Linear(in_features=25088, out_features=4096, bias=True)\n",
      "    (1): ReLU()\n",
      "    (2): Linear(in_features=4096, out_features=4096, bias=True)\n",
      "    (3): ReLU()\n",
      "    (4): Linear(in_features=4096, out_features=14, bias=True)\n",
      "  )\n",
      ")\n"
     ]
    }
   ],
   "source": [
    "model = VGG13(num_classes=14)\n",
    "print(model)"
   ]
  },
  {
   "cell_type": "code",
   "execution_count": 31,
   "metadata": {
    "id": "stOfHI4H4L0Y"
   },
   "outputs": [],
   "source": [
    "\n",
    "model = VGG13(num_classes=14).to(device)\n",
    "criterion = nn.CrossEntropyLoss()\n",
    "optimizer = optim.Adam(model.parameters(), lr=0.001)"
   ]
  },
  {
   "cell_type": "code",
   "execution_count": null,
   "metadata": {
    "id": "BmDlgB_L7r2W"
   },
   "outputs": [],
   "source": []
  },
  {
   "cell_type": "code",
   "execution_count": 32,
   "metadata": {
    "colab": {
     "background_save": true
    },
    "id": "DpF8Ej3h4CAv",
    "outputId": "d5b6e078-2130-4952-ab59-a9be95d8b8f1"
   },
   "outputs": [
    {
     "name": "stdout",
     "output_type": "stream",
     "text": [
      "Epoch [1/10] Train Loss: 2.2700,Train_accuracy : 22.8806%, Val Loss: 1.8954, Val_accuracy: 37.6858%\n",
      "Epoch [2/10] Train Loss: 1.7782,Train_accuracy : 41.4689%, Val Loss: 1.6070, Val_accuracy: 47.4713%\n",
      "Epoch [3/10] Train Loss: 1.5074,Train_accuracy : 50.4403%, Val Loss: 1.4197, Val_accuracy: 53.4763%\n",
      "Epoch [4/10] Train Loss: 1.3402,Train_accuracy : 56.2203%, Val Loss: 1.3764, Val_accuracy: 54.9127%\n",
      "Epoch [5/10] Train Loss: 1.2142,Train_accuracy : 60.1855%, Val Loss: 1.3016, Val_accuracy: 58.0349%\n",
      "Epoch [6/10] Train Loss: 1.0951,Train_accuracy : 63.7168%, Val Loss: 1.3474, Val_accuracy: 57.7257%\n",
      "Epoch [7/10] Train Loss: 0.9629,Train_accuracy : 68.0326%, Val Loss: 1.3367, Val_accuracy: 59.1521%\n",
      "Epoch [8/10] Train Loss: 0.8227,Train_accuracy : 72.2329%, Val Loss: 1.4255, Val_accuracy: 57.8953%\n",
      "Epoch [9/10] Train Loss: 0.6667,Train_accuracy : 77.3332%, Val Loss: 1.6461, Val_accuracy: 57.1172%\n",
      "Epoch [10/10] Train Loss: 0.5385,Train_accuracy : 81.6275%, Val Loss: 1.9044, Val_accuracy: 57.0873%\n",
      "Finished Training\n"
     ]
    }
   ],
   "source": [
    "\n",
    "num_epochs = 10\n",
    "train_losses = []\n",
    "train_accuracies = []\n",
    "val_losses = []\n",
    "val_accuracies = []\n",
    "patience = 4\n",
    "best_loss = float('inf')\n",
    "\n",
    "# Training loop\n",
    "for epoch in range(num_epochs):\n",
    "    model.train()\n",
    "    training_loss = 0.0\n",
    "    total = 0\n",
    "    correct = 0\n",
    "    for i, data in enumerate(train_loader, 0):\n",
    "        inputs, labels = data\n",
    "        inputs = inputs.to(device)\n",
    "        labels = labels.to(device)\n",
    "        optimizer.zero_grad()\n",
    "        outputs = model(inputs)\n",
    "        loss = criterion(outputs, labels)\n",
    "        loss.backward()\n",
    "        optimizer.step()\n",
    "        training_loss += loss.item()\n",
    "        _, predicted = torch.max(outputs.data, 1)\n",
    "        total += labels.size(0)\n",
    "        correct += (predicted == labels).sum().item()\n",
    "    training_loss /= len(train_loader)\n",
    "    train_losses.append(training_loss)\n",
    "    train_accuracy = 100 * correct / total\n",
    "    train_accuracies.append(train_accuracy)\n",
    "\n",
    "    # Validation\n",
    "    model.eval()\n",
    "    val_loss = 0.0\n",
    "    correct_val = 0\n",
    "    total_val = 0\n",
    "    with torch.no_grad():\n",
    "        for data in val_loader:\n",
    "            inputs, labels = data\n",
    "            inputs = inputs.to(device)\n",
    "            labels = labels.to(device)\n",
    "            outputs = model(inputs)\n",
    "            loss = criterion(outputs, labels)\n",
    "            val_loss += loss.item()\n",
    "            _, predicted = torch.max(outputs.data, 1)\n",
    "            total_val += labels.size(0)\n",
    "            correct_val += (predicted == labels).sum().item()\n",
    "    val_loss /= len(val_loader)\n",
    "    val_accuracy = 100 * correct_val / total_val\n",
    "    \n",
    "    if val_loss<best_loss:\n",
    "        best_loss = val_loss\n",
    "        counter = 0\n",
    "    else:\n",
    "        counter = 1\n",
    "    if counter == patience:\n",
    "        print('early stopping occured')\n",
    "        torch.save(model.state_dict(), 'resetearly.pth')\n",
    "        break\n",
    "    \n",
    "    val_losses.append(val_loss)\n",
    "    val_accuracies.append(val_accuracy)\n",
    "\n",
    "    print(f\"Epoch [{epoch+1}/{num_epochs}] Train Loss: {training_loss:.4f},Train_accuracy : {train_accuracy:.4f}%, Val Loss: {val_loss:.4f}, Val_accuracy: {val_accuracy:.4f}%\")\n",
    "\n",
    "print('Finished Training')"
   ]
  },
  {
   "cell_type": "code",
   "execution_count": 33,
   "metadata": {
    "id": "93XB7xQE4B8J"
   },
   "outputs": [],
   "source": [
    "# 6. Save the best model\n",
    "torch.save(model.state_dict(), 'VGG_project.pth')"
   ]
  },
  {
   "cell_type": "code",
   "execution_count": 34,
   "metadata": {
    "id": "nYLE-xlh4B3p"
   },
   "outputs": [
    {
     "name": "stdout",
     "output_type": "stream",
     "text": [
      "Accuracy of the network on the test images: 56 %\n",
      "Test loss is  1.8788398176120134\n"
     ]
    }
   ],
   "source": [
    "correct = 0\n",
    "total = 0\n",
    "y_true = []\n",
    "y_pred = []\n",
    "test_losses = []\n",
    "test_accuracies = []\n",
    "test_loss = 0\n",
    "with torch.no_grad():\n",
    "    for data in test_loader:\n",
    "        inputs, labels = data\n",
    "        inputs= inputs.to(device)\n",
    "        labels = labels.to(device)\n",
    "        outputs = model(inputs)\n",
    "        loss = criterion(outputs, labels)\n",
    "        test_loss += loss.item()\n",
    "        \n",
    "        _, predicted = torch.max(outputs.data, 1)\n",
    "        total += labels.size(0)\n",
    "        correct += (predicted == labels).sum().item()\n",
    "        y_true.extend(labels.cpu().numpy())\n",
    "        y_pred.extend(predicted.cpu().numpy())\n",
    "test_loss /= len(val_loader)\n",
    "test_accuracy = 100 * correct / total\n",
    "test_losses.append(test_loss)\n",
    "test_accuracies.append(test_accuracy)\n",
    "\n",
    "print('Accuracy of the network on the test images: %d %%' % (test_accuracy))\n",
    "print('Test loss is ',(test_loss))"
   ]
  },
  {
   "cell_type": "code",
   "execution_count": 35,
   "metadata": {
    "id": "sX8IEoMA4BzY"
   },
   "outputs": [
    {
     "data": {
      "text/plain": [
       "<matplotlib.legend.Legend at 0x1455170bce80>"
      ]
     },
     "execution_count": 35,
     "metadata": {},
     "output_type": "execute_result"
    },
    {
     "data": {
      "image/png": "[encoded data removed]",
      "text/plain": [
       "<Figure size 1008x360 with 1 Axes>"
      ]
     },
     "metadata": {
      "needs_background": "light"
     },
     "output_type": "display_data"
    }
   ],
   "source": [
    "\n",
    "epochs = range(1, num_epochs + 1)\n",
    "plt.figure(figsize=(14, 5))\n",
    "plt.subplot(1, 2, 1)\n",
    "plt.plot(epochs, train_accuracies, 'b', label='Training Accuracy')\n",
    "plt.plot(epochs, val_accuracies, 'r', label='Validation Accuracy')\n",
    "plt.title('Training and Validation Accuracy')\n",
    "plt.xlabel('Epochs')\n",
    "plt.ylabel('Accuracy')\n",
    "plt.legend()\n"
   ]
  },
  {
   "cell_type": "code",
   "execution_count": 36,
   "metadata": {
    "id": "cB4j5wY64BrX"
   },
   "outputs": [
    {
     "data": {
      "image/png": "[encoded data removed]",
      "text/plain": [
       "<Figure size 432x288 with 1 Axes>"
      ]
     },
     "metadata": {
      "needs_background": "light"
     },
     "output_type": "display_data"
    }
   ],
   "source": [
    "plt.plot(epochs, train_losses, 'b', label='Training Loss')\n",
    "plt.plot(epochs, val_losses, 'r', label='Validation Loss')\n",
    "plt.title('Training and Validation Loss')\n",
    "plt.xlabel('Epochs')\n",
    "plt.ylabel('Loss')\n",
    "plt.legend()\n",
    "\n",
    "plt.show()"
   ]
  },
  {
   "cell_type": "code",
   "execution_count": 23,
   "metadata": {
    "id": "bJ-O0oO94Blq"
   },
   "outputs": [],
   "source": [
    "from sklearn.metrics import confusion_matrix"
   ]
  },
  {
   "cell_type": "code",
   "execution_count": 24,
   "metadata": {},
   "outputs": [
    {
     "data": {
      "image/png": "[encoded data removed]",
      "text/plain": [
       "<Figure size 720x720 with 2 Axes>"
      ]
     },
     "metadata": {
      "needs_background": "light"
     },
     "output_type": "display_data"
    }
   ],
   "source": [
    "import matplotlib.pyplot as plt\n",
    "import seaborn as sns\n",
    "\n",
    "# Plot confusion matrix\n",
    "cm = confusion_matrix(y_true, y_pred)\n",
    "plt.figure(figsize=(10, 10))\n",
    "sns.heatmap(cm, annot=True, fmt=\"d\")\n",
    "plt.title(\"Confusion Matrix\")\n",
    "plt.xlabel(\"Predicted\")\n",
    "plt.ylabel(\"True\")\n",
    "plt.show()"
   ]
  },
  {
   "cell_type": "code",
   "execution_count": null,
   "metadata": {},
   "outputs": [],
   "source": []
  }
 ],
 "metadata": {
  "colab": {
   "provenance": []
  },
  "kernelspec": {
   "display_name": "RLevn",
   "language": "python",
   "name": "rlevn"
  },
  "language_info": {
   "codemirror_mode": {
    "name": "ipython",
    "version": 3
   },
   "file_extension": ".py",
   "mimetype": "text/x-python",
   "name": "python",
   "nbconvert_exporter": "python",
   "pygments_lexer": "ipython3",
   "version": "3.9.6"
  }
 },
 "nbformat": 4,
 "nbformat_minor": 1
}
