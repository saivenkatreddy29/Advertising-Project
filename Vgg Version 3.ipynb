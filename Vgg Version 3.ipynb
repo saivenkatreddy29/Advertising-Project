{
 "cells": [
  {
   "cell_type": "code",
   "execution_count": null,
   "metadata": {
    "id": "v-ZYkGOg0Qr_"
   },
   "outputs": [],
   "source": []
  },
  {
   "cell_type": "code",
   "execution_count": null,
   "metadata": {
    "id": "4yBQUGV-0QiA"
   },
   "outputs": [],
   "source": []
  },
  {
   "cell_type": "code",
   "execution_count": 2,
   "metadata": {
    "id": "VnvjjQVv0QdI"
   },
   "outputs": [],
   "source": [
    "import torch\n",
    "from torchvision import datasets, transforms"
   ]
  },
  {
   "cell_type": "code",
   "execution_count": null,
   "metadata": {
    "colab": {
     "base_uri": "https://localhost:8080/",
     "height": 91
    },
    "id": "yrGloZV-0QYX",
    "outputId": "d4a40829-bff2-4e1d-ef20-3606a4fd6954"
   },
   "outputs": [],
   "source": []
  },
  {
   "cell_type": "code",
   "execution_count": null,
   "metadata": {
    "id": "47Orwfd70QSZ"
   },
   "outputs": [],
   "source": []
  },
  {
   "cell_type": "code",
   "execution_count": 3,
   "metadata": {
    "id": "OY_tKjfZz6Ze"
   },
   "outputs": [],
   "source": [
    "import torch\n",
    "import torch.nn as nn\n",
    "import torch.optim as optim\n",
    "from torch.utils.data import DataLoader\n",
    "import torchvision.transforms as transforms\n",
    "import matplotlib.pyplot as plt\n",
    "import numpy as np\n",
    "from sklearn.metrics import confusion_matrix, precision_score, recall_score, f1_score\n"
   ]
  },
  {
   "cell_type": "code",
   "execution_count": 4,
   "metadata": {},
   "outputs": [],
   "source": [
    "import torch.nn as nn\n",
    "import torch.nn.functional as F"
   ]
  },
  {
   "cell_type": "code",
   "execution_count": 5,
   "metadata": {},
   "outputs": [],
   "source": [
    "import torch.nn as nn\n",
    "import torch.nn.functional as F\n",
    "\n",
    "class VGG13(nn.Module):\n",
    "    def __init__(self, num_classes):\n",
    "        super(VGG13, self).__init__()\n",
    "        self.features = nn.Sequential(\n",
    "            nn.Conv2d(3, 64, kernel_size=3, padding=1),\n",
    "            nn.BatchNorm2d(64),\n",
    "            nn.ReLU(inplace=True),\n",
    "            nn.Conv2d(64, 64, kernel_size=3, padding=1),\n",
    "            nn.BatchNorm2d(64),\n",
    "            nn.ReLU(inplace=True),\n",
    "            nn.MaxPool2d(kernel_size=2, stride=2),\n",
    "            \n",
    "            nn.Conv2d(64, 128, kernel_size=3, padding=1),\n",
    "            nn.BatchNorm2d(128),\n",
    "            nn.ReLU(inplace=True),\n",
    "            nn.Conv2d(128, 128, kernel_size=3, padding=1),\n",
    "            nn.BatchNorm2d(128),\n",
    "            nn.ReLU(inplace=True),\n",
    "            nn.MaxPool2d(kernel_size=2, stride=2),\n",
    "            \n",
    "            nn.Conv2d(128, 256, kernel_size=3, padding=1),\n",
    "            nn.BatchNorm2d(256),\n",
    "            nn.ReLU(inplace=True),\n",
    "            nn.Conv2d(256, 256, kernel_size=3, padding=1),\n",
    "            nn.BatchNorm2d(256),\n",
    "            nn.ReLU(inplace=True),\n",
    "            nn.MaxPool2d(kernel_size=2, stride=2),\n",
    "            \n",
    "            nn.Conv2d(256, 512, kernel_size=3, padding=1),\n",
    "            nn.BatchNorm2d(512),\n",
    "            nn.ReLU(inplace=True),\n",
    "            nn.Conv2d(512, 512, kernel_size=3, padding=1),\n",
    "            nn.BatchNorm2d(512),\n",
    "            nn.ReLU(inplace=True),\n",
    "            nn.MaxPool2d(kernel_size=2, stride=2),\n",
    "            \n",
    "            nn.Conv2d(512, 512, kernel_size=3, padding=1),\n",
    "            nn.BatchNorm2d(512),\n",
    "            nn.ReLU(inplace=True),\n",
    "            nn.Conv2d(512, 512, kernel_size=3, padding=1),\n",
    "            nn.BatchNorm2d(512),\n",
    "            nn.ReLU(inplace=True),\n",
    "            nn.MaxPool2d(kernel_size=2, stride=2),\n",
    "        )\n",
    "        self.avgpool = nn.AdaptiveAvgPool2d((7, 7))\n",
    "        self.classifier = nn.Sequential(\n",
    "            nn.Linear(512 * 7 * 7, 4096),\n",
    "            nn.ReLU(inplace=True),\n",
    "            nn.Dropout(),\n",
    "            nn.Linear(4096, 4096),\n",
    "            nn.ReLU(inplace=True),\n",
    "            nn.Dropout(),\n",
    "            nn.Linear(4096, num_classes),\n",
    "        )\n",
    "\n",
    "    def forward(self, x):\n",
    "        x = self.features(x)\n",
    "        x = self.avgpool(x)\n",
    "        x = torch.flatten(x, 1)\n",
    "        x = self.classifier(x)\n",
    "        return x"
   ]
  },
  {
   "cell_type": "code",
   "execution_count": null,
   "metadata": {
    "id": "bP138E3m6-JU"
   },
   "outputs": [],
   "source": []
  },
  {
   "cell_type": "code",
   "execution_count": 6,
   "metadata": {
    "id": "D-pm01sr6BFA"
   },
   "outputs": [],
   "source": [
    "# Define transformations for data augmentation and preprocessing\n",
    "transform = transforms.Compose([\n",
    "    transforms.ToTensor(),\n",
    "    transforms.Normalize((0.5, 0.5, 0.5), (0.5, 0.5, 0.5))\n",
    "])\n",
    "\n"
   ]
  },
  {
   "cell_type": "code",
   "execution_count": 7,
   "metadata": {},
   "outputs": [
    {
     "data": {
      "text/plain": [
       "'/user/ssheri'"
      ]
     },
     "execution_count": 7,
     "metadata": {},
     "output_type": "execute_result"
    }
   ],
   "source": [
    "pwd"
   ]
  },
  {
   "cell_type": "code",
   "execution_count": 8,
   "metadata": {
    "id": "2yzcJ_GJ4L-V"
   },
   "outputs": [],
   "source": [
    "data = datasets.ImageFolder('/user/ssheri/train_dataset',transform=transform)"
   ]
  },
  {
   "cell_type": "code",
   "execution_count": 9,
   "metadata": {},
   "outputs": [
    {
     "data": {
      "text/plain": [
       "['airport_terminal',\n",
       " 'bus_station-indoor',\n",
       " 'campsite',\n",
       " 'chemistry_lab',\n",
       " 'clothing_store',\n",
       " 'coffee_shop',\n",
       " 'computer_room']"
      ]
     },
     "execution_count": 9,
     "metadata": {},
     "output_type": "execute_result"
    }
   ],
   "source": [
    "data.classes"
   ]
  },
  {
   "cell_type": "code",
   "execution_count": 10,
   "metadata": {},
   "outputs": [
    {
     "name": "stdout",
     "output_type": "stream",
     "text": [
      "Label: airport_terminal, Count: 4722\n",
      "Label: bus_station-indoor, Count: 5000\n",
      "Label: campsite, Count: 5000\n",
      "Label: chemistry_lab, Count: 3447\n",
      "Label: clothing_store, Count: 5000\n",
      "Label: coffee_shop, Count: 5000\n",
      "Label: computer_room, Count: 3619\n"
     ]
    }
   ],
   "source": [
    "label_counts = torch.bincount(torch.tensor(data.targets))\n",
    "for label, count in zip(data.classes, label_counts):\n",
    "    print(f\"Label: {label}, Count: {count}\")"
   ]
  },
  {
   "cell_type": "code",
   "execution_count": 11,
   "metadata": {
    "id": "a27sOGSg7e7I"
   },
   "outputs": [],
   "source": [
    "from torch.utils.data import random_split, DataLoader"
   ]
  },
  {
   "cell_type": "code",
   "execution_count": 12,
   "metadata": {},
   "outputs": [],
   "source": [
    "train_size = int(0.7 * len(data))"
   ]
  },
  {
   "cell_type": "code",
   "execution_count": 13,
   "metadata": {},
   "outputs": [],
   "source": [
    "\n",
    "rem = len(data) - train_size"
   ]
  },
  {
   "cell_type": "code",
   "execution_count": 14,
   "metadata": {},
   "outputs": [],
   "source": [
    "test=int(rem/2)"
   ]
  },
  {
   "cell_type": "code",
   "execution_count": 15,
   "metadata": {},
   "outputs": [
    {
     "data": {
      "text/plain": [
       "31788"
      ]
     },
     "execution_count": 15,
     "metadata": {},
     "output_type": "execute_result"
    }
   ],
   "source": [
    "len(data)"
   ]
  },
  {
   "cell_type": "code",
   "execution_count": 16,
   "metadata": {},
   "outputs": [],
   "source": [
    "train_size = train_size+1"
   ]
  },
  {
   "cell_type": "code",
   "execution_count": 17,
   "metadata": {},
   "outputs": [
    {
     "data": {
      "text/plain": [
       "4768"
      ]
     },
     "execution_count": 17,
     "metadata": {},
     "output_type": "execute_result"
    }
   ],
   "source": [
    "test"
   ]
  },
  {
   "cell_type": "code",
   "execution_count": 18,
   "metadata": {
    "id": "LcCT9LfL4L5X"
   },
   "outputs": [],
   "source": [
    "\n",
    "\n",
    "train_data, test_data,val_data = random_split(data, [train_size,test,test])"
   ]
  },
  {
   "cell_type": "code",
   "execution_count": 19,
   "metadata": {
    "colab": {
     "base_uri": "https://localhost:8080/"
    },
    "id": "jYjce6xv7i3J",
    "outputId": "3ca713b1-5c74-4e6c-c1aa-ef8ac6c59b61"
   },
   "outputs": [
    {
     "data": {
      "text/plain": [
       "22252"
      ]
     },
     "execution_count": 19,
     "metadata": {},
     "output_type": "execute_result"
    }
   ],
   "source": [
    "len(train_data)"
   ]
  },
  {
   "cell_type": "code",
   "execution_count": 20,
   "metadata": {
    "id": "wW8vpGBR7iS5"
   },
   "outputs": [],
   "source": [
    "train_loader = DataLoader(train_data, batch_size=35, shuffle=True)\n",
    "test_loader = DataLoader(test_data, batch_size=35, shuffle=False)\n",
    "val_loader = DataLoader(val_data,batch_size = 35, shuffle = False)"
   ]
  },
  {
   "cell_type": "code",
   "execution_count": 21,
   "metadata": {
    "id": "ZAXLXpGp8TQ6"
   },
   "outputs": [],
   "source": [
    "device = torch.device(\"cuda\" if torch.cuda.is_available() else \"cpu\")"
   ]
  },
  {
   "cell_type": "code",
   "execution_count": 22,
   "metadata": {
    "colab": {
     "base_uri": "https://localhost:8080/"
    },
    "id": "Sf5s-7wAay35",
    "outputId": "4269e81a-f62e-4b9c-a0cc-fb371def6f58"
   },
   "outputs": [
    {
     "data": {
      "text/plain": [
       "7"
      ]
     },
     "execution_count": 22,
     "metadata": {},
     "output_type": "execute_result"
    }
   ],
   "source": [
    "len(data.classes)"
   ]
  },
  {
   "cell_type": "code",
   "execution_count": 23,
   "metadata": {},
   "outputs": [
    {
     "name": "stdout",
     "output_type": "stream",
     "text": [
      "VGG13(\n",
      "  (features): Sequential(\n",
      "    (0): Conv2d(3, 64, kernel_size=(3, 3), stride=(1, 1), padding=(1, 1))\n",
      "    (1): BatchNorm2d(64, eps=1e-05, momentum=0.1, affine=True, track_running_stats=True)\n",
      "    (2): ReLU(inplace=True)\n",
      "    (3): Conv2d(64, 64, kernel_size=(3, 3), stride=(1, 1), padding=(1, 1))\n",
      "    (4): BatchNorm2d(64, eps=1e-05, momentum=0.1, affine=True, track_running_stats=True)\n",
      "    (5): ReLU(inplace=True)\n",
      "    (6): MaxPool2d(kernel_size=2, stride=2, padding=0, dilation=1, ceil_mode=False)\n",
      "    (7): Conv2d(64, 128, kernel_size=(3, 3), stride=(1, 1), padding=(1, 1))\n",
      "    (8): BatchNorm2d(128, eps=1e-05, momentum=0.1, affine=True, track_running_stats=True)\n",
      "    (9): ReLU(inplace=True)\n",
      "    (10): Conv2d(128, 128, kernel_size=(3, 3), stride=(1, 1), padding=(1, 1))\n",
      "    (11): BatchNorm2d(128, eps=1e-05, momentum=0.1, affine=True, track_running_stats=True)\n",
      "    (12): ReLU(inplace=True)\n",
      "    (13): MaxPool2d(kernel_size=2, stride=2, padding=0, dilation=1, ceil_mode=False)\n",
      "    (14): Conv2d(128, 256, kernel_size=(3, 3), stride=(1, 1), padding=(1, 1))\n",
      "    (15): BatchNorm2d(256, eps=1e-05, momentum=0.1, affine=True, track_running_stats=True)\n",
      "    (16): ReLU(inplace=True)\n",
      "    (17): Conv2d(256, 256, kernel_size=(3, 3), stride=(1, 1), padding=(1, 1))\n",
      "    (18): BatchNorm2d(256, eps=1e-05, momentum=0.1, affine=True, track_running_stats=True)\n",
      "    (19): ReLU(inplace=True)\n",
      "    (20): MaxPool2d(kernel_size=2, stride=2, padding=0, dilation=1, ceil_mode=False)\n",
      "    (21): Conv2d(256, 512, kernel_size=(3, 3), stride=(1, 1), padding=(1, 1))\n",
      "    (22): BatchNorm2d(512, eps=1e-05, momentum=0.1, affine=True, track_running_stats=True)\n",
      "    (23): ReLU(inplace=True)\n",
      "    (24): Conv2d(512, 512, kernel_size=(3, 3), stride=(1, 1), padding=(1, 1))\n",
      "    (25): BatchNorm2d(512, eps=1e-05, momentum=0.1, affine=True, track_running_stats=True)\n",
      "    (26): ReLU(inplace=True)\n",
      "    (27): MaxPool2d(kernel_size=2, stride=2, padding=0, dilation=1, ceil_mode=False)\n",
      "    (28): Conv2d(512, 512, kernel_size=(3, 3), stride=(1, 1), padding=(1, 1))\n",
      "    (29): BatchNorm2d(512, eps=1e-05, momentum=0.1, affine=True, track_running_stats=True)\n",
      "    (30): ReLU(inplace=True)\n",
      "    (31): Conv2d(512, 512, kernel_size=(3, 3), stride=(1, 1), padding=(1, 1))\n",
      "    (32): BatchNorm2d(512, eps=1e-05, momentum=0.1, affine=True, track_running_stats=True)\n",
      "    (33): ReLU(inplace=True)\n",
      "    (34): MaxPool2d(kernel_size=2, stride=2, padding=0, dilation=1, ceil_mode=False)\n",
      "  )\n",
      "  (avgpool): AdaptiveAvgPool2d(output_size=(7, 7))\n",
      "  (classifier): Sequential(\n",
      "    (0): Linear(in_features=25088, out_features=4096, bias=True)\n",
      "    (1): ReLU(inplace=True)\n",
      "    (2): Dropout(p=0.5, inplace=False)\n",
      "    (3): Linear(in_features=4096, out_features=4096, bias=True)\n",
      "    (4): ReLU(inplace=True)\n",
      "    (5): Dropout(p=0.5, inplace=False)\n",
      "    (6): Linear(in_features=4096, out_features=7, bias=True)\n",
      "  )\n",
      ")\n"
     ]
    }
   ],
   "source": [
    "model = VGG13(num_classes=7)\n",
    "print(model)"
   ]
  },
  {
   "cell_type": "code",
   "execution_count": 24,
   "metadata": {
    "id": "stOfHI4H4L0Y"
   },
   "outputs": [],
   "source": [
    "\n",
    "model = VGG13(num_classes=7).to(device)\n",
    "criterion = nn.CrossEntropyLoss()\n",
    "optimizer = optim.Adam(model.parameters(), lr=0.001)"
   ]
  },
  {
   "cell_type": "code",
   "execution_count": 25,
   "metadata": {
    "id": "BmDlgB_L7r2W"
   },
   "outputs": [],
   "source": [
    "from torch.optim.lr_scheduler import ReduceLROnPlateau\n",
    "\n",
    "scheduler = ReduceLROnPlateau(optimizer, mode='min', factor=0.1, patience=3, verbose=True)"
   ]
  },
  {
   "cell_type": "code",
   "execution_count": null,
   "metadata": {},
   "outputs": [],
   "source": []
  },
  {
   "cell_type": "code",
   "execution_count": null,
   "metadata": {},
   "outputs": [],
   "source": []
  },
  {
   "cell_type": "code",
   "execution_count": 26,
   "metadata": {
    "colab": {
     "background_save": true
    },
    "id": "DpF8Ej3h4CAv",
    "outputId": "d5b6e078-2130-4952-ab59-a9be95d8b8f1"
   },
   "outputs": [
    {
     "name": "stdout",
     "output_type": "stream",
     "text": [
      "Epoch [1/50] Train Loss: 2.2763,Train_accuracy : 22.9957%, Val Loss: 1.7852, Val_accuracy: 27.2651%\n",
      "Epoch [2/50] Train Loss: 1.7981,Train_accuracy : 26.3392%, Val Loss: 1.7107, Val_accuracy: 32.6342%\n",
      "Epoch [3/50] Train Loss: 1.7407,Train_accuracy : 29.0041%, Val Loss: 1.6842, Val_accuracy: 33.2844%\n",
      "Epoch [4/50] Train Loss: 1.7089,Train_accuracy : 30.4422%, Val Loss: 1.7039, Val_accuracy: 31.7534%\n",
      "Epoch [5/50] Train Loss: 1.6593,Train_accuracy : 32.6488%, Val Loss: 1.6727, Val_accuracy: 34.3960%\n",
      "Epoch [6/50] Train Loss: 1.5959,Train_accuracy : 36.0552%, Val Loss: 1.5049, Val_accuracy: 39.5763%\n",
      "Epoch [7/50] Train Loss: 1.5360,Train_accuracy : 38.0101%, Val Loss: 1.4618, Val_accuracy: 41.7995%\n",
      "Epoch [8/50] Train Loss: 1.4525,Train_accuracy : 41.1019%, Val Loss: 1.3508, Val_accuracy: 46.9799%\n",
      "Epoch [9/50] Train Loss: 1.3506,Train_accuracy : 46.4183%, Val Loss: 1.2439, Val_accuracy: 53.8171%\n",
      "Epoch [10/50] Train Loss: 1.2193,Train_accuracy : 53.6401%, Val Loss: 1.1222, Val_accuracy: 55.2433%\n",
      "Epoch [11/50] Train Loss: 1.1210,Train_accuracy : 57.6937%, Val Loss: 1.0345, Val_accuracy: 62.9404%\n",
      "Epoch [12/50] Train Loss: 1.0508,Train_accuracy : 60.7855%, Val Loss: 1.0271, Val_accuracy: 61.5772%\n",
      "Epoch [13/50] Train Loss: 1.0026,Train_accuracy : 63.4460%, Val Loss: 0.9345, Val_accuracy: 66.4430%\n",
      "Epoch [14/50] Train Loss: 0.9362,Train_accuracy : 66.4480%, Val Loss: 0.8863, Val_accuracy: 69.9035%\n",
      "Epoch [15/50] Train Loss: 0.8750,Train_accuracy : 68.2545%, Val Loss: 0.9437, Val_accuracy: 65.7508%\n",
      "Epoch [16/50] Train Loss: 0.8320,Train_accuracy : 70.4296%, Val Loss: 0.8077, Val_accuracy: 71.9379%\n",
      "Epoch [17/50] Train Loss: 0.7966,Train_accuracy : 71.3599%, Val Loss: 0.7894, Val_accuracy: 71.6443%\n",
      "Epoch [18/50] Train Loss: 0.7671,Train_accuracy : 72.5643%, Val Loss: 0.7770, Val_accuracy: 73.1544%\n",
      "Epoch [19/50] Train Loss: 0.7333,Train_accuracy : 74.0068%, Val Loss: 0.8244, Val_accuracy: 69.9664%\n",
      "Epoch [20/50] Train Loss: 0.7100,Train_accuracy : 74.7528%, Val Loss: 0.7079, Val_accuracy: 75.5663%\n",
      "Epoch [21/50] Train Loss: 0.6792,Train_accuracy : 76.0471%, Val Loss: 0.7265, Val_accuracy: 74.2659%\n",
      "Epoch [22/50] Train Loss: 0.6382,Train_accuracy : 77.5840%, Val Loss: 0.7436, Val_accuracy: 73.9094%\n",
      "Epoch [23/50] Train Loss: 0.6346,Train_accuracy : 77.5031%, Val Loss: 0.8354, Val_accuracy: 70.3440%\n",
      "Epoch [24/50] Train Loss: 0.6137,Train_accuracy : 78.3525%, Val Loss: 0.6910, Val_accuracy: 75.5872%\n",
      "Epoch [25/50] Train Loss: 0.5802,Train_accuracy : 79.2064%, Val Loss: 0.7405, Val_accuracy: 74.8742%\n",
      "Epoch [26/50] Train Loss: 0.5593,Train_accuracy : 80.6265%, Val Loss: 0.7233, Val_accuracy: 74.0982%\n",
      "Epoch [27/50] Train Loss: 0.5363,Train_accuracy : 81.1118%, Val Loss: 0.6752, Val_accuracy: 77.1812%\n",
      "Epoch [28/50] Train Loss: 0.5208,Train_accuracy : 81.6421%, Val Loss: 0.6360, Val_accuracy: 77.8943%\n",
      "Epoch [29/50] Train Loss: 0.5037,Train_accuracy : 82.2218%, Val Loss: 0.6529, Val_accuracy: 77.2651%\n",
      "Epoch [30/50] Train Loss: 0.4784,Train_accuracy : 83.1341%, Val Loss: 0.7160, Val_accuracy: 74.5805%\n",
      "Epoch [31/50] Train Loss: 0.4646,Train_accuracy : 83.7633%, Val Loss: 0.6583, Val_accuracy: 77.6007%\n",
      "Epoch 00032: reducing learning rate of group 0 to 1.0000e-04.\n",
      "Epoch [32/50] Train Loss: 0.4444,Train_accuracy : 84.5812%, Val Loss: 0.6366, Val_accuracy: 77.4329%\n",
      "Epoch [33/50] Train Loss: 0.3384,Train_accuracy : 88.2707%, Val Loss: 0.5887, Val_accuracy: 80.4530%\n",
      "Epoch [34/50] Train Loss: 0.2966,Train_accuracy : 89.6144%, Val Loss: 0.5944, Val_accuracy: 80.4320%\n",
      "Epoch [35/50] Train Loss: 0.2907,Train_accuracy : 89.7672%, Val Loss: 0.6140, Val_accuracy: 79.8238%\n",
      "Epoch [36/50] Train Loss: 0.2790,Train_accuracy : 90.1088%, Val Loss: 0.6210, Val_accuracy: 80.4950%\n",
      "Epoch 00037: reducing learning rate of group 0 to 1.0000e-05.\n",
      "Epoch [37/50] Train Loss: 0.2701,Train_accuracy : 90.3379%, Val Loss: 0.6166, Val_accuracy: 80.8515%\n",
      "Epoch [38/50] Train Loss: 0.2506,Train_accuracy : 91.1199%, Val Loss: 0.6222, Val_accuracy: 80.5789%\n",
      "Epoch [39/50] Train Loss: 0.2480,Train_accuracy : 91.4345%, Val Loss: 0.6233, Val_accuracy: 80.7466%\n",
      "Epoch [40/50] Train Loss: 0.2464,Train_accuracy : 91.1738%, Val Loss: 0.6277, Val_accuracy: 80.6628%\n",
      "Epoch 00041: reducing learning rate of group 0 to 1.0000e-06.\n",
      "Epoch [41/50] Train Loss: 0.2500,Train_accuracy : 91.2997%, Val Loss: 0.6299, Val_accuracy: 80.3691%\n",
      "Epoch [42/50] Train Loss: 0.2478,Train_accuracy : 91.3761%, Val Loss: 0.6237, Val_accuracy: 80.3691%\n",
      "Epoch [43/50] Train Loss: 0.2483,Train_accuracy : 91.2502%, Val Loss: 0.6218, Val_accuracy: 80.2643%\n",
      "Epoch [44/50] Train Loss: 0.2474,Train_accuracy : 91.4075%, Val Loss: 0.6242, Val_accuracy: 80.8725%\n",
      "Epoch 00045: reducing learning rate of group 0 to 1.0000e-07.\n",
      "Epoch [45/50] Train Loss: 0.2460,Train_accuracy : 91.6052%, Val Loss: 0.6217, Val_accuracy: 80.5159%\n",
      "Epoch [46/50] Train Loss: 0.2439,Train_accuracy : 91.4659%, Val Loss: 0.6254, Val_accuracy: 80.3691%\n",
      "Epoch [47/50] Train Loss: 0.2418,Train_accuracy : 91.6816%, Val Loss: 0.6238, Val_accuracy: 80.7257%\n",
      "Epoch [48/50] Train Loss: 0.2370,Train_accuracy : 91.7805%, Val Loss: 0.6276, Val_accuracy: 80.5159%\n",
      "Epoch 00049: reducing learning rate of group 0 to 1.0000e-08.\n",
      "Epoch [49/50] Train Loss: 0.2443,Train_accuracy : 91.3356%, Val Loss: 0.6271, Val_accuracy: 80.7047%\n",
      "Epoch [50/50] Train Loss: 0.2433,Train_accuracy : 91.6277%, Val Loss: 0.6253, Val_accuracy: 80.5369%\n",
      "Finished Training\n"
     ]
    }
   ],
   "source": [
    "\n",
    "num_epochs = 50\n",
    "train_losses = []\n",
    "train_accuracies = []\n",
    "val_losses = []\n",
    "val_accuracies = []\n",
    "patience = 4\n",
    "best_loss = float('inf')\n",
    "\n",
    "# Training loop\n",
    "for epoch in range(num_epochs):\n",
    "    model.train()\n",
    "    training_loss = 0.0\n",
    "    total = 0\n",
    "    correct = 0\n",
    "    for i, data in enumerate(train_loader, 0):\n",
    "        inputs, labels = data\n",
    "        inputs = inputs.to(device)\n",
    "        labels = labels.to(device)\n",
    "        optimizer.zero_grad()\n",
    "        outputs = model(inputs)\n",
    "        loss = criterion(outputs, labels)\n",
    "        loss.backward()\n",
    "        optimizer.step()\n",
    "        training_loss += loss.item()\n",
    "        _, predicted = torch.max(outputs.data, 1)\n",
    "        total += labels.size(0)\n",
    "        correct += (predicted == labels).sum().item()\n",
    "    training_loss /= len(train_loader)\n",
    "    train_losses.append(training_loss)\n",
    "    train_accuracy = 100 * correct / total\n",
    "    train_accuracies.append(train_accuracy)\n",
    "\n",
    "    # Validation\n",
    "    model.eval()\n",
    "    val_loss = 0.0\n",
    "    correct_val = 0\n",
    "    total_val = 0\n",
    "    with torch.no_grad():\n",
    "        for data in val_loader:\n",
    "            inputs, labels = data\n",
    "            inputs = inputs.to(device)\n",
    "            labels = labels.to(device)\n",
    "            outputs = model(inputs)\n",
    "            loss = criterion(outputs, labels)\n",
    "            val_loss += loss.item()\n",
    "            _, predicted = torch.max(outputs.data, 1)\n",
    "            total_val += labels.size(0)\n",
    "            correct_val += (predicted == labels).sum().item()\n",
    "    val_loss /= len(val_loader)\n",
    "    val_accuracy = 100 * correct_val / total_val\n",
    "    \n",
    "    if val_loss<best_loss:\n",
    "        best_loss = val_loss\n",
    "        counter = 0\n",
    "    else:\n",
    "        counter = 1\n",
    "    if counter == patience:\n",
    "        print('early stopping occured')\n",
    "        torch.save(model.state_dict(), 'resetearly.pth')\n",
    "        break\n",
    "    scheduler.step(val_loss)\n",
    "    val_losses.append(val_loss)\n",
    "    val_accuracies.append(val_accuracy)\n",
    "\n",
    "    print(f\"Epoch [{epoch+1}/{num_epochs}] Train Loss: {training_loss:.4f},Train_accuracy : {train_accuracy:.4f}%, Val Loss: {val_loss:.4f}, Val_accuracy: {val_accuracy:.4f}%\")\n",
    "\n",
    "print('Finished Training')"
   ]
  },
  {
   "cell_type": "code",
   "execution_count": 27,
   "metadata": {
    "id": "93XB7xQE4B8J"
   },
   "outputs": [],
   "source": [
    "# 6. Save the best model\n",
    "torch.save(model.state_dict(), 'VGG_project.pth')"
   ]
  },
  {
   "cell_type": "code",
   "execution_count": 32,
   "metadata": {
    "id": "nYLE-xlh4B3p"
   },
   "outputs": [
    {
     "name": "stdout",
     "output_type": "stream",
     "text": [
      "Accuracy of the network on the test images: 81 %\n",
      "Test loss is  0.6043783163067198\n"
     ]
    }
   ],
   "source": [
    "correct = 0\n",
    "total = 0\n",
    "y_true = []\n",
    "y_pred = []\n",
    "test_losses = []\n",
    "test_accuracies = []\n",
    "test_loss = 0\n",
    "with torch.no_grad():\n",
    "    for data in test_loader:\n",
    "        inputs, labels = data\n",
    "        inputs= inputs.to(device)\n",
    "        labels = labels.to(device)\n",
    "        outputs = model(inputs)\n",
    "        loss = criterion(outputs, labels)\n",
    "        test_loss += loss.item()\n",
    "        \n",
    "        _, predicted = torch.max(outputs.data, 1)\n",
    "        total += labels.size(0)\n",
    "        correct += (predicted == labels).sum().item()\n",
    "        y_true.extend(labels.cpu().numpy())\n",
    "        y_pred.extend(predicted.cpu().numpy())\n",
    "test_loss /= len(val_loader)\n",
    "test_accuracy = 100 * correct / total\n",
    "test_losses.append(test_loss)\n",
    "test_accuracies.append(test_accuracy)\n",
    "\n",
    "print('Accuracy of the network on the test images: %d %%' % (test_accuracy))\n",
    "print('Test loss is ',(test_loss))"
   ]
  },
  {
   "cell_type": "code",
   "execution_count": 33,
   "metadata": {
    "id": "sX8IEoMA4BzY"
   },
   "outputs": [
    {
     "data": {
      "text/plain": [
       "<matplotlib.legend.Legend at 0x1507cdbc9ee0>"
      ]
     },
     "execution_count": 33,
     "metadata": {},
     "output_type": "execute_result"
    },
    {
     "data": {
      "image/png": "[encoded data removed]",
      "text/plain": [
       "<Figure size 1008x360 with 1 Axes>"
      ]
     },
     "metadata": {
      "needs_background": "light"
     },
     "output_type": "display_data"
    }
   ],
   "source": [
    "\n",
    "epochs = range(1, num_epochs + 1)\n",
    "plt.figure(figsize=(14, 5))\n",
    "plt.subplot(1, 2, 1)\n",
    "plt.plot(epochs, train_accuracies, 'b', label='Training Accuracy')\n",
    "plt.plot(epochs, val_accuracies, 'r', label='Validation Accuracy')\n",
    "plt.title('Training and Validation Accuracy')\n",
    "plt.xlabel('Epochs')\n",
    "plt.ylabel('Accuracy')\n",
    "plt.legend()\n"
   ]
  },
  {
   "cell_type": "code",
   "execution_count": 34,
   "metadata": {
    "id": "cB4j5wY64BrX"
   },
   "outputs": [
    {
     "data": {
      "image/png": "[encoded data removed]",
      "text/plain": [
       "<Figure size 432x288 with 1 Axes>"
      ]
     },
     "metadata": {
      "needs_background": "light"
     },
     "output_type": "display_data"
    }
   ],
   "source": [
    "plt.plot(epochs, train_losses, 'b', label='Training Loss')\n",
    "plt.plot(epochs, val_losses, 'r', label='Validation Loss')\n",
    "plt.title('Training and Validation Loss')\n",
    "plt.xlabel('Epochs')\n",
    "plt.ylabel('Loss')\n",
    "plt.legend()\n",
    "\n",
    "plt.show()"
   ]
  },
  {
   "cell_type": "code",
   "execution_count": 35,
   "metadata": {
    "id": "bJ-O0oO94Blq"
   },
   "outputs": [],
   "source": [
    "from sklearn.metrics import confusion_matrix"
   ]
  },
  {
   "cell_type": "code",
   "execution_count": 36,
   "metadata": {},
   "outputs": [
    {
     "data": {
      "image/png": "[encoded data removed]",
      "text/plain": [
       "<Figure size 720x720 with 2 Axes>"
      ]
     },
     "metadata": {
      "needs_background": "light"
     },
     "output_type": "display_data"
    }
   ],
   "source": [
    "import matplotlib.pyplot as plt\n",
    "import seaborn as sns\n",
    "\n",
    "# Plot confusion matrix\n",
    "cm = confusion_matrix(y_true, y_pred)\n",
    "plt.figure(figsize=(10, 10))\n",
    "sns.heatmap(cm, annot=True, fmt=\"d\")\n",
    "plt.title(\"Confusion Matrix\")\n",
    "plt.xlabel(\"Predicted\")\n",
    "plt.ylabel(\"True\")\n",
    "plt.show()"
   ]
  },
  {
   "cell_type": "code",
   "execution_count": null,
   "metadata": {},
   "outputs": [],
   "source": []
  }
 ],
 "metadata": {
  "colab": {
   "provenance": []
  },
  "kernelspec": {
   "display_name": "RLevn",
   "language": "python",
   "name": "rlevn"
  },
  "language_info": {
   "codemirror_mode": {
    "name": "ipython",
    "version": 3
   },
   "file_extension": ".py",
   "mimetype": "text/x-python",
   "name": "python",
   "nbconvert_exporter": "python",
   "pygments_lexer": "ipython3",
   "version": "3.9.6"
  }
 },
 "nbformat": 4,
 "nbformat_minor": 1
}
