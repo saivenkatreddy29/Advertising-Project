{
 "cells": [
  {
   "cell_type": "code",
   "execution_count": 1,
   "id": "deb0219c",
   "metadata": {},
   "outputs": [],
   "source": [
    "import torch\n",
    "from torchvision import datasets, transforms\n",
    "# from torchvision.transforms import v2\n",
    "from torch.utils.data import DataLoader, Dataset, Subset, random_split\n",
    "import torch.nn as nn\n",
    "import torch.nn.functional as F\n",
    "import torch.optim as optim\n",
    "import numpy as  np\n",
    "from torchvision import utils\n",
    "import matplotlib.pyplot as plt\n",
    "import os"
   ]
  },
  {
   "cell_type": "code",
   "execution_count": 2,
   "id": "f1eeb4cb",
   "metadata": {},
   "outputs": [],
   "source": [
    "# !unzip \"Train_dataset_small.zip\" -d \"dataset\""
   ]
  },
  {
   "cell_type": "code",
   "execution_count": 3,
   "id": "5a0771a2",
   "metadata": {},
   "outputs": [
    {
     "data": {
      "text/plain": [
       "device(type='cuda')"
      ]
     },
     "execution_count": 3,
     "metadata": {},
     "output_type": "execute_result"
    }
   ],
   "source": [
    "device = torch.device(\"cuda\" if torch.cuda.is_available() else \"cpu\")\n",
    "device"
   ]
  },
  {
   "cell_type": "code",
   "execution_count": 4,
   "id": "dcc5b8bd",
   "metadata": {},
   "outputs": [],
   "source": [
    "transform = transforms.Compose([\n",
    "            transforms.RandomResizedCrop(224),\n",
    "            transforms.RandomHorizontalFlip(),\n",
    "            transforms.ToTensor(),\n",
    "            transforms.Normalize(mean=[0.485, 0.456, 0.406], std=[0.229, 0.224, 0.225])\n",
    "        ])"
   ]
  },
  {
   "cell_type": "code",
   "execution_count": null,
   "id": "f678b222",
   "metadata": {},
   "outputs": [],
   "source": []
  },
  {
   "cell_type": "code",
   "execution_count": 5,
   "id": "56f1ed10",
   "metadata": {},
   "outputs": [],
   "source": [
    "dataset = datasets.ImageFolder('/user/ssheri/train_dataset',transform=transform)"
   ]
  },
  {
   "cell_type": "code",
   "execution_count": 6,
   "id": "eb7dba79",
   "metadata": {},
   "outputs": [],
   "source": [
    "import torch\n",
    "import torch.nn as nn\n",
    "import torch.optim as optim\n",
    "from torch.utils.data import DataLoader\n",
    "from torchvision import datasets, transforms"
   ]
  },
  {
   "cell_type": "code",
   "execution_count": 7,
   "id": "e8b1a2f7",
   "metadata": {},
   "outputs": [],
   "source": [
    "from torch.utils.data import random_split, DataLoader"
   ]
  },
  {
   "cell_type": "code",
   "execution_count": 8,
   "id": "579e6632",
   "metadata": {},
   "outputs": [],
   "source": [
    "train_size = int(0.7 * len(dataset))\n",
    "rem = len(dataset) - train_size\n",
    "test=int(rem/2)\n"
   ]
  },
  {
   "cell_type": "code",
   "execution_count": 9,
   "id": "5fbb820a",
   "metadata": {},
   "outputs": [],
   "source": [
    "train_size= train_size +1"
   ]
  },
  {
   "cell_type": "code",
   "execution_count": 10,
   "id": "def652d4",
   "metadata": {},
   "outputs": [],
   "source": [
    "\n",
    "train_data, test_data,val_data = random_split(dataset, [train_size,test,test])"
   ]
  },
  {
   "cell_type": "code",
   "execution_count": 11,
   "id": "20572563",
   "metadata": {},
   "outputs": [],
   "source": [
    "train_loader = DataLoader(train_data, batch_size=35, shuffle=True)\n",
    "test_loader = DataLoader(test_data, batch_size=35, shuffle=False)\n",
    "val_loader = DataLoader(val_data,batch_size = 35, shuffle = False)"
   ]
  },
  {
   "cell_type": "code",
   "execution_count": 12,
   "id": "ccbdf2b1",
   "metadata": {},
   "outputs": [
    {
     "data": {
      "text/plain": [
       "8"
      ]
     },
     "execution_count": 12,
     "metadata": {},
     "output_type": "execute_result"
    }
   ],
   "source": [
    "len(dataset.classes)"
   ]
  },
  {
   "cell_type": "code",
   "execution_count": 13,
   "id": "83524a95",
   "metadata": {},
   "outputs": [
    {
     "data": {
      "text/plain": [
       "['airport_terminal',\n",
       " 'auditorium',\n",
       " 'bedroom',\n",
       " 'bookstore',\n",
       " 'bus_station-indoor',\n",
       " 'clothing_store',\n",
       " 'computer_room',\n",
       " 'food_court']"
      ]
     },
     "execution_count": 13,
     "metadata": {},
     "output_type": "execute_result"
    }
   ],
   "source": [
    "dataset.classes"
   ]
  },
  {
   "cell_type": "code",
   "execution_count": 14,
   "id": "67c5fec9",
   "metadata": {},
   "outputs": [
    {
     "name": "stdout",
     "output_type": "stream",
     "text": [
      "AlaxNet_custom(\n",
      "  (conv1): Conv2d(3, 64, kernel_size=(11, 11), stride=(4, 4), padding=(2, 2))\n",
      "  (bn1): BatchNorm2d(64, eps=1e-05, momentum=0.1, affine=True, track_running_stats=True)\n",
      "  (conv2): Conv2d(64, 192, kernel_size=(5, 5), stride=(1, 1), padding=(2, 2))\n",
      "  (bn2): BatchNorm2d(192, eps=1e-05, momentum=0.1, affine=True, track_running_stats=True)\n",
      "  (conv3): Conv2d(192, 384, kernel_size=(3, 3), stride=(1, 1), padding=(1, 1))\n",
      "  (bn3): BatchNorm2d(384, eps=1e-05, momentum=0.1, affine=True, track_running_stats=True)\n",
      "  (conv4): Conv2d(384, 256, kernel_size=(3, 3), stride=(1, 1), padding=(1, 1))\n",
      "  (bn4): BatchNorm2d(256, eps=1e-05, momentum=0.1, affine=True, track_running_stats=True)\n",
      "  (conv5): Conv2d(256, 256, kernel_size=(3, 3), stride=(1, 1), padding=(1, 1))\n",
      "  (bn5): BatchNorm2d(256, eps=1e-05, momentum=0.1, affine=True, track_running_stats=True)\n",
      "  (relu): ReLU(inplace=True)\n",
      "  (maxPool): MaxPool2d(kernel_size=3, stride=2, padding=0, dilation=1, ceil_mode=False)\n",
      "  (dropout): Dropout(p=0.5, inplace=False)\n",
      "  (dropout_conv): Dropout2d(p=0.1, inplace=False)\n",
      "  (fc1): Linear(in_features=9216, out_features=4096, bias=True)\n",
      "  (fc2): Linear(in_features=4096, out_features=4096, bias=True)\n",
      "  (fc3): Linear(in_features=4096, out_features=8, bias=True)\n",
      ")\n"
     ]
    }
   ],
   "source": [
    "import torch\n",
    "import torch.nn as nn\n",
    "import torch.nn.functional as F\n",
    "import torch.nn.init as init\n",
    "\n",
    "class AlaxNet_custom(nn.Module):\n",
    "    def __init__(self, in_channels, out_classes):\n",
    "        super(AlaxNet_custom, self).__init__()\n",
    "        self.conv1 = nn.Conv2d(in_channels=in_channels, out_channels=64, kernel_size=11, stride=4, padding=2)\n",
    "        self.bn1 = nn.BatchNorm2d(64)\n",
    "        self.conv2 = nn.Conv2d(in_channels=64, out_channels=192, kernel_size=5, stride=1, padding=2)\n",
    "        self.bn2 = nn.BatchNorm2d(192)\n",
    "        self.conv3 = nn.Conv2d(in_channels=192, out_channels=384, kernel_size=3, stride=1, padding=1)\n",
    "        self.bn3 = nn.BatchNorm2d(384)\n",
    "        self.conv4 = nn.Conv2d(in_channels=384, out_channels=256, kernel_size=3, stride=1, padding=1)\n",
    "        self.bn4 = nn.BatchNorm2d(256)\n",
    "        self.conv5 = nn.Conv2d(in_channels=256, out_channels=256, kernel_size=3, stride=1, padding=1)\n",
    "        self.bn5 = nn.BatchNorm2d(256)\n",
    "        \n",
    "        self.relu = nn.ReLU(inplace=True)\n",
    "        self.maxPool = nn.MaxPool2d(kernel_size=3, stride=2, padding=0, dilation=1, ceil_mode=False)\n",
    "        self.dropout = nn.Dropout(p=0.5)\n",
    "        self.dropout_conv = nn.Dropout2d(p=0.1)  # New dropout for convolutional layers\n",
    "        self.fc1 = nn.Linear(in_features=9216, out_features=4096)\n",
    "        self.fc2 = nn.Linear(in_features=4096, out_features=4096)\n",
    "        self.fc3 = nn.Linear(in_features=4096, out_features=out_classes)\n",
    "\n",
    "    def forward(self, x):\n",
    "        img = self.bn1(self.conv1(x))\n",
    "        img = self.relu(img)\n",
    "        img = self.maxPool(img)\n",
    "        \n",
    "        img = self.bn2(self.conv2(img))\n",
    "        img = self.relu(img)\n",
    "        img = self.maxPool(img)\n",
    "\n",
    "\n",
    "        img = self.bn3(self.conv3(img))\n",
    "        img = self.relu(img)\n",
    "        \n",
    "\n",
    "        img = self.bn4(self.conv4(img))\n",
    "        img = self.relu(img)\n",
    "        \n",
    "\n",
    "        img = self.bn5(self.conv5(img))\n",
    "        img = self.relu(img)\n",
    "        img = self.maxPool(img)\n",
    "\n",
    "\n",
    "        img = torch.flatten(img, 1)\n",
    "\n",
    "\n",
    "        img = self.fc1(img)\n",
    "        img = self.relu(img)\n",
    "\n",
    "        img = self.fc2(img)\n",
    "        img = self.relu(img)\n",
    "\n",
    "       \n",
    "        img = self.fc3(img)\n",
    "        return img\n",
    "\n",
    "\n",
    "# Create an instance of the model\n",
    "model = AlaxNet_custom(3, 8).to(device)\n",
    "# model.to(device)\n",
    "\n",
    "# Print the model architecture\n",
    "print(model)\n",
    "\n",
    "# Reference: https://blog.paperspace.com/alexnet-pytorch/\n",
    "# Reference: https://github.com/dansuh17/alexnet-pytorch/blob/d0c1b1c52296ffcbecfbf5b17e1d1685b4ca6744/model.py#L40"
   ]
  },
  {
   "cell_type": "code",
   "execution_count": 15,
   "id": "89ba1b7d",
   "metadata": {},
   "outputs": [],
   "source": [
    "def train_model(model, train_loader, val_loader, criterion, optimizer, scheduler, n_epochs):\n",
    "    train_losses, train_accs = [], []\n",
    "    val_losses, val_accs = [], []\n",
    "\n",
    "    for epoch in range(n_epochs):\n",
    "        model.train()\n",
    "        train_loss = 0\n",
    "        train_correct = 0\n",
    "        train_total = 0\n",
    "\n",
    "        for inputs, labels in train_loader:\n",
    "            inputs, labels = inputs.to(device), labels.to(device)\n",
    "            optimizer.zero_grad()\n",
    "            outputs = model(inputs)\n",
    "            loss = criterion(outputs, labels)\n",
    "            loss.backward()\n",
    "            optimizer.step()\n",
    "\n",
    "            train_loss += loss.item()\n",
    "            _, predicted = torch.max(outputs.data, 1)\n",
    "            train_total += labels.size(0)\n",
    "            train_correct += (predicted == labels).sum().item()\n",
    "\n",
    "        train_loss = train_loss / len(train_loader)\n",
    "        train_acc = (train_correct / train_total) * 100\n",
    "        train_losses.append(train_loss)\n",
    "        train_accs.append(train_acc)\n",
    "        if scheduler:\n",
    "            scheduler.step()\n",
    "\n",
    "        # Validation\n",
    "        model.eval()\n",
    "        val_loss = 0\n",
    "        val_correct = 0\n",
    "        val_total = 0\n",
    "\n",
    "        with torch.no_grad():\n",
    "            for inputs, labels in val_loader:\n",
    "                inputs, labels = inputs.to(device), labels.to(device)\n",
    "                outputs = model(inputs)\n",
    "                loss = criterion(outputs, labels)\n",
    "\n",
    "                val_loss += loss.item()\n",
    "                _, predicted = torch.max(outputs.data, 1)\n",
    "                val_total += labels.size(0)\n",
    "                val_correct += (predicted == labels).sum().item()\n",
    "        val_loss = val_loss / len(val_loader)\n",
    "        val_acc = (val_correct / val_total) * 100\n",
    "        val_losses.append(val_loss)\n",
    "        val_accs.append(val_acc)\n",
    "\n",
    "        print(f'Epoch {epoch+1}/{n_epochs}:')\n",
    "        print(f'Train Loss: {train_loss:.4f}, Train Acc: {train_acc:.4f}')\n",
    "        print(f'Val Loss: {val_loss:.4f}, Val Acc: {val_acc:.4f}')\n",
    "\n",
    "    return train_losses, train_accs, val_losses, val_accs"
   ]
  },
  {
   "cell_type": "code",
   "execution_count": 16,
   "id": "d8a1421f",
   "metadata": {},
   "outputs": [],
   "source": [
    "# criterion = nn.CrossEntropyLoss().to(device)\n",
    "# optimizer = torch.optim.Adam(model.parameters(), lr = 0.001)\n",
    "# scheduler = optim.lr_scheduler.StepLR(optimizer, step_size=30, gamma=0.1)"
   ]
  },
  {
   "cell_type": "code",
   "execution_count": 17,
   "id": "9de45f81",
   "metadata": {},
   "outputs": [],
   "source": [
    "from torch.optim.lr_scheduler import ReduceLROnPlateau"
   ]
  },
  {
   "cell_type": "code",
   "execution_count": 18,
   "id": "40e5b27b",
   "metadata": {},
   "outputs": [],
   "source": [
    "# model = ResNet18(num_classes=10).to(device)\n",
    "criterion = nn.CrossEntropyLoss().to(device)\n",
    "optimizer = optim.Adam(model.parameters(), lr=0.001, weight_decay=1e-4)\n",
    "scheduler = ReduceLROnPlateau(optimizer, mode='min', factor=0.1, patience=3, verbose=True)"
   ]
  },
  {
   "cell_type": "code",
   "execution_count": 19,
   "id": "b794a43d",
   "metadata": {},
   "outputs": [
    {
     "name": "stdout",
     "output_type": "stream",
     "text": [
      "Epoch [1/60] Train Loss: 2.0240,Train_accuracy : 29.5354%, Val Loss: 1.7600, Val_accuracy: 35.5764%\n",
      "Epoch [2/60] Train Loss: 1.6547,Train_accuracy : 38.9471%, Val Loss: 1.7506, Val_accuracy: 38.0108%\n",
      "Epoch [3/60] Train Loss: 1.5106,Train_accuracy : 45.2699%, Val Loss: 1.8934, Val_accuracy: 36.8979%\n",
      "Epoch [4/60] Train Loss: 1.3792,Train_accuracy : 50.7918%, Val Loss: 1.3004, Val_accuracy: 54.3384%\n",
      "Epoch [5/60] Train Loss: 1.2859,Train_accuracy : 54.4618%, Val Loss: 1.2891, Val_accuracy: 54.3036%\n",
      "Epoch [6/60] Train Loss: 1.2279,Train_accuracy : 57.1333%, Val Loss: 1.2536, Val_accuracy: 56.4597%\n",
      "Epoch [7/60] Train Loss: 1.1802,Train_accuracy : 59.0149%, Val Loss: 1.2314, Val_accuracy: 56.5119%\n",
      "Epoch [8/60] Train Loss: 1.1419,Train_accuracy : 60.5164%, Val Loss: 1.1737, Val_accuracy: 59.9548%\n",
      "Epoch [9/60] Train Loss: 1.1111,Train_accuracy : 61.6044%, Val Loss: 1.1667, Val_accuracy: 60.6503%\n",
      "Epoch [10/60] Train Loss: 1.0851,Train_accuracy : 62.1409%, Val Loss: 1.1179, Val_accuracy: 61.2589%\n",
      "Epoch [11/60] Train Loss: 1.0581,Train_accuracy : 63.4599%, Val Loss: 1.0563, Val_accuracy: 63.1021%\n",
      "Epoch [12/60] Train Loss: 1.0406,Train_accuracy : 63.7244%, Val Loss: 1.0740, Val_accuracy: 62.5283%\n",
      "Epoch [13/60] Train Loss: 1.0188,Train_accuracy : 65.1217%, Val Loss: 1.1729, Val_accuracy: 59.2419%\n",
      "Epoch [14/60] Train Loss: 0.9941,Train_accuracy : 65.5613%, Val Loss: 1.0641, Val_accuracy: 63.5889%\n",
      "Epoch [15/60] Train Loss: 0.9864,Train_accuracy : 65.7774%, Val Loss: 0.9677, Val_accuracy: 67.3796%\n",
      "Epoch [16/60] Train Loss: 0.9721,Train_accuracy : 66.5338%, Val Loss: 1.0911, Val_accuracy: 62.5109%\n",
      "Epoch [17/60] Train Loss: 0.9445,Train_accuracy : 67.2976%, Val Loss: 1.1994, Val_accuracy: 60.6503%\n",
      "Epoch [18/60] Train Loss: 0.9441,Train_accuracy : 67.2156%, Val Loss: 0.9549, Val_accuracy: 66.8753%\n",
      "Epoch [19/60] Train Loss: 0.9311,Train_accuracy : 67.8304%, Val Loss: 0.9788, Val_accuracy: 65.9364%\n",
      "Epoch [20/60] Train Loss: 0.9137,Train_accuracy : 68.4936%, Val Loss: 0.9844, Val_accuracy: 66.1798%\n",
      "Epoch [21/60] Train Loss: 0.9048,Train_accuracy : 68.7917%, Val Loss: 1.0853, Val_accuracy: 62.9804%\n",
      "Epoch 00022: reducing learning rate of group 0 to 1.0000e-04.\n",
      "Epoch [22/60] Train Loss: 0.9000,Train_accuracy : 69.0450%, Val Loss: 1.0023, Val_accuracy: 66.3885%\n",
      "Epoch [23/60] Train Loss: 0.7925,Train_accuracy : 72.9126%, Val Loss: 0.7678, Val_accuracy: 73.4481%\n",
      "Epoch [24/60] Train Loss: 0.7477,Train_accuracy : 74.3843%, Val Loss: 0.7728, Val_accuracy: 73.7437%\n",
      "Epoch [25/60] Train Loss: 0.7330,Train_accuracy : 74.8277%, Val Loss: 0.7641, Val_accuracy: 73.8306%\n",
      "Epoch [26/60] Train Loss: 0.7289,Train_accuracy : 74.8836%, Val Loss: 0.7602, Val_accuracy: 74.2306%\n",
      "Epoch [27/60] Train Loss: 0.7167,Train_accuracy : 75.4238%, Val Loss: 0.7628, Val_accuracy: 74.0741%\n",
      "Epoch [28/60] Train Loss: 0.7093,Train_accuracy : 75.3828%, Val Loss: 0.7541, Val_accuracy: 74.0393%\n",
      "Epoch [29/60] Train Loss: 0.7000,Train_accuracy : 75.9939%, Val Loss: 0.7574, Val_accuracy: 74.6479%\n",
      "Epoch [30/60] Train Loss: 0.6963,Train_accuracy : 76.0796%, Val Loss: 0.7562, Val_accuracy: 74.3523%\n",
      "Epoch [31/60] Train Loss: 0.6912,Train_accuracy : 76.3069%, Val Loss: 0.7529, Val_accuracy: 73.6568%\n",
      "Epoch [32/60] Train Loss: 0.6834,Train_accuracy : 76.4186%, Val Loss: 0.7299, Val_accuracy: 75.4825%\n",
      "Epoch [33/60] Train Loss: 0.6805,Train_accuracy : 76.4596%, Val Loss: 0.7318, Val_accuracy: 75.0652%\n",
      "Epoch [34/60] Train Loss: 0.6684,Train_accuracy : 76.7838%, Val Loss: 0.7583, Val_accuracy: 73.9002%\n",
      "Epoch [35/60] Train Loss: 0.6625,Train_accuracy : 77.0670%, Val Loss: 0.7459, Val_accuracy: 74.7522%\n",
      "Epoch 00036: reducing learning rate of group 0 to 1.0000e-05.\n",
      "Epoch [36/60] Train Loss: 0.6651,Train_accuracy : 77.0819%, Val Loss: 0.7413, Val_accuracy: 74.7522%\n",
      "Epoch [37/60] Train Loss: 0.6333,Train_accuracy : 78.1326%, Val Loss: 0.7313, Val_accuracy: 75.4999%\n",
      "Epoch [38/60] Train Loss: 0.6320,Train_accuracy : 78.1326%, Val Loss: 0.6977, Val_accuracy: 75.6912%\n",
      "Epoch [39/60] Train Loss: 0.6296,Train_accuracy : 78.3561%, Val Loss: 0.7407, Val_accuracy: 74.8392%\n",
      "Epoch [40/60] Train Loss: 0.6317,Train_accuracy : 78.0171%, Val Loss: 0.7118, Val_accuracy: 76.1607%\n",
      "Epoch [41/60] Train Loss: 0.6221,Train_accuracy : 78.6654%, Val Loss: 0.7286, Val_accuracy: 75.1348%\n",
      "Epoch 00042: reducing learning rate of group 0 to 1.0000e-06.\n",
      "Epoch [42/60] Train Loss: 0.6181,Train_accuracy : 78.5760%, Val Loss: 0.7146, Val_accuracy: 75.8998%\n",
      "Epoch [43/60] Train Loss: 0.6193,Train_accuracy : 78.7175%, Val Loss: 0.7119, Val_accuracy: 75.6738%\n",
      "Epoch [44/60] Train Loss: 0.6219,Train_accuracy : 78.4195%, Val Loss: 0.7117, Val_accuracy: 75.9172%\n",
      "Epoch [45/60] Train Loss: 0.6178,Train_accuracy : 78.6654%, Val Loss: 0.7277, Val_accuracy: 75.3608%\n",
      "Epoch 00046: reducing learning rate of group 0 to 1.0000e-07.\n",
      "Epoch [46/60] Train Loss: 0.6161,Train_accuracy : 78.6207%, Val Loss: 0.7343, Val_accuracy: 75.0304%\n",
      "Epoch [47/60] Train Loss: 0.6245,Train_accuracy : 78.2704%, Val Loss: 0.7199, Val_accuracy: 75.6042%\n",
      "Epoch [48/60] Train Loss: 0.6291,Train_accuracy : 78.1288%, Val Loss: 0.7053, Val_accuracy: 75.5521%\n",
      "Epoch [49/60] Train Loss: 0.6214,Train_accuracy : 78.6058%, Val Loss: 0.7154, Val_accuracy: 75.6042%\n",
      "Epoch 00050: reducing learning rate of group 0 to 1.0000e-08.\n",
      "Epoch [50/60] Train Loss: 0.6168,Train_accuracy : 78.6840%, Val Loss: 0.6991, Val_accuracy: 76.4737%\n",
      "Epoch [51/60] Train Loss: 0.6167,Train_accuracy : 78.4865%, Val Loss: 0.7319, Val_accuracy: 75.1695%\n",
      "Epoch [52/60] Train Loss: 0.6230,Train_accuracy : 78.4046%, Val Loss: 0.7240, Val_accuracy: 75.2913%\n",
      "Epoch [53/60] Train Loss: 0.6248,Train_accuracy : 78.3748%, Val Loss: 0.7135, Val_accuracy: 75.3956%\n",
      "Epoch [54/60] Train Loss: 0.6222,Train_accuracy : 78.3785%, Val Loss: 0.7140, Val_accuracy: 76.2128%\n",
      "Epoch [55/60] Train Loss: 0.6219,Train_accuracy : 78.6318%, Val Loss: 0.7341, Val_accuracy: 75.5521%\n",
      "Epoch [56/60] Train Loss: 0.6146,Train_accuracy : 78.5983%, Val Loss: 0.7094, Val_accuracy: 76.1607%\n",
      "Epoch [57/60] Train Loss: 0.6140,Train_accuracy : 78.8964%, Val Loss: 0.7138, Val_accuracy: 76.0216%\n",
      "Epoch [58/60] Train Loss: 0.6114,Train_accuracy : 79.0007%, Val Loss: 0.7199, Val_accuracy: 75.6042%\n",
      "Epoch [59/60] Train Loss: 0.6257,Train_accuracy : 78.1326%, Val Loss: 0.7230, Val_accuracy: 75.9346%\n",
      "Epoch [60/60] Train Loss: 0.6117,Train_accuracy : 78.9336%, Val Loss: 0.7263, Val_accuracy: 75.3956%\n",
      "Finished Training\n"
     ]
    }
   ],
   "source": [
    "\n",
    "num_epochs = 60\n",
    "train_losses = []\n",
    "train_accuracies = []\n",
    "val_losses = []\n",
    "val_accuracies = []\n",
    "patience = 4\n",
    "best_loss = float('inf')\n",
    "\n",
    "# Training loop\n",
    "for epoch in range(num_epochs):\n",
    "    model.train()\n",
    "    training_loss = 0.0\n",
    "    total = 0\n",
    "    correct = 0\n",
    "    for i, data in enumerate(train_loader, 0):\n",
    "        inputs, labels = data\n",
    "        inputs = inputs.to(device)\n",
    "        labels = labels.to(device)\n",
    "        optimizer.zero_grad()\n",
    "        outputs = model(inputs)\n",
    "        loss = criterion(outputs, labels)\n",
    "        loss.backward()\n",
    "        optimizer.step()\n",
    "        training_loss += loss.item()\n",
    "        _, predicted = torch.max(outputs.data, 1)\n",
    "        total += labels.size(0)\n",
    "        correct += (predicted == labels).sum().item()\n",
    "    training_loss /= len(train_loader)\n",
    "    train_losses.append(training_loss)\n",
    "    train_accuracy = 100 * correct / total\n",
    "    train_accuracies.append(train_accuracy)\n",
    "\n",
    "    # Validation\n",
    "    model.eval()\n",
    "    val_loss = 0.0\n",
    "    correct_val = 0\n",
    "    total_val = 0\n",
    "    with torch.no_grad():\n",
    "        for data in val_loader:\n",
    "            inputs, labels = data\n",
    "            inputs = inputs.to(device)\n",
    "            labels = labels.to(device)\n",
    "            outputs = model(inputs)\n",
    "            loss = criterion(outputs, labels)\n",
    "            val_loss += loss.item()\n",
    "            _, predicted = torch.max(outputs.data, 1)\n",
    "            total_val += labels.size(0)\n",
    "            correct_val += (predicted == labels).sum().item()\n",
    "    val_loss /= len(val_loader)\n",
    "    val_accuracy = 100 * correct_val / total_val\n",
    "    \n",
    "    scheduler.step(val_loss)\n",
    "    \n",
    "    if val_loss<best_loss:\n",
    "        best_loss = val_loss\n",
    "        counter = 0\n",
    "    else:\n",
    "        counter = 1\n",
    "    if counter == patience:\n",
    "        print('early stopping occured')\n",
    "        torch.save(model.state_dict(), 'resetearly.pth')\n",
    "        break\n",
    "    \n",
    "    val_losses.append(val_loss)\n",
    "    val_accuracies.append(val_accuracy)\n",
    "\n",
    "    print(f\"Epoch [{epoch+1}/{num_epochs}] Train Loss: {training_loss:.4f},Train_accuracy : {train_accuracy:.4f}%, Val Loss: {val_loss:.4f}, Val_accuracy: {val_accuracy:.4f}%\")\n",
    "#     if val_accuracy > 77:\n",
    "#         savepath = f\"/kaggle/working/rnet_model_accuracy_{val_accuracy}.pth\"\n",
    "#         torch.save(model.state_dict(), savepath)\n",
    "    \n",
    "\n",
    "print('Finished Training')"
   ]
  },
  {
   "cell_type": "code",
   "execution_count": null,
   "id": "029ccedb",
   "metadata": {},
   "outputs": [
    {
     "name": "stdout",
     "output_type": "stream",
     "text": [
      "Epoch 1/50:\n",
      "Train Loss: 0.8251, Train Acc: 71.7836\n",
      "Val Loss: 0.7909, Val Acc: 72.8221\n",
      "Epoch 2/50:\n",
      "Train Loss: 0.8176, Train Acc: 71.8134\n",
      "Val Loss: 0.8057, Val Acc: 72.9091\n",
      "Epoch 3/50:\n",
      "Train Loss: 0.8246, Train Acc: 71.6532\n",
      "Val Loss: 0.7843, Val Acc: 74.0393\n",
      "Epoch 4/50:\n",
      "Train Loss: 0.8238, Train Acc: 71.7165\n",
      "Val Loss: 0.8067, Val Acc: 72.5961\n",
      "Epoch 5/50:\n",
      "Train Loss: 0.8179, Train Acc: 71.9066\n",
      "Val Loss: 0.7874, Val Acc: 73.1351\n",
      "Epoch 6/50:\n",
      "Train Loss: 0.8272, Train Acc: 71.3998\n",
      "Val Loss: 0.7942, Val Acc: 73.3438\n",
      "Epoch 7/50:\n",
      "Train Loss: 0.8274, Train Acc: 71.5563\n",
      "Val Loss: 0.8035, Val Acc: 72.8395\n",
      "Epoch 8/50:\n",
      "Train Loss: 0.8302, Train Acc: 71.4296\n",
      "Val Loss: 0.7972, Val Acc: 73.0308\n",
      "Epoch 9/50:\n",
      "Train Loss: 0.8174, Train Acc: 71.8060\n",
      "Val Loss: 0.7969, Val Acc: 72.8743\n",
      "Epoch 10/50:\n",
      "Train Loss: 0.8187, Train Acc: 71.6420\n",
      "Val Loss: 0.7962, Val Acc: 72.7178\n",
      "Epoch 11/50:\n",
      "Train Loss: 0.8241, Train Acc: 71.5153\n",
      "Val Loss: 0.7816, Val Acc: 73.8132\n",
      "Epoch 12/50:\n",
      "Train Loss: 0.8304, Train Acc: 71.5638\n",
      "Val Loss: 0.7850, Val Acc: 73.0134\n",
      "Epoch 13/50:\n",
      "Train Loss: 0.8249, Train Acc: 71.7761\n",
      "Val Loss: 0.7946, Val Acc: 72.8047\n",
      "Epoch 14/50:\n",
      "Train Loss: 0.8239, Train Acc: 71.7836\n",
      "Val Loss: 0.7800, Val Acc: 74.3175\n",
      "Epoch 15/50:\n",
      "Train Loss: 0.8198, Train Acc: 71.5377\n",
      "Val Loss: 0.8018, Val Acc: 72.8395\n",
      "Epoch 16/50:\n",
      "Train Loss: 0.8207, Train Acc: 71.5824\n",
      "Val Loss: 0.8107, Val Acc: 72.2657\n",
      "Epoch 17/50:\n",
      "Train Loss: 0.8156, Train Acc: 71.5079\n",
      "Val Loss: 0.8046, Val Acc: 72.4396\n",
      "Epoch 18/50:\n",
      "Train Loss: 0.8261, Train Acc: 71.6830\n",
      "Val Loss: 0.7940, Val Acc: 73.1699\n",
      "Epoch 19/50:\n",
      "Train Loss: 0.8240, Train Acc: 71.4408\n",
      "Val Loss: 0.7987, Val Acc: 72.7352\n",
      "Epoch 20/50:\n",
      "Train Loss: 0.8226, Train Acc: 71.5340\n",
      "Val Loss: 0.8052, Val Acc: 72.3352\n",
      "Epoch 21/50:\n",
      "Train Loss: 0.8296, Train Acc: 71.3477\n",
      "Val Loss: 0.7974, Val Acc: 72.3700\n",
      "Epoch 22/50:\n",
      "Train Loss: 0.8208, Train Acc: 71.5563\n",
      "Val Loss: 0.8018, Val Acc: 73.0308\n",
      "Epoch 23/50:\n",
      "Train Loss: 0.8269, Train Acc: 71.6420\n",
      "Val Loss: 0.7966, Val Acc: 72.9786\n",
      "Epoch 24/50:\n",
      "Train Loss: 0.8228, Train Acc: 71.8097\n",
      "Val Loss: 0.7940, Val Acc: 73.5872\n",
      "Epoch 25/50:\n",
      "Train Loss: 0.8257, Train Acc: 71.5079\n",
      "Val Loss: 0.8037, Val Acc: 72.3005\n",
      "Epoch 26/50:\n",
      "Train Loss: 0.8265, Train Acc: 71.4296\n",
      "Val Loss: 0.8079, Val Acc: 72.6135\n"
     ]
    }
   ],
   "source": [
    "# train_losses, train_accs, val_losses, val_accs = train_model(model, train_loader, val_loader, criterion, optimizer,scheduler, 50)"
   ]
  },
  {
   "cell_type": "code",
   "execution_count": null,
   "id": "2303e381",
   "metadata": {},
   "outputs": [],
   "source": [
    "# torch.save(model.state_dict(), 'alaxnet_final_project_60.pth')"
   ]
  },
  {
   "cell_type": "code",
   "execution_count": null,
   "id": "7c4c9371",
   "metadata": {},
   "outputs": [],
   "source": [
    "model.load_state_dict(torch.load('alaxnet_final_project_60.pth'))\n",
    "model = model.to(device)"
   ]
  },
  {
   "cell_type": "code",
   "execution_count": null,
   "id": "bc3fbbcb",
   "metadata": {},
   "outputs": [],
   "source": [
    "def eval_model(model, data_loader, type='validation'):\n",
    "  correct=0\n",
    "  total=0\n",
    "  running_loss = 0.0\n",
    "  with torch.no_grad():\n",
    "    model.eval()\n",
    "    for inputs, labels in data_loader:\n",
    "      inputs, labels = inputs.to(device), labels.to(device)\n",
    "      pred = model(inputs)\n",
    "      total += labels.size(0)\n",
    "      loss = criterion(pred, labels.squeeze().long())\n",
    "      running_loss += loss.item()\n",
    "      _, predicted = torch.max(pred.data, 1)\n",
    "      correct += predicted.eq(labels.squeeze().long()).sum().item()\n",
    "    # print(f'Accuracy of {type},  {100 * correct // total} %')\n",
    "  test_val_loss = running_loss / len(data_loader)\n",
    "  test_val_accuracy = 100 * correct / total\n",
    "  return test_val_loss, test_val_accuracy"
   ]
  },
  {
   "cell_type": "code",
   "execution_count": null,
   "id": "33255923",
   "metadata": {},
   "outputs": [],
   "source": [
    "test_loss, test_accuracy = eval_model(model, test_loader, type='testing')"
   ]
  },
  {
   "cell_type": "code",
   "execution_count": null,
   "id": "56bcb7b6",
   "metadata": {},
   "outputs": [],
   "source": [
    "print(test_loss, test_accuracy)"
   ]
  },
  {
   "cell_type": "code",
   "execution_count": null,
   "id": "9cc685c6",
   "metadata": {},
   "outputs": [],
   "source": [
    "import cv2\n",
    "\n",
    "image = cv2.imread('00000012.jpg')\n",
    "image_size = 224  # Assuming this matches your training image size\n",
    "mean = [0.485, 0.456, 0.406]\n",
    "std = [0.229, 0.224, 0.225]\n",
    "\n",
    "resized = cv2.resize(image, (image_size, image_size))\n",
    "normalized = (resized / 255.0 - mean)\n"
   ]
  },
  {
   "cell_type": "code",
   "execution_count": null,
   "id": "fe94236d",
   "metadata": {},
   "outputs": [],
   "source": [
    "transformed_image = torch.from_numpy(normalized.astype(np.float32)).permute(2, 0, 1)\n",
    "transformed_image = transformed_image.unsqueeze(0) \n",
    "transformed_image = transformed_image.to(device)"
   ]
  },
  {
   "cell_type": "code",
   "execution_count": 43,
   "id": "97f3de12",
   "metadata": {},
   "outputs": [
    {
     "name": "stdout",
     "output_type": "stream",
     "text": [
      "Predicted class: airport_terminal\n"
     ]
    }
   ],
   "source": [
    "model.eval()\n",
    "with torch.no_grad():  # Disable gradient calculation for efficiency\n",
    "    outputs = model(transformed_image)\n",
    "    _, predicted = torch.max(outputs.data, 1)\n",
    "    class_names = ['airport_terminal',\n",
    "                     'auditorium',\n",
    "                     'bedroom',\n",
    "                     'bookstore',\n",
    "                     'bus_station-indoor',\n",
    "                     'clothing_store',\n",
    "                     'computer_room',\n",
    "                     'food_court',\n",
    "                     'jewelry_shop',\n",
    "                     'railroad_track']\n",
    "    predicted_class = class_names[predicted.item()]\n",
    "    print(f'Predicted class: {predicted_class}')\n"
   ]
  },
  {
   "cell_type": "code",
   "execution_count": 39,
   "id": "565466c2",
   "metadata": {},
   "outputs": [
    {
     "data": {
      "text/plain": [
       "0"
      ]
     },
     "execution_count": 39,
     "metadata": {},
     "output_type": "execute_result"
    }
   ],
   "source": [
    "predicted.item()"
   ]
  },
  {
   "cell_type": "code",
   "execution_count": null,
   "id": "62dafaf4",
   "metadata": {},
   "outputs": [],
   "source": []
  }
 ],
 "metadata": {
  "kernelspec": {
   "display_name": "RLevn",
   "language": "python",
   "name": "rlevn"
  },
  "language_info": {
   "codemirror_mode": {
    "name": "ipython",
    "version": 3
   },
   "file_extension": ".py",
   "mimetype": "text/x-python",
   "name": "python",
   "nbconvert_exporter": "python",
   "pygments_lexer": "ipython3",
   "version": "3.9.6"
  }
 },
 "nbformat": 4,
 "nbformat_minor": 5
}
