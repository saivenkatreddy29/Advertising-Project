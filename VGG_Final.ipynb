{
 "cells": [
  {
   "cell_type": "code",
   "execution_count": 3,
   "id": "e688e7b4",
   "metadata": {},
   "outputs": [],
   "source": [
    "import torch\n",
    "from torchvision import datasets, transforms\n",
    "# from torchvision.transforms import v2\n",
    "from torch.utils.data import DataLoader, Dataset, Subset, random_split\n",
    "import torch.nn as nn\n",
    "import torch.nn.functional as F\n",
    "import torch.optim as optim\n",
    "import numpy as  np\n",
    "from torchvision import utils\n",
    "import matplotlib.pyplot as plt\n",
    "import os"
   ]
  },
  {
   "cell_type": "code",
   "execution_count": 4,
   "id": "57e2ea28",
   "metadata": {},
   "outputs": [
    {
     "data": {
      "text/plain": [
       "device(type='cuda')"
      ]
     },
     "execution_count": 4,
     "metadata": {},
     "output_type": "execute_result"
    }
   ],
   "source": [
    "device = torch.device(\"cuda\" if torch.cuda.is_available() else \"cpu\")\n",
    "device"
   ]
  },
  {
   "cell_type": "code",
   "execution_count": 5,
   "id": "73bf2200",
   "metadata": {},
   "outputs": [],
   "source": [
    "path='dataset/Train_dataset_new'\n",
    "n_channels = 3\n",
    "n_classes = 10\n",
    "batch_size = 64\n",
    "learning_rate = 0.001\n",
    "transform = transforms.Compose([\n",
    "#             transforms.RandomResizedCrop(224),\n",
    "            transforms.Resize(224),\n",
    "            transforms.RandomHorizontalFlip(),\n",
    "            transforms.ToTensor(),\n",
    "            transforms.Normalize(mean=[0.485, 0.456, 0.406], std=[0.229, 0.224, 0.225])\n",
    "        ])"
   ]
  },
  {
   "cell_type": "code",
   "execution_count": 6,
   "id": "c45047bb",
   "metadata": {},
   "outputs": [
    {
     "name": "stdout",
     "output_type": "stream",
     "text": [
      "532\n"
     ]
    }
   ],
   "source": [
    "dataset = datasets.ImageFolder(root=path, transform=transform)\n",
    "\n",
    "# Split the dataset into train, test and validation.\n",
    "total_dataset_len = len(dataset)\n",
    "train_dataset_len = int(0.7 * total_dataset_len)\n",
    "val_dataset_len = int(0.15 * total_dataset_len)\n",
    "test_dataset_len = total_dataset_len - train_dataset_len - val_dataset_len\n",
    "train_dataset, val_dataset, test_dataset = random_split(dataset, [train_dataset_len, val_dataset_len, test_dataset_len])\n",
    "\n",
    "train_loader = DataLoader(dataset=train_dataset, batch_size=64, num_workers=2, shuffle=True)\n",
    "val_loader = DataLoader(dataset=val_dataset, batch_size=64, num_workers=2, shuffle=False)\n",
    "test_loader = DataLoader(dataset=test_dataset, batch_size=64, num_workers=2, shuffle=False)\n",
    "print(len(train_loader))"
   ]
  },
  {
   "cell_type": "code",
   "execution_count": 7,
   "id": "1ee4fb8a",
   "metadata": {},
   "outputs": [
    {
     "data": {
      "text/plain": [
       "['airport_terminal',\n",
       " 'auditorium',\n",
       " 'bedroom',\n",
       " 'bookstore',\n",
       " 'bus_station-indoor',\n",
       " 'clothing_store',\n",
       " 'computer_room',\n",
       " 'food_court',\n",
       " 'jewelry_shop',\n",
       " 'railroad_track']"
      ]
     },
     "execution_count": 7,
     "metadata": {},
     "output_type": "execute_result"
    }
   ],
   "source": [
    "dataset.classes"
   ]
  },
  {
   "cell_type": "code",
   "execution_count": 8,
   "id": "0aec8a16",
   "metadata": {},
   "outputs": [],
   "source": [
    "import torch.nn as nn\n",
    "import torch.nn.functional as F\n",
    "\n",
    "class VGG13(nn.Module):\n",
    "    def __init__(self, num_classes):\n",
    "        super(VGG13, self).__init__()\n",
    "        self.features = nn.Sequential(\n",
    "            nn.Conv2d(3, 64, kernel_size=3, padding=1),\n",
    "            nn.BatchNorm2d(64),\n",
    "            nn.ReLU(inplace=True),\n",
    "            nn.Conv2d(64, 64, kernel_size=3, padding=1),\n",
    "            nn.BatchNorm2d(64),\n",
    "            nn.ReLU(inplace=True),\n",
    "            nn.MaxPool2d(kernel_size=2, stride=2),\n",
    "            \n",
    "            nn.Conv2d(64, 128, kernel_size=3, padding=1),\n",
    "            nn.BatchNorm2d(128),\n",
    "            nn.ReLU(inplace=True),\n",
    "            nn.Conv2d(128, 128, kernel_size=3, padding=1),\n",
    "            nn.BatchNorm2d(128),\n",
    "            nn.ReLU(inplace=True),\n",
    "            nn.MaxPool2d(kernel_size=2, stride=2),\n",
    "            \n",
    "            nn.Conv2d(128, 256, kernel_size=3, padding=1),\n",
    "            nn.BatchNorm2d(256),\n",
    "            nn.ReLU(inplace=True),\n",
    "            nn.Conv2d(256, 256, kernel_size=3, padding=1),\n",
    "            nn.BatchNorm2d(256),\n",
    "            nn.ReLU(inplace=True),\n",
    "            nn.MaxPool2d(kernel_size=2, stride=2),\n",
    "            \n",
    "            nn.Conv2d(256, 512, kernel_size=3, padding=1),\n",
    "            nn.BatchNorm2d(512),\n",
    "            nn.ReLU(inplace=True),\n",
    "            nn.Conv2d(512, 512, kernel_size=3, padding=1),\n",
    "            nn.BatchNorm2d(512),\n",
    "            nn.ReLU(inplace=True),\n",
    "            nn.MaxPool2d(kernel_size=2, stride=2),\n",
    "            \n",
    "            nn.Conv2d(512, 512, kernel_size=3, padding=1),\n",
    "            nn.BatchNorm2d(512),\n",
    "            nn.ReLU(inplace=True),\n",
    "            nn.Conv2d(512, 512, kernel_size=3, padding=1),\n",
    "            nn.BatchNorm2d(512),\n",
    "            nn.ReLU(inplace=True),\n",
    "            nn.MaxPool2d(kernel_size=2, stride=2),\n",
    "        )\n",
    "        self.avgpool = nn.AdaptiveAvgPool2d((7, 7))\n",
    "        self.classifier = nn.Sequential(\n",
    "            nn.Linear(512 * 7 * 7, 4096),\n",
    "            nn.ReLU(inplace=True),\n",
    "            nn.Dropout(),\n",
    "            nn.Linear(4096, 4096),\n",
    "            nn.ReLU(inplace=True),\n",
    "            nn.Dropout(),\n",
    "            nn.Linear(4096, num_classes),\n",
    "        )\n",
    "\n",
    "    def forward(self, x):\n",
    "        x = self.features(x)\n",
    "        x = self.avgpool(x)\n",
    "        x = torch.flatten(x, 1)\n",
    "        x = self.classifier(x)\n",
    "        return x"
   ]
  },
  {
   "cell_type": "code",
   "execution_count": 9,
   "id": "b92ad4a0",
   "metadata": {},
   "outputs": [],
   "source": [
    "model = VGG13(10)"
   ]
  },
  {
   "cell_type": "code",
   "execution_count": 10,
   "id": "d9aa806c",
   "metadata": {},
   "outputs": [],
   "source": [
    "model = model.to(device)"
   ]
  },
  {
   "cell_type": "code",
   "execution_count": 11,
   "id": "f6efcd25",
   "metadata": {},
   "outputs": [
    {
     "name": "stdout",
     "output_type": "stream",
     "text": [
      "VGG13(\n",
      "  (features): Sequential(\n",
      "    (0): Conv2d(3, 64, kernel_size=(3, 3), stride=(1, 1), padding=(1, 1))\n",
      "    (1): BatchNorm2d(64, eps=1e-05, momentum=0.1, affine=True, track_running_stats=True)\n",
      "    (2): ReLU(inplace=True)\n",
      "    (3): Conv2d(64, 64, kernel_size=(3, 3), stride=(1, 1), padding=(1, 1))\n",
      "    (4): BatchNorm2d(64, eps=1e-05, momentum=0.1, affine=True, track_running_stats=True)\n",
      "    (5): ReLU(inplace=True)\n",
      "    (6): MaxPool2d(kernel_size=2, stride=2, padding=0, dilation=1, ceil_mode=False)\n",
      "    (7): Conv2d(64, 128, kernel_size=(3, 3), stride=(1, 1), padding=(1, 1))\n",
      "    (8): BatchNorm2d(128, eps=1e-05, momentum=0.1, affine=True, track_running_stats=True)\n",
      "    (9): ReLU(inplace=True)\n",
      "    (10): Conv2d(128, 128, kernel_size=(3, 3), stride=(1, 1), padding=(1, 1))\n",
      "    (11): BatchNorm2d(128, eps=1e-05, momentum=0.1, affine=True, track_running_stats=True)\n",
      "    (12): ReLU(inplace=True)\n",
      "    (13): MaxPool2d(kernel_size=2, stride=2, padding=0, dilation=1, ceil_mode=False)\n",
      "    (14): Conv2d(128, 256, kernel_size=(3, 3), stride=(1, 1), padding=(1, 1))\n",
      "    (15): BatchNorm2d(256, eps=1e-05, momentum=0.1, affine=True, track_running_stats=True)\n",
      "    (16): ReLU(inplace=True)\n",
      "    (17): Conv2d(256, 256, kernel_size=(3, 3), stride=(1, 1), padding=(1, 1))\n",
      "    (18): BatchNorm2d(256, eps=1e-05, momentum=0.1, affine=True, track_running_stats=True)\n",
      "    (19): ReLU(inplace=True)\n",
      "    (20): MaxPool2d(kernel_size=2, stride=2, padding=0, dilation=1, ceil_mode=False)\n",
      "    (21): Conv2d(256, 512, kernel_size=(3, 3), stride=(1, 1), padding=(1, 1))\n",
      "    (22): BatchNorm2d(512, eps=1e-05, momentum=0.1, affine=True, track_running_stats=True)\n",
      "    (23): ReLU(inplace=True)\n",
      "    (24): Conv2d(512, 512, kernel_size=(3, 3), stride=(1, 1), padding=(1, 1))\n",
      "    (25): BatchNorm2d(512, eps=1e-05, momentum=0.1, affine=True, track_running_stats=True)\n",
      "    (26): ReLU(inplace=True)\n",
      "    (27): MaxPool2d(kernel_size=2, stride=2, padding=0, dilation=1, ceil_mode=False)\n",
      "    (28): Conv2d(512, 512, kernel_size=(3, 3), stride=(1, 1), padding=(1, 1))\n",
      "    (29): BatchNorm2d(512, eps=1e-05, momentum=0.1, affine=True, track_running_stats=True)\n",
      "    (30): ReLU(inplace=True)\n",
      "    (31): Conv2d(512, 512, kernel_size=(3, 3), stride=(1, 1), padding=(1, 1))\n",
      "    (32): BatchNorm2d(512, eps=1e-05, momentum=0.1, affine=True, track_running_stats=True)\n",
      "    (33): ReLU(inplace=True)\n",
      "    (34): MaxPool2d(kernel_size=2, stride=2, padding=0, dilation=1, ceil_mode=False)\n",
      "  )\n",
      "  (avgpool): AdaptiveAvgPool2d(output_size=(7, 7))\n",
      "  (classifier): Sequential(\n",
      "    (0): Linear(in_features=25088, out_features=4096, bias=True)\n",
      "    (1): ReLU(inplace=True)\n",
      "    (2): Dropout(p=0.5, inplace=False)\n",
      "    (3): Linear(in_features=4096, out_features=4096, bias=True)\n",
      "    (4): ReLU(inplace=True)\n",
      "    (5): Dropout(p=0.5, inplace=False)\n",
      "    (6): Linear(in_features=4096, out_features=10, bias=True)\n",
      "  )\n",
      ")\n"
     ]
    }
   ],
   "source": [
    "print(model)"
   ]
  },
  {
   "cell_type": "code",
   "execution_count": 12,
   "id": "3e67b614",
   "metadata": {},
   "outputs": [],
   "source": [
    "def train_model(model, train_loader, val_loader, criterion, optimizer, scheduler, n_epochs):\n",
    "    train_losses, train_accs = [], []\n",
    "    val_losses, val_accs = [], []\n",
    "\n",
    "    for epoch in range(n_epochs):\n",
    "        model.train()\n",
    "        train_loss = 0\n",
    "        train_correct = 0\n",
    "        train_total = 0\n",
    "\n",
    "        for inputs, labels in train_loader:\n",
    "            inputs, labels = inputs.to(device), labels.to(device)\n",
    "            optimizer.zero_grad()\n",
    "            outputs = model(inputs)\n",
    "            loss = criterion(outputs, labels)\n",
    "            loss.backward()\n",
    "            optimizer.step()\n",
    "\n",
    "            train_loss += loss.item()\n",
    "            _, predicted = torch.max(outputs.data, 1)\n",
    "            train_total += labels.size(0)\n",
    "            train_correct += (predicted == labels).sum().item()\n",
    "\n",
    "        train_loss = train_loss / len(train_loader)\n",
    "        train_acc = (train_correct / train_total) * 100\n",
    "        train_losses.append(train_loss)\n",
    "        train_accs.append(train_acc)\n",
    "        if scheduler:\n",
    "            scheduler.step()\n",
    "\n",
    "        # Validation\n",
    "        model.eval()\n",
    "        val_loss = 0\n",
    "        val_correct = 0\n",
    "        val_total = 0\n",
    "\n",
    "        with torch.no_grad():\n",
    "            for inputs, labels in val_loader:\n",
    "                inputs, labels = inputs.to(device), labels.to(device)\n",
    "                outputs = model(inputs)\n",
    "                loss = criterion(outputs, labels)\n",
    "\n",
    "                val_loss += loss.item()\n",
    "                _, predicted = torch.max(outputs.data, 1)\n",
    "                val_total += labels.size(0)\n",
    "                val_correct += (predicted == labels).sum().item()\n",
    "\n",
    "        val_loss = val_loss / len(val_loader)\n",
    "        val_acc = (val_correct / val_total) * 100\n",
    "        val_losses.append(val_loss)\n",
    "        val_accs.append(val_acc)\n",
    "\n",
    "        print(f'Epoch {epoch+1}/{n_epochs}:')\n",
    "        print(f'Train Loss: {train_loss:.4f}, Train Acc: {train_acc:.4f}')\n",
    "        print(f'Val Loss: {val_loss:.4f}, Val Acc: {val_acc:.4f}')\n",
    "        if val_acc > 85:\n",
    "            savePath = f\"/user/paragsha/{epoch+1}.pth\"\n",
    "            torch.save(model.state_dict(), 'vgg_final_project_50.pth')\n",
    "            \n",
    "\n",
    "    return train_losses, train_accs, val_losses, val_accs"
   ]
  },
  {
   "cell_type": "code",
   "execution_count": 13,
   "id": "8ae6edfc",
   "metadata": {},
   "outputs": [],
   "source": [
    "criterion = nn.CrossEntropyLoss().cuda()\n",
    "\n",
    "optimizer = torch.optim.Adam(model.parameters(), lr = 0.0001)\n",
    "scheduler = optim.lr_scheduler.StepLR(optimizer, step_size=30, gamma=0.1)"
   ]
  },
  {
   "cell_type": "code",
   "execution_count": 14,
   "id": "c4cf5aa6",
   "metadata": {},
   "outputs": [
    {
     "name": "stdout",
     "output_type": "stream",
     "text": [
      "Epoch 1/70:\n",
      "Train Loss: 1.6800, Train Acc: 41.7095\n",
      "Val Loss: 1.5307, Val Acc: 46.7910\n",
      "Epoch 2/70:\n",
      "Train Loss: 1.2001, Train Acc: 59.9477\n",
      "Val Loss: 1.0699, Val Acc: 63.5628\n",
      "Epoch 3/70:\n",
      "Train Loss: 0.9775, Train Acc: 67.5727\n",
      "Val Loss: 0.8617, Val Acc: 71.5579\n",
      "Epoch 4/70:\n",
      "Train Loss: 0.8608, Train Acc: 71.7656\n",
      "Val Loss: 0.8499, Val Acc: 71.9007\n",
      "Epoch 5/70:\n",
      "Train Loss: 0.7677, Train Acc: 74.6041\n",
      "Val Loss: 0.8507, Val Acc: 71.4070\n",
      "Epoch 6/70:\n",
      "Train Loss: 0.7091, Train Acc: 76.4581\n",
      "Val Loss: 0.7390, Val Acc: 74.8080\n",
      "Epoch 7/70:\n",
      "Train Loss: 0.6445, Train Acc: 78.8793\n",
      "Val Loss: 0.7816, Val Acc: 73.5189\n",
      "Epoch 8/70:\n",
      "Train Loss: 0.6087, Train Acc: 80.0929\n",
      "Val Loss: 0.7202, Val Acc: 76.9062\n",
      "Epoch 9/70:\n",
      "Train Loss: 0.5660, Train Acc: 81.1859\n",
      "Val Loss: 0.7664, Val Acc: 75.1234\n",
      "Epoch 10/70:\n",
      "Train Loss: 0.5367, Train Acc: 82.1938\n",
      "Val Loss: 0.6600, Val Acc: 78.9358\n",
      "Epoch 11/70:\n",
      "Train Loss: 0.5026, Train Acc: 83.4660\n",
      "Val Loss: 0.6823, Val Acc: 77.1805\n",
      "Epoch 12/70:\n",
      "Train Loss: 0.4740, Train Acc: 83.9597\n",
      "Val Loss: 1.0065, Val Acc: 70.3099\n",
      "Epoch 13/70:\n",
      "Train Loss: 0.4521, Train Acc: 84.7824\n",
      "Val Loss: 0.5765, Val Acc: 81.1986\n",
      "Epoch 14/70:\n",
      "Train Loss: 0.4205, Train Acc: 85.9871\n",
      "Val Loss: 0.5968, Val Acc: 80.7323\n",
      "Epoch 15/70:\n",
      "Train Loss: 0.4019, Train Acc: 86.2810\n",
      "Val Loss: 0.6303, Val Acc: 80.1289\n",
      "Epoch 16/70:\n",
      "Train Loss: 0.3758, Train Acc: 87.2330\n",
      "Val Loss: 0.6656, Val Acc: 79.6215\n",
      "Epoch 17/70:\n",
      "Train Loss: 0.3564, Train Acc: 87.9852\n",
      "Val Loss: 0.6931, Val Acc: 78.2501\n",
      "Epoch 18/70:\n",
      "Train Loss: 0.3374, Train Acc: 88.6022\n",
      "Val Loss: 0.6905, Val Acc: 79.0181\n",
      "Epoch 19/70:\n",
      "Train Loss: 0.3180, Train Acc: 89.1870\n",
      "Val Loss: 0.5632, Val Acc: 82.5562\n",
      "Epoch 20/70:\n",
      "Train Loss: 0.3029, Train Acc: 89.7364\n",
      "Val Loss: 0.6185, Val Acc: 81.4728\n",
      "Epoch 21/70:\n",
      "Train Loss: 0.2881, Train Acc: 90.1566\n",
      "Val Loss: 0.5568, Val Acc: 82.7756\n",
      "Epoch 22/70:\n",
      "Train Loss: 0.2637, Train Acc: 91.1174\n",
      "Val Loss: 0.5873, Val Acc: 82.2957\n",
      "Epoch 23/70:\n",
      "Train Loss: 0.2611, Train Acc: 91.1233\n",
      "Val Loss: 0.7066, Val Acc: 80.1015\n",
      "Epoch 24/70:\n",
      "Train Loss: 0.2330, Train Acc: 92.0489\n",
      "Val Loss: 0.7030, Val Acc: 79.0592\n",
      "Epoch 25/70:\n",
      "Train Loss: 0.2292, Train Acc: 92.1459\n",
      "Val Loss: 0.7097, Val Acc: 80.2798\n",
      "Epoch 26/70:\n",
      "Train Loss: 0.2113, Train Acc: 92.7600\n",
      "Val Loss: 0.6102, Val Acc: 82.4877\n",
      "Epoch 27/70:\n",
      "Train Loss: 0.2155, Train Acc: 92.5484\n",
      "Val Loss: 0.8172, Val Acc: 77.6879\n",
      "Epoch 28/70:\n",
      "Train Loss: 0.1969, Train Acc: 93.2683\n",
      "Val Loss: 0.7560, Val Acc: 79.3609\n",
      "Epoch 29/70:\n",
      "Train Loss: 0.1832, Train Acc: 93.6885\n",
      "Val Loss: 0.8940, Val Acc: 78.9221\n",
      "Epoch 30/70:\n",
      "Train Loss: 0.1756, Train Acc: 93.9852\n",
      "Val Loss: 1.0481, Val Acc: 76.6731\n",
      "Epoch 31/70:\n",
      "Train Loss: 0.0972, Train Acc: 96.6650\n",
      "Val Loss: 0.5425, Val Acc: 85.7515\n",
      "Epoch 32/70:\n",
      "Train Loss: 0.0703, Train Acc: 97.6464\n",
      "Val Loss: 0.5530, Val Acc: 85.5869\n",
      "Epoch 33/70:\n",
      "Train Loss: 0.0585, Train Acc: 98.0725\n",
      "Val Loss: 0.5741, Val Acc: 85.7515\n",
      "Epoch 34/70:\n",
      "Train Loss: 0.0513, Train Acc: 98.3751\n",
      "Val Loss: 0.5995, Val Acc: 85.8338\n",
      "Epoch 35/70:\n",
      "Train Loss: 0.0460, Train Acc: 98.4339\n",
      "Val Loss: 0.6122, Val Acc: 85.7104\n",
      "Epoch 36/70:\n",
      "Train Loss: 0.0428, Train Acc: 98.6484\n",
      "Val Loss: 0.6317, Val Acc: 85.8201\n",
      "Epoch 37/70:\n",
      "Train Loss: 0.0404, Train Acc: 98.6572\n",
      "Val Loss: 0.6601, Val Acc: 85.6829\n",
      "Epoch 38/70:\n",
      "Train Loss: 0.0368, Train Acc: 98.7718\n",
      "Val Loss: 0.6786, Val Acc: 85.4772\n",
      "Epoch 39/70:\n",
      "Train Loss: 0.0338, Train Acc: 98.8923\n",
      "Val Loss: 0.6958, Val Acc: 85.7241\n",
      "Epoch 40/70:\n",
      "Train Loss: 0.0337, Train Acc: 98.8100\n",
      "Val Loss: 0.7173, Val Acc: 85.6829\n",
      "Epoch 41/70:\n",
      "Train Loss: 0.0301, Train Acc: 98.9451\n",
      "Val Loss: 0.7331, Val Acc: 85.6967\n",
      "Epoch 42/70:\n",
      "Train Loss: 0.0278, Train Acc: 99.0803\n",
      "Val Loss: 0.7590, Val Acc: 85.4087\n",
      "Epoch 43/70:\n",
      "Train Loss: 0.0273, Train Acc: 99.1067\n",
      "Val Loss: 0.7478, Val Acc: 85.7789\n",
      "Epoch 44/70:\n",
      "Train Loss: 0.0248, Train Acc: 99.1802\n",
      "Val Loss: 0.7686, Val Acc: 85.5595\n",
      "Epoch 45/70:\n",
      "Train Loss: 0.0251, Train Acc: 99.1655\n",
      "Val Loss: 0.7800, Val Acc: 85.1344\n",
      "Epoch 46/70:\n",
      "Train Loss: 0.0222, Train Acc: 99.2213\n",
      "Val Loss: 0.8110, Val Acc: 85.6555\n",
      "Epoch 47/70:\n",
      "Train Loss: 0.0237, Train Acc: 99.1479\n",
      "Val Loss: 0.8130, Val Acc: 85.6967\n",
      "Epoch 48/70:\n",
      "Train Loss: 0.0208, Train Acc: 99.3095\n",
      "Val Loss: 0.8374, Val Acc: 84.9287\n",
      "Epoch 49/70:\n",
      "Train Loss: 0.0191, Train Acc: 99.3594\n",
      "Val Loss: 0.8521, Val Acc: 85.5869\n",
      "Epoch 50/70:\n",
      "Train Loss: 0.0203, Train Acc: 99.2919\n",
      "Val Loss: 0.8401, Val Acc: 85.5047\n",
      "Epoch 51/70:\n",
      "Train Loss: 0.0197, Train Acc: 99.3888\n",
      "Val Loss: 0.8488, Val Acc: 85.1344\n",
      "Epoch 52/70:\n",
      "Train Loss: 0.0191, Train Acc: 99.3741\n",
      "Val Loss: 0.9016, Val Acc: 85.2441\n",
      "Epoch 53/70:\n",
      "Train Loss: 0.0170, Train Acc: 99.4593\n",
      "Val Loss: 0.8897, Val Acc: 85.8475\n",
      "Epoch 54/70:\n",
      "Train Loss: 0.0171, Train Acc: 99.4300\n",
      "Val Loss: 0.9494, Val Acc: 85.1207\n",
      "Epoch 55/70:\n",
      "Train Loss: 0.0173, Train Acc: 99.4535\n",
      "Val Loss: 0.9228, Val Acc: 85.6281\n",
      "Epoch 56/70:\n",
      "Train Loss: 0.0162, Train Acc: 99.4388\n",
      "Val Loss: 0.9177, Val Acc: 85.4361\n",
      "Epoch 57/70:\n",
      "Train Loss: 0.0151, Train Acc: 99.5299\n",
      "Val Loss: 0.9640, Val Acc: 85.4361\n",
      "Epoch 58/70:\n",
      "Train Loss: 0.0146, Train Acc: 99.4829\n",
      "Val Loss: 0.9697, Val Acc: 85.5732\n",
      "Epoch 59/70:\n",
      "Train Loss: 0.0141, Train Acc: 99.5534\n",
      "Val Loss: 0.9578, Val Acc: 85.4772\n",
      "Epoch 60/70:\n",
      "Train Loss: 0.0149, Train Acc: 99.5152\n",
      "Val Loss: 0.9610, Val Acc: 85.4361\n",
      "Epoch 61/70:\n",
      "Train Loss: 0.0130, Train Acc: 99.5857\n",
      "Val Loss: 0.9402, Val Acc: 85.6418\n",
      "Epoch 62/70:\n",
      "Train Loss: 0.0118, Train Acc: 99.5916\n",
      "Val Loss: 0.9360, Val Acc: 85.9435\n",
      "Epoch 63/70:\n",
      "Train Loss: 0.0112, Train Acc: 99.6474\n",
      "Val Loss: 0.9363, Val Acc: 85.9984\n",
      "Epoch 64/70:\n",
      "Train Loss: 0.0102, Train Acc: 99.6974\n",
      "Val Loss: 0.9277, Val Acc: 85.9572\n",
      "Epoch 65/70:\n",
      "Train Loss: 0.0091, Train Acc: 99.7444\n",
      "Val Loss: 0.9419, Val Acc: 85.8201\n",
      "Epoch 66/70:\n",
      "Train Loss: 0.0099, Train Acc: 99.6797\n",
      "Val Loss: 0.9590, Val Acc: 85.6007\n",
      "Epoch 67/70:\n",
      "Train Loss: 0.0091, Train Acc: 99.7502\n",
      "Val Loss: 0.9391, Val Acc: 85.9435\n",
      "Epoch 68/70:\n",
      "Train Loss: 0.0099, Train Acc: 99.6533\n",
      "Val Loss: 0.9465, Val Acc: 86.2041\n",
      "Epoch 69/70:\n",
      "Train Loss: 0.0088, Train Acc: 99.7326\n",
      "Val Loss: 0.9498, Val Acc: 85.9161\n",
      "Epoch 70/70:\n",
      "Train Loss: 0.0077, Train Acc: 99.7649\n",
      "Val Loss: 0.9485, Val Acc: 86.0943\n"
     ]
    }
   ],
   "source": [
    "train_losses, train_accs, val_losses, val_accs = train_model(model, train_loader, val_loader, criterion, optimizer,scheduler, 70)"
   ]
  },
  {
   "cell_type": "code",
   "execution_count": 15,
   "id": "ed14c2dc",
   "metadata": {},
   "outputs": [],
   "source": [
    "torch.save(model.state_dict(), 'vgg_final_project_70.pth')"
   ]
  },
  {
   "cell_type": "code",
   "execution_count": 16,
   "id": "83edef8a",
   "metadata": {},
   "outputs": [],
   "source": [
    "def eval_model(model, data_loader, type='validation'):\n",
    "  correct=0\n",
    "  total=0\n",
    "  running_loss = 0.0\n",
    "  with torch.no_grad():\n",
    "    model.eval()\n",
    "    for inputs, labels in data_loader:\n",
    "      inputs, labels = inputs.to(device), labels.to(device)  \n",
    "      pred = model(inputs)\n",
    "      total += labels.size(0)\n",
    "      loss = criterion(pred, labels.squeeze().long())\n",
    "      running_loss += loss.item()\n",
    "      _, predicted = torch.max(pred.data, 1)\n",
    "      correct += predicted.eq(labels.squeeze().long()).sum().item()\n",
    "    # print(f'Accuracy of {type},  {100 * correct // total} %')\n",
    "  test_val_loss = running_loss / len(data_loader)\n",
    "  test_val_accuracy = 100 * correct / total\n",
    "  return test_val_loss, test_val_accuracy"
   ]
  },
  {
   "cell_type": "code",
   "execution_count": 17,
   "id": "76767ced",
   "metadata": {},
   "outputs": [
    {
     "name": "stdout",
     "output_type": "stream",
     "text": [
      "0.9978317309889877 85.3852481491637\n"
     ]
    }
   ],
   "source": [
    "test_loss, test_accuracy = eval_model(model, test_loader, type='testing')\n",
    "print(test_loss, test_accuracy)"
   ]
  },
  {
   "cell_type": "code",
   "execution_count": 18,
   "id": "d7efed90",
   "metadata": {},
   "outputs": [],
   "source": [
    "import matplotlib.pyplot as plt\n",
    "from sklearn.metrics import confusion_matrix, precision_recall_fscore_support, accuracy_score, roc_curve, auc\n",
    "import seaborn as sns"
   ]
  },
  {
   "cell_type": "code",
   "execution_count": 19,
   "id": "1663ffdb",
   "metadata": {},
   "outputs": [
    {
     "data": {
      "image/png": "[encoded data removed]",
      "text/plain": [
       "<Figure size 432x360 with 1 Axes>"
      ]
     },
     "metadata": {
      "needs_background": "light"
     },
     "output_type": "display_data"
    }
   ],
   "source": [
    "# Plot the training and validation Loss over time (epochs)\n",
    "num_of_epochs = range(1, len(train_losses) + 1)\n",
    "plt.figure(figsize=(6, 5))\n",
    "plt.plot(num_of_epochs, train_losses, 'b', label='Training accuracy')\n",
    "plt.plot(num_of_epochs, val_losses, 'r', label='Validation accuracy')\n",
    "# plt.plot(num_of_epochs, test_accuracy_arr, 'g', label='Testing accuracy')\n",
    "plt.title('Training and Validation and Testing Accuracy')\n",
    "plt.xlabel('Epochs Count')\n",
    "plt.ylabel('Accuracy in %')\n",
    "plt.legend()\n",
    "plt.show()"
   ]
  },
  {
   "cell_type": "code",
   "execution_count": 20,
   "id": "a45b3e2d",
   "metadata": {},
   "outputs": [
    {
     "data": {
      "image/png": "[encoded data removed]",
      "text/plain": [
       "<Figure size 432x360 with 1 Axes>"
      ]
     },
     "metadata": {
      "needs_background": "light"
     },
     "output_type": "display_data"
    }
   ],
   "source": [
    "# Plot the training and validation accuracy over time (epochs)\n",
    "num_of_epochs = range(1, len(train_accs) + 1)\n",
    "plt.figure(figsize=(6, 5))\n",
    "plt.plot(num_of_epochs, train_accs, 'b', label='Training accuracy')\n",
    "plt.plot(num_of_epochs, val_accs, 'r', label='Validation accuracy')\n",
    "# plt.plot(num_of_epochs, test_accuracy_arr, 'g', label='Testing accuracy')\n",
    "plt.title('Training and Validation and Testing Accuracy')\n",
    "plt.xlabel('Epochs Count')\n",
    "plt.ylabel('Accuracy in %')\n",
    "plt.legend()\n",
    "plt.show()"
   ]
  },
  {
   "cell_type": "code",
   "execution_count": 21,
   "id": "cbd103b0",
   "metadata": {},
   "outputs": [],
   "source": [
    "y_pred = []\n",
    "y_pred_softmax = []\n",
    "y_true = []\n",
    "y_labels = []\n",
    "model.eval()\n",
    "with torch.no_grad():\n",
    "  for inputs, labels in test_loader:\n",
    "    inputs, labels = inputs.to(device), labels.to(device)\n",
    "    pred = model(inputs)\n",
    "    _, predicted = torch.max(pred.data, 1)\n",
    "    probs = F.softmax(pred, dim=1)\n",
    "\n",
    "    y_pred.extend(predicted.cpu().numpy())\n",
    "    y_true.extend(labels.squeeze().cpu().numpy())\n",
    "    y_pred_softmax.append(probs.cpu())  \n",
    "    y_labels.append(labels)\n",
    "\n",
    "# Confusion metric\n",
    "y_pred_softmax = torch.cat(y_pred_softmax, dim=0)\n",
    "y_labels = torch.cat(y_labels, dim=0)\n",
    "confusionMatrix = confusion_matrix(y_true, y_pred)\n"
   ]
  },
  {
   "cell_type": "code",
   "execution_count": 22,
   "id": "9ce8137f",
   "metadata": {},
   "outputs": [
    {
     "data": {
      "image/png": "[encoded data removed]",
      "text/plain": [
       "<Figure size 1800x1800 with 2 Axes>"
      ]
     },
     "metadata": {
      "needs_background": "light"
     },
     "output_type": "display_data"
    }
   ],
   "source": [
    "# Generate confusion Matrix using heatmap\n",
    "plt.figure(figsize=(25, 25))\n",
    "sns.heatmap(confusionMatrix, annot=True, fmt='d', cmap='Reds')\n",
    "plt.xlabel('Predicted')\n",
    "plt.ylabel('True')\n",
    "plt.title('Confusion Matrix')\n",
    "plt.show()"
   ]
  },
  {
   "cell_type": "code",
   "execution_count": 23,
   "id": "f2d1959f",
   "metadata": {},
   "outputs": [
    {
     "name": "stdout",
     "output_type": "stream",
     "text": [
      "Precision: 0.85\n",
      "Recall: 0.85\n",
      "F1-score: 0.85\n",
      "Accuracy: 0.85\n"
     ]
    }
   ],
   "source": [
    "# Print precision, recall, f1_score using scikit learn\n",
    "precision, recall, f1_score, _ = precision_recall_fscore_support(y_true, y_pred, average='weighted')\n",
    "accuracy = accuracy_score(y_true, y_pred)\n",
    "print(f'Precision: {precision:.2f}')\n",
    "print(f'Recall: {recall:.2f}')\n",
    "print(f'F1-score: {f1_score:.2f}')\n",
    "print(f'Accuracy: {accuracy:.2f}')"
   ]
  }
 ],
 "metadata": {
  "kernelspec": {
   "display_name": "Python 3 (ipykernel)",
   "language": "python",
   "name": "python3"
  },
  "language_info": {
   "codemirror_mode": {
    "name": "ipython",
    "version": 3
   },
   "file_extension": ".py",
   "mimetype": "text/x-python",
   "name": "python",
   "nbconvert_exporter": "python",
   "pygments_lexer": "ipython3",
   "version": "3.9.6"
  }
 },
 "nbformat": 4,
 "nbformat_minor": 5
}
