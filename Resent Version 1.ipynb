{
 "cells": [
  {
   "cell_type": "code",
   "execution_count": 1,
   "metadata": {
    "id": "VnvjjQVv0QdI"
   },
   "outputs": [],
   "source": [
    "import torch\n",
    "from torchvision import datasets, transforms"
   ]
  },
  {
   "cell_type": "code",
   "execution_count": 2,
   "metadata": {
    "id": "OY_tKjfZz6Ze"
   },
   "outputs": [],
   "source": [
    "import torch\n",
    "import torch.nn as nn\n",
    "import torch.optim as optim\n",
    "from torch.utils.data import DataLoader\n",
    "import torchvision.transforms as transforms\n",
    "import matplotlib.pyplot as plt\n",
    "import numpy as np\n",
    "from sklearn.metrics import confusion_matrix, precision_score, recall_score, f1_score\n",
    "\n",
    "class Block(nn.Module):\n",
    "    def __init__(self, in_channels, out_channels, identity_downsample=None, stride=1):\n",
    "\n",
    "        super(Block, self).__init__()\n",
    "        # Every Resedual block will have two convolution layers with batch normalization done before applying relu\n",
    "        self.conv1 = nn.Conv2d(in_channels, out_channels, kernel_size=3, stride=stride, padding=1, bias=False)\n",
    "        self.batchnorm1 = nn.BatchNorm2d(out_channels)\n",
    "        self.conv2 = nn.Conv2d(out_channels, out_channels, kernel_size=3, stride=1, padding=1, bias=False)\n",
    "        self.batchnorm2 = nn.BatchNorm2d(out_channels)\n",
    "        self.relu = nn.ReLU()\n",
    "        self.identity_downsample = identity_downsample\n",
    "\n",
    "    def forward(self, x):\n",
    "        identity = x.clone()\n",
    "\n",
    "        x = self.conv1(x)\n",
    "        x = self.batchnorm1(x)\n",
    "        x = self.relu(x)\n",
    "        x = self.conv2(x)\n",
    "        x = self.batchnorm2(x)\n",
    "\n",
    "        if self.identity_downsample is not None:\n",
    "            identity = self.identity_downsample(identity)\n",
    "\n",
    "        x += identity\n",
    "        x = self.relu(x)\n",
    "        return x\n"
   ]
  },
  {
   "cell_type": "code",
   "execution_count": 3,
   "metadata": {},
   "outputs": [],
   "source": [
    "\n",
    "class ResNet(nn.Module):\n",
    "  \n",
    "  def __init__(self, block, layers, image_channels, num_classes):\n",
    "    super(ResNet, self).__init__()\n",
    "    self.expansion = 1 # expansion factor is 1 for resnet 18, it is 4 for resnet 50,101 and 152\n",
    "    self.in_channels = 64\n",
    "    self.conv1 = nn.Conv2d(image_channels, 64, kernel_size=7, stride=2, padding=3, bias=False) # Extracts the low level features from input image\n",
    "    self.bn1 = nn.BatchNorm2d(64)\n",
    "    self.relu = nn.ReLU()\n",
    "    self.maxpool = nn.MaxPool2d(kernel_size=3, stride=2, padding=1)\n",
    "    # Feature map size of 112 * 112\n",
    "    self.layer1 = self.make_layer(block, layers[0], out_channels=64, stride=1) # Two convolutions with 64 outputs\n",
    "    self.layer2 = self.make_layer(block, layers[1], out_channels=128, stride=2) # Two convolution with 128 outputs\n",
    "    self.layer3 = self.make_layer(block, layers[2], out_channels=256, stride=2) # Two convolutions with 256 outputs\n",
    "    self.layer4 = self.make_layer(block, layers[3], out_channels=512, stride=2) # Two convolution with 512 outputs\n",
    "    # Feature map size of 7 * 7\n",
    "    self.avgpool = nn.AdaptiveAvgPool2d((1, 1))\n",
    "    self.dropout = nn.dropout(0.2)\n",
    "    self.fc = nn.Linear(512 * self.expansion, num_classes)\n",
    "# Increasing the filter size will help us to create more deep model and capture complex models\n",
    "  def forward(self, x):\n",
    "    x = self.conv1(x)\n",
    "    x = self.bn1(x)\n",
    "    x = self.relu(x)\n",
    "    x = self.maxpool(x)\n",
    "\n",
    "    x = self.layer1(x)\n",
    "    x = self.layer2(x)\n",
    "    x = self.layer3(x)\n",
    "    x = self.layer4(x)\n",
    "\n",
    "    x = self.avgpool(x)\n",
    "    x = torch.flatten(x,1)\n",
    "    x = self.dropout(x)\n",
    "    x = self.fc(x)\n",
    "\n",
    "    return x\n",
    "\n",
    "  def make_layer(self, block, num_residual_blocks, out_channels, stride):\n",
    "    identity_downsample = None # initially identity_downsample is none\n",
    "    layers = []\n",
    "\n",
    "    if stride != 1 or self.in_channels != self.expansion * out_channels:\n",
    "        identity_downsample = nn.Sequential(\n",
    "            nn.Conv2d(self.in_channels, self.expansion * out_channels, kernel_size=1, stride=stride, bias=False),\n",
    "            nn.BatchNorm2d(self.expansion * out_channels)\n",
    "        )\n",
    "        # when above case occurs we create a identity_downsample with 1*1 conv layer to match number of channels\n",
    "\n",
    "    layers.append(block(self.in_channels, out_channels, identity_downsample, stride)) # append the first residual block with matched dimensions to layers\n",
    "    self.in_channels = out_channels * self.expansion # update input channels\n",
    "\n",
    "    for i in range(num_residual_blocks - 1): # append remaining residual blocks\n",
    "        layers.append(block(self.in_channels, out_channels))\n",
    "\n",
    "    return nn.Sequential(*layers)"
   ]
  },
  {
   "cell_type": "code",
   "execution_count": null,
   "metadata": {
    "id": "bP138E3m6-JU"
   },
   "outputs": [],
   "source": []
  },
  {
   "cell_type": "code",
   "execution_count": 4,
   "metadata": {
    "id": "D-pm01sr6BFA"
   },
   "outputs": [],
   "source": [
    "# Define transformations for data augmentation and preprocessing\n",
    "transform = transforms.Compose([\n",
    "    transforms.ToTensor(),\n",
    "    transforms.Normalize((0.5, 0.5, 0.5), (0.5, 0.5, 0.5))\n",
    "])\n",
    "\n"
   ]
  },
  {
   "cell_type": "code",
   "execution_count": 5,
   "metadata": {},
   "outputs": [
    {
     "data": {
      "text/plain": [
       "'/user/ssheri'"
      ]
     },
     "execution_count": 5,
     "metadata": {},
     "output_type": "execute_result"
    }
   ],
   "source": [
    "pwd"
   ]
  },
  {
   "cell_type": "code",
   "execution_count": 6,
   "metadata": {
    "id": "2yzcJ_GJ4L-V"
   },
   "outputs": [],
   "source": [
    "data = datasets.ImageFolder('/user/ssheri/train_dataset',transform=transform)"
   ]
  },
  {
   "cell_type": "code",
   "execution_count": 7,
   "metadata": {},
   "outputs": [
    {
     "data": {
      "text/plain": [
       "['airport_terminal',\n",
       " 'amusement_park',\n",
       " 'aquarium',\n",
       " 'art_school',\n",
       " 'auditorium',\n",
       " 'bathroom',\n",
       " 'beach',\n",
       " 'bedroom',\n",
       " 'bookstore',\n",
       " 'bus_station-indoor',\n",
       " 'campsite',\n",
       " 'chemistry_lab',\n",
       " 'clothing_store',\n",
       " 'coffee_shop']"
      ]
     },
     "execution_count": 7,
     "metadata": {},
     "output_type": "execute_result"
    }
   ],
   "source": [
    "data.classes"
   ]
  },
  {
   "cell_type": "code",
   "execution_count": 8,
   "metadata": {},
   "outputs": [
    {
     "name": "stdout",
     "output_type": "stream",
     "text": [
      "Label: airport_terminal, Count: 5000\n",
      "Label: amusement_park, Count: 5000\n",
      "Label: aquarium, Count: 5000\n",
      "Label: art_school, Count: 5000\n",
      "Label: auditorium, Count: 5000\n",
      "Label: bathroom, Count: 5000\n",
      "Label: beach, Count: 5000\n",
      "Label: bedroom, Count: 5000\n",
      "Label: bookstore, Count: 5000\n",
      "Label: bus_station-indoor, Count: 5000\n",
      "Label: campsite, Count: 5000\n",
      "Label: chemistry_lab, Count: 3447\n",
      "Label: clothing_store, Count: 5000\n",
      "Label: coffee_shop, Count: 3385\n"
     ]
    }
   ],
   "source": [
    "label_counts = torch.bincount(torch.tensor(data.targets))\n",
    "for label, count in zip(data.classes, label_counts):\n",
    "    print(f\"Label: {label}, Count: {count}\")"
   ]
  },
  {
   "cell_type": "code",
   "execution_count": 9,
   "metadata": {
    "id": "a27sOGSg7e7I"
   },
   "outputs": [],
   "source": [
    "from torch.utils.data import random_split, DataLoader"
   ]
  },
  {
   "cell_type": "code",
   "execution_count": 10,
   "metadata": {
    "id": "LcCT9LfL4L5X"
   },
   "outputs": [],
   "source": [
    "train_size = int(0.7 * len(data))\n",
    "rem = len(data) - train_size\n",
    "test=int(rem/2)\n",
    "\n",
    "train_data, test_data,val_data = random_split(data, [train_size,test,test])"
   ]
  },
  {
   "cell_type": "code",
   "execution_count": 11,
   "metadata": {
    "colab": {
     "base_uri": "https://localhost:8080/"
    },
    "id": "jYjce6xv7i3J",
    "outputId": "3ca713b1-5c74-4e6c-c1aa-ef8ac6c59b61"
   },
   "outputs": [
    {
     "data": {
      "text/plain": [
       "46782"
      ]
     },
     "execution_count": 11,
     "metadata": {},
     "output_type": "execute_result"
    }
   ],
   "source": [
    "len(train_data)"
   ]
  },
  {
   "cell_type": "code",
   "execution_count": 12,
   "metadata": {
    "id": "wW8vpGBR7iS5"
   },
   "outputs": [],
   "source": [
    "train_loader = DataLoader(train_data, batch_size=35, shuffle=True)\n",
    "test_loader = DataLoader(test_data, batch_size=35, shuffle=False)\n",
    "val_loader = DataLoader(val_data,batch_size = 35, shuffle = False)"
   ]
  },
  {
   "cell_type": "code",
   "execution_count": 13,
   "metadata": {
    "id": "ZAXLXpGp8TQ6"
   },
   "outputs": [],
   "source": [
    "device = torch.device(\"cuda\" if torch.cuda.is_available() else \"cpu\")"
   ]
  },
  {
   "cell_type": "code",
   "execution_count": 14,
   "metadata": {
    "colab": {
     "base_uri": "https://localhost:8080/"
    },
    "id": "Sf5s-7wAay35",
    "outputId": "4269e81a-f62e-4b9c-a0cc-fb371def6f58"
   },
   "outputs": [
    {
     "data": {
      "text/plain": [
       "14"
      ]
     },
     "execution_count": 14,
     "metadata": {},
     "output_type": "execute_result"
    }
   ],
   "source": [
    "len(data.classes)"
   ]
  },
  {
   "cell_type": "code",
   "execution_count": 15,
   "metadata": {
    "id": "stOfHI4H4L0Y"
   },
   "outputs": [],
   "source": [
    "\n",
    "\n",
    "# Dropout\n",
    "model = ResNet18(num_classes=len(data.classes)).to(device)\n",
    "dropout = nn.Dropout(p=0.5)\n",
    "model.fc = nn.Sequential(model.fc, dropout)\n",
    "\n",
    "# Weight decay\n",
    "criterion = nn.CrossEntropyLoss()\n",
    "optimizer = optim.SGD(model.parameters(), lr=0.01, momentum=0.9, weight_decay=1e-4)"
   ]
  },
  {
   "cell_type": "code",
   "execution_count": null,
   "metadata": {
    "id": "BmDlgB_L7r2W"
   },
   "outputs": [],
   "source": []
  },
  {
   "cell_type": "code",
   "execution_count": 16,
   "metadata": {
    "colab": {
     "background_save": true
    },
    "id": "DpF8Ej3h4CAv",
    "outputId": "d5b6e078-2130-4952-ab59-a9be95d8b8f1"
   },
   "outputs": [
    {
     "name": "stdout",
     "output_type": "stream",
     "text": [
      "Epoch [1/20] Train Loss: 2.6169,Train_accuracy : 15.4269%, Val Loss: 2.1807, Val_accuracy: 26.9726%\n",
      "Epoch [2/20] Train Loss: 2.2994,Train_accuracy : 24.1867%, Val Loss: 1.9402, Val_accuracy: 39.7107%\n",
      "Epoch [3/20] Train Loss: 2.1780,Train_accuracy : 28.4511%, Val Loss: 1.7244, Val_accuracy: 47.0524%\n",
      "Epoch [4/20] Train Loss: 2.0738,Train_accuracy : 31.5741%, Val Loss: 1.6333, Val_accuracy: 52.2294%\n",
      "Epoch [5/20] Train Loss: 1.9929,Train_accuracy : 33.7053%, Val Loss: 1.4611, Val_accuracy: 58.0349%\n",
      "Epoch [6/20] Train Loss: 1.9297,Train_accuracy : 35.5457%, Val Loss: 1.4642, Val_accuracy: 56.6484%\n",
      "Epoch [7/20] Train Loss: 1.8676,Train_accuracy : 37.2836%, Val Loss: 1.4324, Val_accuracy: 56.4090%\n",
      "Epoch [8/20] Train Loss: 1.8215,Train_accuracy : 38.5063%, Val Loss: 1.2643, Val_accuracy: 62.0948%\n",
      "Epoch [9/20] Train Loss: 1.7998,Train_accuracy : 39.0599%, Val Loss: 1.5521, Val_accuracy: 51.9401%\n",
      "Epoch [10/20] Train Loss: 1.7680,Train_accuracy : 39.7482%, Val Loss: 1.2113, Val_accuracy: 64.9975%\n",
      "Epoch [11/20] Train Loss: 1.7298,Train_accuracy : 40.6652%, Val Loss: 1.1288, Val_accuracy: 67.7506%\n",
      "Epoch [12/20] Train Loss: 1.7029,Train_accuracy : 41.4860%, Val Loss: 1.1373, Val_accuracy: 66.1546%\n",
      "Epoch [13/20] Train Loss: 1.6790,Train_accuracy : 42.2256%, Val Loss: 1.1301, Val_accuracy: 66.4838%\n",
      "Epoch [14/20] Train Loss: 1.6581,Train_accuracy : 42.6211%, Val Loss: 1.1580, Val_accuracy: 65.3865%\n",
      "Epoch [15/20] Train Loss: 1.6300,Train_accuracy : 43.0914%, Val Loss: 1.0716, Val_accuracy: 67.9202%\n",
      "Epoch [16/20] Train Loss: 1.6265,Train_accuracy : 43.0294%, Val Loss: 1.1009, Val_accuracy: 66.7930%\n",
      "Epoch [17/20] Train Loss: 1.5970,Train_accuracy : 44.1088%, Val Loss: 0.9745, Val_accuracy: 71.1721%\n",
      "Epoch [18/20] Train Loss: 1.5850,Train_accuracy : 44.3675%, Val Loss: 1.0942, Val_accuracy: 67.5212%\n",
      "Epoch [19/20] Train Loss: 1.5757,Train_accuracy : 44.6475%, Val Loss: 1.1774, Val_accuracy: 64.0898%\n",
      "Epoch [20/20] Train Loss: 1.5499,Train_accuracy : 45.2546%, Val Loss: 0.9614, Val_accuracy: 72.0698%\n",
      "Finished Training\n"
     ]
    }
   ],
   "source": [
    "\n",
    "num_epochs = 20\n",
    "train_losses = []\n",
    "train_accuracies = []\n",
    "val_losses = []\n",
    "val_accuracies = []\n",
    "patience = 4\n",
    "best_loss = float('inf')\n",
    "\n",
    "# Training loop\n",
    "for epoch in range(num_epochs):\n",
    "    model.train()\n",
    "    training_loss = 0.0\n",
    "    total = 0\n",
    "    correct = 0\n",
    "    for i, data in enumerate(train_loader, 0):\n",
    "        inputs, labels = data\n",
    "        inputs = inputs.to(device)\n",
    "        labels = labels.to(device)\n",
    "        optimizer.zero_grad()\n",
    "        outputs = model(inputs)\n",
    "        loss = criterion(outputs, labels)\n",
    "        loss.backward()\n",
    "        optimizer.step()\n",
    "        training_loss += loss.item()\n",
    "        _, predicted = torch.max(outputs.data, 1)\n",
    "        total += labels.size(0)\n",
    "        correct += (predicted == labels).sum().item()\n",
    "    training_loss /= len(train_loader)\n",
    "    train_losses.append(training_loss)\n",
    "    train_accuracy = 100 * correct / total\n",
    "    train_accuracies.append(train_accuracy)\n",
    "\n",
    "    # Validation\n",
    "    model.eval()\n",
    "    val_loss = 0.0\n",
    "    correct_val = 0\n",
    "    total_val = 0\n",
    "    with torch.no_grad():\n",
    "        for data in val_loader:\n",
    "            inputs, labels = data\n",
    "            inputs = inputs.to(device)\n",
    "            labels = labels.to(device)\n",
    "            outputs = model(inputs)\n",
    "            loss = criterion(outputs, labels)\n",
    "            val_loss += loss.item()\n",
    "            _, predicted = torch.max(outputs.data, 1)\n",
    "            total_val += labels.size(0)\n",
    "            correct_val += (predicted == labels).sum().item()\n",
    "    val_loss /= len(val_loader)\n",
    "    val_accuracy = 100 * correct_val / total_val\n",
    "    \n",
    "    if val_loss<best_loss:\n",
    "        best_loss = val_loss\n",
    "        counter = 0\n",
    "    else:\n",
    "        counter = 1\n",
    "    if counter == patience:\n",
    "        print('early stopping occured')\n",
    "        torch.save(model.state_dict(), 'resetearly.pth')\n",
    "        break\n",
    "    \n",
    "    val_losses.append(val_loss)\n",
    "    val_accuracies.append(val_accuracy)\n",
    "\n",
    "    print(f\"Epoch [{epoch+1}/{num_epochs}] Train Loss: {training_loss:.4f},Train_accuracy : {train_accuracy:.4f}%, Val Loss: {val_loss:.4f}, Val_accuracy: {val_accuracy:.4f}%\")\n",
    "\n",
    "print('Finished Training')"
   ]
  },
  {
   "cell_type": "code",
   "execution_count": 17,
   "metadata": {
    "id": "93XB7xQE4B8J"
   },
   "outputs": [],
   "source": [
    "# 6. Save the best model\n",
    "torch.save(model.state_dict(), 'resnet_new.pth')"
   ]
  },
  {
   "cell_type": "code",
   "execution_count": 18,
   "metadata": {
    "id": "nYLE-xlh4B3p"
   },
   "outputs": [
    {
     "name": "stdout",
     "output_type": "stream",
     "text": [
      "Accuracy of the network on the test images: 71 %\n",
      "Test loss is  0.9818776769089782\n"
     ]
    }
   ],
   "source": [
    "correct = 0\n",
    "total = 0\n",
    "y_true = []\n",
    "y_pred = []\n",
    "test_losses = []\n",
    "test_accuracies = []\n",
    "test_loss = 0\n",
    "with torch.no_grad():\n",
    "    for data in test_loader:\n",
    "        inputs, labels = data\n",
    "        inputs= inputs.to(device)\n",
    "        labels = labels.to(device)\n",
    "        outputs = model(inputs)\n",
    "        loss = criterion(outputs, labels)\n",
    "        test_loss += loss.item()\n",
    "        \n",
    "        _, predicted = torch.max(outputs.data, 1)\n",
    "        total += labels.size(0)\n",
    "        correct += (predicted == labels).sum().item()\n",
    "        y_true.extend(labels.cpu().numpy())\n",
    "        y_pred.extend(predicted.cpu().numpy())\n",
    "test_loss /= len(val_loader)\n",
    "test_accuracy = 100 * correct / total\n",
    "test_losses.append(test_loss)\n",
    "test_accuracies.append(test_accuracy)\n",
    "\n",
    "print('Accuracy of the network on the test images: %d %%' % (test_accuracy))\n",
    "print('Test loss is ',(test_loss))"
   ]
  },
  {
   "cell_type": "code",
   "execution_count": 21,
   "metadata": {
    "id": "sX8IEoMA4BzY"
   },
   "outputs": [
    {
     "data": {
      "text/plain": [
       "<matplotlib.legend.Legend at 0x14f436a12fa0>"
      ]
     },
     "execution_count": 21,
     "metadata": {},
     "output_type": "execute_result"
    },
    {
     "data": {
      "image/png": "[encoded data removed]",
      "text/plain": [
       "<Figure size 1008x360 with 1 Axes>"
      ]
     },
     "metadata": {
      "needs_background": "light"
     },
     "output_type": "display_data"
    }
   ],
   "source": [
    "\n",
    "epochs = range(1, num_epochs + 1)\n",
    "plt.figure(figsize=(14, 5))\n",
    "plt.subplot(1, 2, 1)\n",
    "plt.plot(epochs, train_accuracies, 'b', label='Training Accuracy')\n",
    "plt.plot(epochs, val_accuracies, 'r', label='Validation Accuracy')\n",
    "plt.title('Training and Validation Accuracy')\n",
    "plt.xlabel('Epochs')\n",
    "plt.ylabel('Accuracy')\n",
    "plt.legend()\n"
   ]
  },
  {
   "cell_type": "code",
   "execution_count": 22,
   "metadata": {
    "id": "cB4j5wY64BrX"
   },
   "outputs": [
    {
     "data": {
      "image/png": "[encoded data removed]",
      "text/plain": [
       "<Figure size 432x288 with 1 Axes>"
      ]
     },
     "metadata": {
      "needs_background": "light"
     },
     "output_type": "display_data"
    }
   ],
   "source": [
    "plt.plot(epochs, train_losses, 'b', label='Training Loss')\n",
    "plt.plot(epochs, val_losses, 'r', label='Validation Loss')\n",
    "plt.title('Training and Validation Loss')\n",
    "plt.xlabel('Epochs')\n",
    "plt.ylabel('Loss')\n",
    "plt.legend()\n",
    "\n",
    "plt.show()"
   ]
  },
  {
   "cell_type": "code",
   "execution_count": 23,
   "metadata": {
    "id": "bJ-O0oO94Blq"
   },
   "outputs": [],
   "source": [
    "from sklearn.metrics import confusion_matrix"
   ]
  },
  {
   "cell_type": "code",
   "execution_count": 24,
   "metadata": {},
   "outputs": [
    {
     "data": {
      "image/png": "[encoded data removed]",
      "text/plain": [
       "<Figure size 720x720 with 2 Axes>"
      ]
     },
     "metadata": {
      "needs_background": "light"
     },
     "output_type": "display_data"
    }
   ],
   "source": [
    "import matplotlib.pyplot as plt\n",
    "import seaborn as sns\n",
    "\n",
    "# Plot confusion matrix\n",
    "cm = confusion_matrix(y_true, y_pred)\n",
    "plt.figure(figsize=(10, 10))\n",
    "sns.heatmap(cm, annot=True, fmt=\"d\")\n",
    "plt.title(\"Confusion Matrix\")\n",
    "plt.xlabel(\"Predicted\")\n",
    "plt.ylabel(\"True\")\n",
    "plt.show()"
   ]
  },
  {
   "cell_type": "code",
   "execution_count": null,
   "metadata": {},
   "outputs": [],
   "source": []
  }
 ],
 "metadata": {
  "colab": {
   "provenance": []
  },
  "kernelspec": {
   "display_name": "RLevn",
   "language": "python",
   "name": "rlevn"
  },
  "language_info": {
   "codemirror_mode": {
    "name": "ipython",
    "version": 3
   },
   "file_extension": ".py",
   "mimetype": "text/x-python",
   "name": "python",
   "nbconvert_exporter": "python",
   "pygments_lexer": "ipython3",
   "version": "3.9.6"
  }
 },
 "nbformat": 4,
 "nbformat_minor": 1
}
