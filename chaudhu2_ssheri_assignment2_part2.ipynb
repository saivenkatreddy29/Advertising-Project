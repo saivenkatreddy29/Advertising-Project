{
 "cells": [
  {
   "cell_type": "markdown",
   "metadata": {},
   "source": [
    "# **PART II:** Theoretical Part – Autoencoders for Anomaly Detection in Manufacturing [20 pts]\n",
    "\n",
    "In manufacturing industries, ensuring the quality of products is important. Detecting anomalies or defects in the production process can be challenging, especially in large-scale operations. Traditional methods often rely on manual inspection or rule-based systems, which can be time-consuming and prone to human error. \n",
    "\n",
    "**Scenario:** A manufacturing company “ElectroGuard Innovations” produces electronic components, and they want to improve their quality control process by implementing an automated anomaly detection system. The company collects sensor data from the production line, which includes various parameters such as temperature, pressure, and voltage readings. Anomalies in these readings could indicate potential defects in the components. \n",
    "\n",
    "**Objective:** To develop an automated anomaly detection system using an autoencoder neural network to identify defects in the manufacturing process."
   ]
  },
  {
   "cell_type": "markdown",
   "metadata": {},
   "source": [
    "## Autoencoder Architecture: \n",
    "\n",
    "- **Input layer:** 1000-dimensional vectors\n",
    "\n",
    "- **Hidden layer 1:** Fully connected layer with 512 units and ReLU activation\n",
    "\n",
    "- **Bottleneck layer:** Fully connected layer with 32 units\n",
    "\n",
    "- **Hidden layer 2:** Fully connected layer with 512 units and ReLU activation\n",
    "\n",
    "- **Output layer:** Fully connected layer with 1000 units and sigmoid activation\n",
    "\n",
    "- Autoencoder is trained using **MSE loss**"
   ]
  },
  {
   "cell_type": "markdown",
   "metadata": {},
   "source": [
    "**NOTE:** You may directly write math expressions in LaTeX in Markdown cells of this notebook (see [examples](https://jupyter-notebook.readthedocs.io/en/stable/examples/Notebook/Typesetting%20Equations.html)). Or provide the answers in a separate PDF file (generated from LaTeX, Word, or handwriting notes, etc.). In either case, your answer should be a single file named as `<TEAMMATE1-UBIT>_<TEAMMATE2-UBIT>_assignment2_part2.<ipynb|pdf>` (e.g., `avereshc_atharvap_assignment2_part2.ipynb`)."
   ]
  },
  {
   "cell_type": "markdown",
   "metadata": {},
   "source": [
    "## **TASK 1**\n",
    "\n",
    "Calculate the total number of parameters in the autoencoder, including weights and biases."
   ]
  },
  {
   "cell_type": "markdown",
   "metadata": {},
   "source": [
    "<font color='green'>### YOUR ANSWER ###</font>\n",
    "\n",
    "$$\n",
    "(1000*512) + 512 = 512512\n",
    "$$\n",
    "$$\n",
    "(512*32) + 32 = 16416\n",
    "$$\n",
    "$$\n",
    "(32*512) + 512 = 16896\n",
    "$$\n",
    "$$\n",
    "(512*1000) + 1000 = 513000\n",
    "$$\n",
    "$$\n",
    "\\rule{12cm}{1.2pt}\n",
    "$$\n",
    "\n",
    "$$\n",
    "\\text{Total  } = 1058824\n",
    "$$"
   ]
  },
  {
   "cell_type": "markdown",
   "metadata": {},
   "source": [
    "## **TASK 2**\n",
    "Generate a computational graph for the autoencoder.\n",
    "\n",
    "**NOTE:** You can draw it on paper or use any other software. If you choose to answer the questions in this notebook, please insert images in the cell below (you may use the provided code). If you provide your answers in another PDF file, please put the calculation chart and all other answers into the same document."
   ]
  },
  {
   "cell_type": "markdown",
   "metadata": {},
   "source": [
    "<font color='green'>### YOUR ANSWER ###</font>\n",
    "\n",
    "<img src=\"./Computational_graph.jpg\" width=\"1200\"/>"
   ]
  },
  {
   "cell_type": "markdown",
   "metadata": {},
   "source": [
    "## **TASK 3**\n",
    "\n",
    "Discuss potential challenges and limitations (at least 4) of using autoencoders for anomaly detection in manufacturing."
   ]
  },
  {
   "cell_type": "markdown",
   "metadata": {},
   "source": [
    "<font color='green'>### YOUR ANSWER ###</font>\n",
    "\n",
    "Handling the data that was not the part of training data is difficult using autoencoders. They mostly identify the parts that were learnt. \n",
    "\n",
    "Training auto encoders in manufacturing field might be computationally intensive as the data will be coming from different resources. The data will not be very clean it needs lot of pre processing to apply auto encoders and if it is not properly cleaned there is a chance of learning noise and give bad predictions.\n",
    "\n",
    "Setting proper threshold value is also a challenge in auto encoders. when we set low threshold value it might predict correct parts as anomaly, if we set large threshold values it might not detect the actual anomalies.\n",
    "\n",
    "Highly sensitive to the parameters. Even for small changes in parameters there will be huge difference in the model performance, if we fail to tune one or two parameters perfectly then the model can predict the outputs wrongly.\n",
    "\n",
    "Similar to most of the complex deep learning architectures deep auto encoders are also not interpretable. As the architecture is difficult to understand it is difficult to debug any issues occurred. \n"
   ]
  },
  {
   "cell_type": "markdown",
   "metadata": {},
   "source": [
    "## **TASK 4**\n",
    "\n",
    "Propose potential improvements or extensions (at least 3) to the system to enhance its effectiveness in detecting anomalies."
   ]
  },
  {
   "cell_type": "markdown",
   "metadata": {},
   "source": [
    "<font color='green'>### YOUR ANSWER ###</font>\n",
    "\n",
    "\n",
    "Ensemble methods: By using ensemble learning we can make the model more generalized by using outputs of various models. Combining different autoencoder models with other anomaly detection techniques will improve robustness there by increasing the performance.\n",
    "\n",
    "Adding Attention: Attention is an important advancement to auto encoders, by adding attention layers the model will have more focus on the relevant features for anomaly detection. This will help us achieve desired accuracy with fewer computation\n",
    "\n",
    "Explain ability : By increasing the interpretability of autoencoder based anomaly detection we can increase the understanding of the model which will help us in trouble shooting. \n",
    "\n",
    "Including time series analysis by adding recurrent neural networks to capture patterns in manufacturing in time snaps.\n",
    "\n",
    "Adaptive Thresholding: We need to use adaptive thresholding techniques in place of fixed threshold. This will help us to adjust the properties of reconstruction error, which will make more stable and accurate model \n",
    " "
   ]
  }
 ],
 "metadata": {
  "kernelspec": {
   "display_name": "676",
   "language": "python",
   "name": "python3"
  },
  "language_info": {
   "name": "python",
   "version": "3.12.2"
  }
 },
 "nbformat": 4,
 "nbformat_minor": 2
}
