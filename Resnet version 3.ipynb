{
 "cells": [
  {
   "cell_type": "code",
   "execution_count": 1,
   "metadata": {
    "id": "VnvjjQVv0QdI"
   },
   "outputs": [],
   "source": [
    "import torch\n",
    "from torchvision import datasets, transforms"
   ]
  },
  {
   "cell_type": "code",
   "execution_count": 2,
   "metadata": {
    "id": "D-pm01sr6BFA"
   },
   "outputs": [],
   "source": [
    "# Define transformations for data augmentation and preprocessing\n",
    "transform = transforms.Compose([\n",
    "    transforms.ToTensor(),\n",
    "    transforms.Normalize((0.5, 0.5, 0.5), (0.5, 0.5, 0.5))\n",
    "])\n",
    "\n"
   ]
  },
  {
   "cell_type": "code",
   "execution_count": 3,
   "metadata": {},
   "outputs": [
    {
     "data": {
      "text/plain": [
       "'/user/ssheri'"
      ]
     },
     "execution_count": 3,
     "metadata": {},
     "output_type": "execute_result"
    }
   ],
   "source": [
    "pwd"
   ]
  },
  {
   "cell_type": "code",
   "execution_count": 23,
   "metadata": {
    "id": "2yzcJ_GJ4L-V"
   },
   "outputs": [],
   "source": [
    "data = datasets.ImageFolder('/user/ssheri/train_dataset',transform=transform)"
   ]
  },
  {
   "cell_type": "code",
   "execution_count": 5,
   "metadata": {
    "id": "vXMqHsvU1mwq"
   },
   "outputs": [],
   "source": [
    "import torch\n",
    "import torch.nn as nn\n",
    "import torch.optim as optim\n",
    "from torch.utils.data import DataLoader\n",
    "from torchvision import datasets, transforms"
   ]
  },
  {
   "cell_type": "code",
   "execution_count": 6,
   "metadata": {
    "id": "iDtlzrmGqqz0"
   },
   "outputs": [],
   "source": [
    "class Block(nn.Module):\n",
    "    def __init__(self, in_channels, out_channels, identity_downsample=None, stride=1):\n",
    "\n",
    "        super(Block, self).__init__()\n",
    "        # Every Resedual block will have two convolution layers with batch normalization done before applying relu\n",
    "        self.conv1 = nn.Conv2d(in_channels, out_channels, kernel_size=3, stride=stride, padding=1, bias=False)\n",
    "        self.batchnorm1 = nn.BatchNorm2d(out_channels)\n",
    "        self.conv2 = nn.Conv2d(out_channels, out_channels, kernel_size=3, stride=1, padding=1, bias=False)\n",
    "        self.batchnorm2 = nn.BatchNorm2d(out_channels)\n",
    "        self.relu = nn.ReLU()\n",
    "        self.identity_downsample = identity_downsample\n",
    "\n",
    "    def forward(self, x):\n",
    "        identity = x.clone()\n",
    "\n",
    "        x = self.conv1(x)\n",
    "        x = self.batchnorm1(x)\n",
    "        x = self.relu(x)\n",
    "        x = self.conv2(x)\n",
    "        x = self.batchnorm2(x)\n",
    "\n",
    "        if self.identity_downsample is not None:\n",
    "            identity = self.identity_downsample(identity)\n",
    "\n",
    "        x += identity\n",
    "        x = self.relu(x)\n",
    "        return x\n"
   ]
  },
  {
   "cell_type": "code",
   "execution_count": 7,
   "metadata": {
    "id": "NeNcY3tsqm9a"
   },
   "outputs": [],
   "source": [
    "\n",
    "class ResNet(nn.Module):\n",
    "  \n",
    "  def __init__(self, block, layers, image_channels, num_classes):\n",
    "    super(ResNet, self).__init__()\n",
    "    self.expansion = 1 # expansion factor is 1 for resnet 18, it is 4 for resnet 50,101 and 152\n",
    "    self.in_channels = 64\n",
    "    self.conv1 = nn.Conv2d(image_channels, 64, kernel_size=7, stride=2, padding=3, bias=False) # Extracts the low level features from input image\n",
    "    self.bn1 = nn.BatchNorm2d(64)\n",
    "    self.relu = nn.ReLU()\n",
    "    self.maxpool = nn.MaxPool2d(kernel_size=3, stride=2, padding=1)\n",
    "    # Feature map size of 112 * 112\n",
    "    self.layer1 = self.make_layer(block, layers[0], out_channels=64, stride=1) # Two convolutions with 64 outputs\n",
    "    self.layer2 = self.make_layer(block, layers[1], out_channels=128, stride=2) # Two convolution with 128 outputs\n",
    "    self.layer3 = self.make_layer(block, layers[2], out_channels=256, stride=2) # Two convolutions with 256 outputs\n",
    "    self.layer4 = self.make_layer(block, layers[3], out_channels=512, stride=2) # Two convolution with 512 outputs\n",
    "    # Feature map size of 7 * 7\n",
    "    self.avgpool = nn.AdaptiveAvgPool2d((1, 1))\n",
    "    self.fc = nn.Linear(512 * self.expansion, num_classes)\n",
    "# Increasing the filter size will help us to create more deep model and capture complex models\n",
    "  def forward(self, x):\n",
    "    x = self.conv1(x)\n",
    "    x = self.bn1(x)\n",
    "    x = self.relu(x)\n",
    "    x = self.maxpool(x)\n",
    "\n",
    "    x = self.layer1(x)\n",
    "    x = self.layer2(x)\n",
    "    x = self.layer3(x)\n",
    "    x = self.layer4(x)\n",
    "\n",
    "    x = self.avgpool(x)\n",
    "    x = torch.flatten(x,1)\n",
    "    x = self.fc(x)\n",
    "\n",
    "    return x\n",
    "\n",
    "  def make_layer(self, block, num_residual_blocks, out_channels, stride):\n",
    "    identity_downsample = None # initially identity_downsample is none\n",
    "    layers = []\n",
    "\n",
    "    if stride != 1 or self.in_channels != self.expansion * out_channels:\n",
    "        identity_downsample = nn.Sequential(\n",
    "            nn.Conv2d(self.in_channels, self.expansion * out_channels, kernel_size=1, stride=stride, bias=False),\n",
    "            nn.BatchNorm2d(self.expansion * out_channels)\n",
    "        )\n",
    "        # when above case occurs we create a identity_downsample with 1*1 conv layer to match number of channels\n",
    "\n",
    "    layers.append(block(self.in_channels, out_channels, identity_downsample, stride)) # append the first residual block with matched dimensions to layers\n",
    "    self.in_channels = out_channels * self.expansion # update input channels\n",
    "\n",
    "    for i in range(num_residual_blocks - 1): # append remaining residual blocks\n",
    "        layers.append(block(self.in_channels, out_channels))\n",
    "\n",
    "    return nn.Sequential(*layers)"
   ]
  },
  {
   "cell_type": "code",
   "execution_count": 8,
   "metadata": {
    "id": "ksR0vWCktEKu"
   },
   "outputs": [],
   "source": [
    "def ResNet18(img_channel=3, num_classes=len(data.classes)):\n",
    "    return ResNet(Block, [2, 2, 2, 2], img_channel, num_classes)\n"
   ]
  },
  {
   "cell_type": "code",
   "execution_count": null,
   "metadata": {
    "id": "tPW8UAl4qwzW"
   },
   "outputs": [],
   "source": []
  },
  {
   "cell_type": "code",
   "execution_count": null,
   "metadata": {
    "id": "OY_tKjfZz6Ze"
   },
   "outputs": [],
   "source": []
  },
  {
   "cell_type": "code",
   "execution_count": null,
   "metadata": {
    "id": "bP138E3m6-JU"
   },
   "outputs": [],
   "source": []
  },
  {
   "cell_type": "code",
   "execution_count": 9,
   "metadata": {
    "id": "a27sOGSg7e7I"
   },
   "outputs": [],
   "source": [
    "from torch.utils.data import random_split, DataLoader"
   ]
  },
  {
   "cell_type": "code",
   "execution_count": 10,
   "metadata": {
    "id": "LcCT9LfL4L5X"
   },
   "outputs": [],
   "source": [
    "train_size = int(0.7 * len(data))\n",
    "rem = len(data) - train_size\n",
    "test=int(rem/2)\n",
    "\n",
    "train_data, test_data,val_data = random_split(data, [train_size,test,test])"
   ]
  },
  {
   "cell_type": "code",
   "execution_count": 11,
   "metadata": {
    "colab": {
     "base_uri": "https://localhost:8080/"
    },
    "id": "jYjce6xv7i3J",
    "outputId": "4f57c244-1576-4dd0-e405-26602f16d388"
   },
   "outputs": [
    {
     "data": {
      "text/plain": [
       "50446"
      ]
     },
     "execution_count": 11,
     "metadata": {},
     "output_type": "execute_result"
    }
   ],
   "source": [
    "len(train_data)"
   ]
  },
  {
   "cell_type": "code",
   "execution_count": 12,
   "metadata": {
    "id": "wW8vpGBR7iS5"
   },
   "outputs": [],
   "source": [
    "train_loader = DataLoader(train_data, batch_size=35, shuffle=True)\n",
    "test_loader = DataLoader(test_data, batch_size=35, shuffle=False)\n",
    "val_loader = DataLoader(val_data,batch_size = 35, shuffle = False)"
   ]
  },
  {
   "cell_type": "code",
   "execution_count": 13,
   "metadata": {
    "id": "ZAXLXpGp8TQ6"
   },
   "outputs": [],
   "source": [
    "device = torch.device(\"cuda\" if torch.cuda.is_available() else \"cpu\")"
   ]
  },
  {
   "cell_type": "code",
   "execution_count": 24,
   "metadata": {
    "colab": {
     "base_uri": "https://localhost:8080/"
    },
    "id": "Sf5s-7wAay35",
    "outputId": "b19776de-a87f-4de5-c2e5-202f03a07cbc"
   },
   "outputs": [
    {
     "data": {
      "text/plain": [
       "15"
      ]
     },
     "execution_count": 24,
     "metadata": {},
     "output_type": "execute_result"
    }
   ],
   "source": [
    "len(data.classes)"
   ]
  },
  {
   "cell_type": "code",
   "execution_count": null,
   "metadata": {
    "id": "m9EyNNQB2BwN"
   },
   "outputs": [],
   "source": []
  },
  {
   "cell_type": "code",
   "execution_count": 15,
   "metadata": {
    "id": "stOfHI4H4L0Y"
   },
   "outputs": [],
   "source": [
    "model = ResNet18(num_classes=len(data.classes)).to(device)\n",
    "criterion = nn.CrossEntropyLoss()\n",
    "optimizer = optim.SGD(model.parameters(), lr=0.1, momentum=0.9, weight_decay=1e-4)"
   ]
  },
  {
   "cell_type": "code",
   "execution_count": null,
   "metadata": {
    "id": "BmDlgB_L7r2W"
   },
   "outputs": [],
   "source": []
  },
  {
   "cell_type": "code",
   "execution_count": 16,
   "metadata": {
    "colab": {
     "base_uri": "https://localhost:8080/"
    },
    "id": "DpF8Ej3h4CAv",
    "outputId": "44465284-336f-45a7-827e-663f977d8048"
   },
   "outputs": [
    {
     "name": "stdout",
     "output_type": "stream",
     "text": [
      "Epoch [1/20], Train Loss: 2.1320, Train Acc: 31.75%, Val Loss: 1.9725, Val Acc: 36.27%\n",
      "Epoch [2/20], Train Loss: 1.6519, Train Acc: 46.84%, Val Loss: 1.6091, Val Acc: 49.03%\n",
      "Epoch [3/20], Train Loss: 1.3701, Train Acc: 56.00%, Val Loss: 1.4189, Val Acc: 55.87%\n",
      "Epoch [4/20], Train Loss: 1.1822, Train Acc: 62.09%, Val Loss: 1.1719, Val Acc: 61.62%\n",
      "Epoch [5/20], Train Loss: 1.0643, Train Acc: 65.79%, Val Loss: 1.0953, Val Acc: 65.05%\n",
      "Epoch [6/20], Train Loss: 0.9563, Train Acc: 69.03%, Val Loss: 1.2631, Val Acc: 61.28%\n",
      "Epoch [7/20], Train Loss: 0.8865, Train Acc: 71.41%, Val Loss: 1.1191, Val Acc: 64.69%\n",
      "Epoch [8/20], Train Loss: 0.8123, Train Acc: 73.74%, Val Loss: 1.0815, Val Acc: 66.17%\n",
      "Epoch [9/20], Train Loss: 0.7505, Train Acc: 75.73%, Val Loss: 1.0071, Val Acc: 68.15%\n",
      "Epoch [10/20], Train Loss: 0.6856, Train Acc: 77.52%, Val Loss: 1.2341, Val Acc: 64.84%\n",
      "Epoch [11/20], Train Loss: 0.6338, Train Acc: 79.12%, Val Loss: 1.4855, Val Acc: 58.43%\n",
      "Epoch [12/20], Train Loss: 0.5789, Train Acc: 80.96%, Val Loss: 1.1068, Val Acc: 67.00%\n",
      "Epoch [13/20], Train Loss: 0.5200, Train Acc: 82.82%, Val Loss: 1.1484, Val Acc: 67.98%\n",
      "Epoch [14/20], Train Loss: 0.4825, Train Acc: 84.10%, Val Loss: 1.0970, Val Acc: 68.38%\n",
      "Epoch [15/20], Train Loss: 0.4379, Train Acc: 85.22%, Val Loss: 1.1530, Val Acc: 69.33%\n",
      "Epoch [16/20], Train Loss: 0.4075, Train Acc: 86.35%, Val Loss: 1.2238, Val Acc: 67.71%\n",
      "Epoch [17/20], Train Loss: 0.3844, Train Acc: 87.28%, Val Loss: 1.4902, Val Acc: 63.54%\n",
      "Epoch [18/20], Train Loss: 0.3560, Train Acc: 88.20%, Val Loss: 1.2879, Val Acc: 65.69%\n",
      "Epoch [19/20], Train Loss: 0.3447, Train Acc: 88.49%, Val Loss: 1.5007, Val Acc: 60.64%\n",
      "Epoch [20/20], Train Loss: 0.3329, Train Acc: 88.83%, Val Loss: 1.3637, Val Acc: 66.11%\n"
     ]
    }
   ],
   "source": [
    "\n",
    "\n",
    "# 5. Train the model\n",
    "num_epochs = 20\n",
    "train_losses = []\n",
    "train_accuracies = []\n",
    "val_losses = []\n",
    "val_accuracies = []\n",
    "\n",
    "for epoch in range(num_epochs):\n",
    "    train_loss = 0.0\n",
    "    train_correct = 0\n",
    "    val_loss = 0.0\n",
    "    val_correct = 0\n",
    "\n",
    "    # Training loop\n",
    "    model.train()\n",
    "    for inputs, labels in train_loader:\n",
    "        inputs, labels = inputs.to(device), labels.to(device)\n",
    "        optimizer.zero_grad()\n",
    "        outputs = model(inputs)\n",
    "        loss = criterion(outputs, labels)\n",
    "        loss.backward()\n",
    "        optimizer.step()\n",
    "        train_loss += loss.item() * inputs.size(0)\n",
    "        _, preds = torch.max(outputs, 1)\n",
    "        train_correct += torch.sum(preds == labels.data)\n",
    "\n",
    "    # Validation loop\n",
    "    model.eval()\n",
    "    with torch.no_grad():\n",
    "        for inputs, labels in val_loader:\n",
    "            inputs, labels = inputs.to(device), labels.to(device)\n",
    "            outputs = model(inputs)\n",
    "            loss = criterion(outputs, labels)\n",
    "            val_loss += loss.item() * inputs.size(0)\n",
    "            _, preds = torch.max(outputs, 1)\n",
    "            val_correct += torch.sum(preds == labels.data)\n",
    "\n",
    "    train_loss /= len(train_data)\n",
    "    train_accuracy = 100.0 * train_correct / len(train_data)\n",
    "    val_loss /= len(val_data)\n",
    "    val_accuracy = 100.0 * val_correct / len(val_data)\n",
    "\n",
    "    train_losses.append(train_loss)\n",
    "    train_accuracies.append(train_accuracy)\n",
    "    val_losses.append(val_loss)\n",
    "    val_accuracies.append(val_accuracy)\n",
    "\n",
    "    print(f'Epoch [{epoch+1}/{num_epochs}], Train Loss: {train_loss:.4f}, Train Acc: {train_accuracy:.2f}%, Val Loss: {val_loss:.4f}, Val Acc: {val_accuracy:.2f}%')\n",
    "\n",
    "\n"
   ]
  },
  {
   "cell_type": "code",
   "execution_count": 17,
   "metadata": {
    "id": "93XB7xQE4B8J"
   },
   "outputs": [
    {
     "name": "stdout",
     "output_type": "stream",
     "text": [
      "Accuracy of the network on the test images: 65 %\n",
      "Test loss is  1.4094692690472772\n"
     ]
    }
   ],
   "source": [
    "correct = 0\n",
    "total = 0\n",
    "y_true = []\n",
    "y_pred = []\n",
    "test_losses = []\n",
    "test_accuracies = []\n",
    "test_loss = 0\n",
    "with torch.no_grad():\n",
    "    for data in test_loader:\n",
    "        inputs, labels = data\n",
    "        inputs= inputs.to(device)\n",
    "        labels = labels.to(device)\n",
    "        outputs = model(inputs)\n",
    "        loss = criterion(outputs, labels)\n",
    "        test_loss += loss.item()\n",
    "        \n",
    "        _, predicted = torch.max(outputs.data, 1)\n",
    "        total += labels.size(0)\n",
    "        correct += (predicted == labels).sum().item()\n",
    "        y_true.extend(labels.cpu().numpy())\n",
    "        y_pred.extend(predicted.cpu().numpy())\n",
    "test_loss /= len(val_loader)\n",
    "test_accuracy = 100 * correct / total\n",
    "test_losses.append(test_loss)\n",
    "test_accuracies.append(test_accuracy)\n",
    "\n",
    "print('Accuracy of the network on the test images: %d %%' % (test_accuracy))\n",
    "print('Test loss is ',(test_loss))"
   ]
  },
  {
   "cell_type": "markdown",
   "metadata": {
    "id": "nYLE-xlh4B3p"
   },
   "source": [
    "### We will apply drop outs and early stopping in order to avoid over fitting"
   ]
  },
  {
   "cell_type": "code",
   "execution_count": 18,
   "metadata": {},
   "outputs": [],
   "source": [
    "class Block(nn.Module):\n",
    "    def __init__(self, in_channels, out_channels, identity_downsample=None, stride=1):\n",
    "\n",
    "        super(Block, self).__init__()\n",
    "        self.conv1 = nn.Conv2d(in_channels, out_channels, kernel_size=3, stride=stride, padding=1, bias=False)\n",
    "        self.batchnorm1 = nn.BatchNorm2d(out_channels)\n",
    "        self.conv2 = nn.Conv2d(out_channels, out_channels, kernel_size=3, stride=1, padding=1, bias=False)\n",
    "        self.batchnorm2 = nn.BatchNorm2d(out_channels)\n",
    "        self.relu = nn.ReLU()\n",
    "        self.identity_downsample = identity_downsample\n",
    "        self.dropout = nn.Dropout(0.3)\n",
    "\n",
    "    def forward(self, x):\n",
    "        identity = x.clone()\n",
    "\n",
    "        x = self.conv1(x)\n",
    "        x = self.batchnorm1(x)\n",
    "        x = self.relu(x)\n",
    "        x = self.dropout(x)\n",
    "        x = self.conv2(x)\n",
    "        x = self.batchnorm2(x)\n",
    "\n",
    "        if self.identity_downsample is not None:\n",
    "            identity = self.identity_downsample(identity)\n",
    "\n",
    "        x += identity\n",
    "        x = self.relu(x)\n",
    "        x = self.dropout(x)\n",
    "        return x\n"
   ]
  },
  {
   "cell_type": "code",
   "execution_count": 19,
   "metadata": {},
   "outputs": [],
   "source": [
    "\n",
    "class ResNet(nn.Module):\n",
    "  \n",
    "  def __init__(self, block, layers, image_channels, num_classes):\n",
    "    super(ResNet, self).__init__()\n",
    "    self.expansion = 1 # expansion factor is 1 for resnet 18, it is 4 for resnet 50,101 and 152\n",
    "    self.in_channels = 64\n",
    "    self.conv1 = nn.Conv2d(image_channels, 64, kernel_size=7, stride=2, padding=3, bias=False) # Extracts the low level features from input image\n",
    "    self.bn1 = nn.BatchNorm2d(64)\n",
    "    self.relu = nn.ReLU()\n",
    "    self.maxpool = nn.MaxPool2d(kernel_size=3, stride=2, padding=1)\n",
    "    # Feature map size of 112 * 112\n",
    "    self.layer1 = self.make_layer(block, layers[0], out_channels=64, stride=1) # Two convolutions with 64 outputs\n",
    "    self.layer2 = self.make_layer(block, layers[1], out_channels=128, stride=2) # Two convolution with 128 outputs\n",
    "    self.layer3 = self.make_layer(block, layers[2], out_channels=256, stride=2) # Two convolutions with 256 outputs\n",
    "    self.layer4 = self.make_layer(block, layers[3], out_channels=512, stride=2) # Two convolution with 512 outputs\n",
    "    # Feature map size of 7 * 7\n",
    "    self.avgpool = nn.AdaptiveAvgPool2d((1, 1))\n",
    "    self.fc = nn.Linear(512 * self.expansion, num_classes)\n",
    "# Increasing the filter size will help us to create more deep model and capture complex models\n",
    "  def forward(self, x):\n",
    "    x = self.conv1(x)\n",
    "    x = self.bn1(x)\n",
    "    x = self.relu(x)\n",
    "    x = self.maxpool(x)\n",
    "\n",
    "    x = self.layer1(x)\n",
    "    x = self.layer2(x)\n",
    "    x = self.layer3(x)\n",
    "    x = self.layer4(x)\n",
    "\n",
    "    x = self.avgpool(x)\n",
    "    x = torch.flatten(x,1)\n",
    "    x = self.fc(x)\n",
    "\n",
    "    return x\n",
    "\n",
    "  def make_layer(self, block, num_residual_blocks, out_channels, stride):\n",
    "    identity_downsample = None # initially identity_downsample is none\n",
    "    layers = []\n",
    "\n",
    "    if stride != 1 or self.in_channels != self.expansion * out_channels:\n",
    "        identity_downsample = nn.Sequential(\n",
    "            nn.Conv2d(self.in_channels, self.expansion * out_channels, kernel_size=1, stride=stride, bias=False),\n",
    "            nn.BatchNorm2d(self.expansion * out_channels)\n",
    "        )\n",
    "        # when above case occurs we create a identity_downsample with 1*1 conv layer to match number of channels\n",
    "\n",
    "    layers.append(block(self.in_channels, out_channels, identity_downsample, stride)) # append the first residual block with matched dimensions to layers\n",
    "    self.in_channels = out_channels * self.expansion # update input channels\n",
    "\n",
    "    for i in range(num_residual_blocks - 1): # append remaining residual blocks\n",
    "        layers.append(block(self.in_channels, out_channels))\n",
    "\n",
    "    return nn.Sequential(*layers)"
   ]
  },
  {
   "cell_type": "code",
   "execution_count": 25,
   "metadata": {
    "id": "sX8IEoMA4BzY"
   },
   "outputs": [],
   "source": [
    "def ResNet18(img_channel=3, num_classes=len(data.classes)):\n",
    "    return ResNet(Block, [2, 2, 2, 2], img_channel, num_classes)\n"
   ]
  },
  {
   "cell_type": "code",
   "execution_count": 26,
   "metadata": {
    "id": "cB4j5wY64BrX"
   },
   "outputs": [],
   "source": [
    "model = ResNet18(num_classes=len(data.classes)).to(device)\n",
    "criterion = nn.CrossEntropyLoss()\n",
    "optimizer = optim.SGD(model.parameters(), lr=0.1, momentum=0.9, weight_decay=1e-4)"
   ]
  },
  {
   "cell_type": "code",
   "execution_count": 27,
   "metadata": {
    "id": "bJ-O0oO94Blq"
   },
   "outputs": [
    {
     "name": "stdout",
     "output_type": "stream",
     "text": [
      "Epoch [1/20] Train Loss: 2.2160,Train_accuracy : 28.4958%, Val Loss: 1.8208, Val_accuracy: 41.7576%\n",
      "Epoch [2/20] Train Loss: 1.7262,Train_accuracy : 43.9777%, Val Loss: 1.5818, Val_accuracy: 48.6494%\n",
      "Epoch [3/20] Train Loss: 1.4811,Train_accuracy : 52.2142%, Val Loss: 1.5511, Val_accuracy: 50.6846%\n",
      "Epoch [4/20] Train Loss: 1.3182,Train_accuracy : 57.5725%, Val Loss: 1.3890, Val_accuracy: 55.3377%\n",
      "Epoch [5/20] Train Loss: 1.2223,Train_accuracy : 60.5776%, Val Loss: 1.2716, Val_accuracy: 59.2969%\n",
      "Epoch [6/20] Train Loss: 1.1434,Train_accuracy : 63.2934%, Val Loss: 1.4426, Val_accuracy: 53.9593%\n",
      "Epoch [7/20] Train Loss: 1.0849,Train_accuracy : 65.0914%, Val Loss: 1.1683, Val_accuracy: 63.2655%\n",
      "Epoch [8/20] Train Loss: 1.0411,Train_accuracy : 66.6475%, Val Loss: 1.2491, Val_accuracy: 61.1471%\n",
      "Epoch [9/20] Train Loss: 1.0019,Train_accuracy : 67.6050%, Val Loss: 1.0792, Val_accuracy: 66.0222%\n",
      "Epoch [10/20] Train Loss: 0.9679,Train_accuracy : 68.9609%, Val Loss: 1.2228, Val_accuracy: 62.3497%\n",
      "Epoch [11/20] Train Loss: 0.9428,Train_accuracy : 69.6408%, Val Loss: 1.2466, Val_accuracy: 61.5726%\n",
      "Epoch [12/20] Train Loss: 0.9183,Train_accuracy : 70.2375%, Val Loss: 1.0902, Val_accuracy: 65.7077%\n",
      "Epoch [13/20] Train Loss: 0.8905,Train_accuracy : 71.3040%, Val Loss: 0.9447, Val_accuracy: 70.0185%\n",
      "Epoch [14/20] Train Loss: 0.8710,Train_accuracy : 71.9304%, Val Loss: 1.0437, Val_accuracy: 67.4006%\n",
      "Epoch [15/20] Train Loss: 0.8592,Train_accuracy : 72.1802%, Val Loss: 1.2129, Val_accuracy: 63.3117%\n",
      "Epoch [16/20] Train Loss: 0.8323,Train_accuracy : 73.1832%, Val Loss: 0.9705, Val_accuracy: 69.7595%\n",
      "Epoch [17/20] Train Loss: 0.8289,Train_accuracy : 73.2526%, Val Loss: 0.9804, Val_accuracy: 69.9352%\n",
      "Epoch [18/20] Train Loss: 0.8110,Train_accuracy : 73.8215%, Val Loss: 1.0525, Val_accuracy: 67.6873%\n",
      "Epoch [19/20] Train Loss: 0.7986,Train_accuracy : 74.2378%, Val Loss: 1.1361, Val_accuracy: 64.8474%\n",
      "Epoch [20/20] Train Loss: 0.7898,Train_accuracy : 74.4459%, Val Loss: 0.8644, Val_accuracy: 72.3867%\n",
      "Finished Training\n"
     ]
    }
   ],
   "source": [
    "\n",
    "num_epochs = 20\n",
    "train_losses = []\n",
    "train_accuracies = []\n",
    "val_losses = []\n",
    "val_accuracies = []\n",
    "patience = 4\n",
    "best_loss = float('inf')\n",
    "\n",
    "# Training loop\n",
    "for epoch in range(num_epochs):\n",
    "    model.train()\n",
    "    training_loss = 0.0\n",
    "    total = 0\n",
    "    correct = 0\n",
    "    for i, data in enumerate(train_loader, 0):\n",
    "        inputs, labels = data\n",
    "        inputs = inputs.to(device)\n",
    "        labels = labels.to(device)\n",
    "        optimizer.zero_grad()\n",
    "        outputs = model(inputs)\n",
    "        loss = criterion(outputs, labels)\n",
    "        loss.backward()\n",
    "        optimizer.step()\n",
    "        training_loss += loss.item()\n",
    "        _, predicted = torch.max(outputs.data, 1)\n",
    "        total += labels.size(0)\n",
    "        correct += (predicted == labels).sum().item()\n",
    "    training_loss /= len(train_loader)\n",
    "    train_losses.append(training_loss)\n",
    "    train_accuracy = 100 * correct / total\n",
    "    train_accuracies.append(train_accuracy)\n",
    "\n",
    "    # Validation\n",
    "    model.eval()\n",
    "    val_loss = 0.0\n",
    "    correct_val = 0\n",
    "    total_val = 0\n",
    "    with torch.no_grad():\n",
    "        for data in val_loader:\n",
    "            inputs, labels = data\n",
    "            inputs = inputs.to(device)\n",
    "            labels = labels.to(device)\n",
    "            outputs = model(inputs)\n",
    "            loss = criterion(outputs, labels)\n",
    "            val_loss += loss.item()\n",
    "            _, predicted = torch.max(outputs.data, 1)\n",
    "            total_val += labels.size(0)\n",
    "            correct_val += (predicted == labels).sum().item()\n",
    "    val_loss /= len(val_loader)\n",
    "    val_accuracy = 100 * correct_val / total_val\n",
    "    \n",
    "    if val_loss<best_loss:\n",
    "        best_loss = val_loss\n",
    "        counter = 0\n",
    "    else:\n",
    "        counter = 1\n",
    "    if counter == patience:\n",
    "        print('early stopping occured')\n",
    "        torch.save(model.state_dict(), 'resetearly.pth')\n",
    "        break\n",
    "    \n",
    "    val_losses.append(val_loss)\n",
    "    val_accuracies.append(val_accuracy)\n",
    "\n",
    "    print(f\"Epoch [{epoch+1}/{num_epochs}] Train Loss: {training_loss:.4f},Train_accuracy : {train_accuracy:.4f}%, Val Loss: {val_loss:.4f}, Val_accuracy: {val_accuracy:.4f}%\")\n",
    "\n",
    "print('Finished Training')"
   ]
  },
  {
   "cell_type": "code",
   "execution_count": 28,
   "metadata": {},
   "outputs": [
    {
     "name": "stdout",
     "output_type": "stream",
     "text": [
      "Accuracy of the network on the test images: 71 %\n",
      "Test loss is  0.8887225414556978\n"
     ]
    }
   ],
   "source": [
    "correct = 0\n",
    "total = 0\n",
    "y_true = []\n",
    "y_pred = []\n",
    "test_losses = []\n",
    "test_accuracies = []\n",
    "test_loss = 0\n",
    "with torch.no_grad():\n",
    "    for data in test_loader:\n",
    "        inputs, labels = data\n",
    "        inputs= inputs.to(device)\n",
    "        labels = labels.to(device)\n",
    "        outputs = model(inputs)\n",
    "        loss = criterion(outputs, labels)\n",
    "        test_loss += loss.item()\n",
    "        \n",
    "        _, predicted = torch.max(outputs.data, 1)\n",
    "        total += labels.size(0)\n",
    "        correct += (predicted == labels).sum().item()\n",
    "        y_true.extend(labels.cpu().numpy())\n",
    "        y_pred.extend(predicted.cpu().numpy())\n",
    "test_loss /= len(val_loader)\n",
    "test_accuracy = 100 * correct / total\n",
    "test_losses.append(test_loss)\n",
    "test_accuracies.append(test_accuracy)\n",
    "\n",
    "print('Accuracy of the network on the test images: %d %%' % (test_accuracy))\n",
    "print('Test loss is ',(test_loss))"
   ]
  },
  {
   "cell_type": "code",
   "execution_count": 29,
   "metadata": {},
   "outputs": [],
   "source": [
    "import matplotlib.pyplot as plt"
   ]
  },
  {
   "cell_type": "code",
   "execution_count": 30,
   "metadata": {},
   "outputs": [
    {
     "data": {
      "text/plain": [
       "[28.495817309598383,\n",
       " 43.97771874876105,\n",
       " 52.21424889981366,\n",
       " 57.5724537128811,\n",
       " 60.57764738532292,\n",
       " 63.293422669785514,\n",
       " 65.0913848471633,\n",
       " 66.64750426198312,\n",
       " 67.60496372358561,\n",
       " 68.96086904809103,\n",
       " 69.64080402806962,\n",
       " 70.23748166356104,\n",
       " 71.30396860008722,\n",
       " 71.93038100146691,\n",
       " 72.18015303492844,\n",
       " 73.1832058042263,\n",
       " 73.25258692463228,\n",
       " 73.82151211196131,\n",
       " 74.23779883439718,\n",
       " 74.44594219561512]"
      ]
     },
     "execution_count": 30,
     "metadata": {},
     "output_type": "execute_result"
    }
   ],
   "source": [
    "train_accuracies"
   ]
  },
  {
   "cell_type": "code",
   "execution_count": 31,
   "metadata": {},
   "outputs": [
    {
     "data": {
      "text/plain": [
       "<matplotlib.legend.Legend at 0x14a8fb5fc6d0>"
      ]
     },
     "execution_count": 31,
     "metadata": {},
     "output_type": "execute_result"
    },
    {
     "data": {
      "image/png": "[encoded data removed]",
      "text/plain": [
       "<Figure size 1008x360 with 1 Axes>"
      ]
     },
     "metadata": {
      "needs_background": "light"
     },
     "output_type": "display_data"
    }
   ],
   "source": [
    "\n",
    "epochs = range(1, num_epochs + 1)\n",
    "plt.figure(figsize=(14, 5))\n",
    "plt.subplot(1, 2, 1)\n",
    "plt.plot(epochs, train_accuracies, 'b', label='Training Accuracy')\n",
    "plt.plot(epochs, val_accuracies, 'r', label='Validation Accuracy')\n",
    "plt.title('Training and Validation Accuracy')\n",
    "plt.xlabel('Epochs')\n",
    "plt.ylabel('Accuracy')\n",
    "plt.legend()\n"
   ]
  },
  {
   "cell_type": "code",
   "execution_count": 32,
   "metadata": {},
   "outputs": [
    {
     "data": {
      "image/png": "[encoded data removed]",
      "text/plain": [
       "<Figure size 432x288 with 1 Axes>"
      ]
     },
     "metadata": {
      "needs_background": "light"
     },
     "output_type": "display_data"
    }
   ],
   "source": [
    "plt.plot(epochs, train_losses, 'b', label='Training Loss')\n",
    "plt.plot(epochs, val_losses, 'r', label='Validation Loss')\n",
    "plt.title('Training and Validation Loss')\n",
    "plt.xlabel('Epochs')\n",
    "plt.ylabel('Loss')\n",
    "plt.legend()\n",
    "\n",
    "plt.show()"
   ]
  },
  {
   "cell_type": "code",
   "execution_count": 33,
   "metadata": {},
   "outputs": [],
   "source": [
    "torch.save(model.state_dict(), 'resnet_332.pth')"
   ]
  },
  {
   "cell_type": "code",
   "execution_count": 34,
   "metadata": {},
   "outputs": [],
   "source": [
    "from sklearn.metrics import confusion_matrix"
   ]
  },
  {
   "cell_type": "code",
   "execution_count": 35,
   "metadata": {},
   "outputs": [
    {
     "data": {
      "image/png": "[encoded data removed]",
      "text/plain": [
       "<Figure size 720x720 with 2 Axes>"
      ]
     },
     "metadata": {
      "needs_background": "light"
     },
     "output_type": "display_data"
    }
   ],
   "source": [
    "import matplotlib.pyplot as plt\n",
    "import seaborn as sns\n",
    "\n",
    "# Plot confusion matrix\n",
    "cm = confusion_matrix(y_true, y_pred)\n",
    "plt.figure(figsize=(10, 10))\n",
    "sns.heatmap(cm, annot=True, fmt=\"d\")\n",
    "plt.title(\"Confusion Matrix\")\n",
    "plt.xlabel(\"Predicted\")\n",
    "plt.ylabel(\"True\")\n",
    "plt.show()"
   ]
  },
  {
   "cell_type": "markdown",
   "metadata": {},
   "source": [
    "Reference:\n",
    "https://www.run.ai/guides/deep-learning-for-computer-vision/pytorch-resnet\n",
    "\n",
    "https://www.youtube.com/watch?v=DkNIBBBvcPs&t=1393s\n",
    "\n",
    "https://www.youtube.com/watch?v=GWt6Fu05voI&t=786s\n"
   ]
  },
  {
   "cell_type": "code",
   "execution_count": null,
   "metadata": {},
   "outputs": [],
   "source": []
  }
 ],
 "metadata": {
  "colab": {
   "provenance": []
  },
  "kernelspec": {
   "display_name": "RLevn",
   "language": "python",
   "name": "rlevn"
  },
  "language_info": {
   "codemirror_mode": {
    "name": "ipython",
    "version": 3
   },
   "file_extension": ".py",
   "mimetype": "text/x-python",
   "name": "python",
   "nbconvert_exporter": "python",
   "pygments_lexer": "ipython3",
   "version": "3.9.6"
  }
 },
 "nbformat": 4,
 "nbformat_minor": 1
}
