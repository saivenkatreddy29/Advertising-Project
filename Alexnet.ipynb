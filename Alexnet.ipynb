{
 "cells": [
  {
   "cell_type": "code",
   "execution_count": 1,
   "id": "deb0219c",
   "metadata": {},
   "outputs": [],
   "source": [
    "import torch\n",
    "from torchvision import datasets, transforms\n",
    "# from torchvision.transforms import v2\n",
    "from torch.utils.data import DataLoader, Dataset, Subset, random_split\n",
    "import torch.nn as nn\n",
    "import torch.nn.functional as F\n",
    "import torch.optim as optim\n",
    "import numpy as  np\n",
    "from torchvision import utils\n",
    "import matplotlib.pyplot as plt\n",
    "import os"
   ]
  },
  {
   "cell_type": "code",
   "execution_count": 2,
   "id": "f1eeb4cb",
   "metadata": {},
   "outputs": [],
   "source": [
    "# !unzip \"Train_dataset_small.zip\" -d \"dataset\""
   ]
  },
  {
   "cell_type": "code",
   "execution_count": 3,
   "id": "5a0771a2",
   "metadata": {},
   "outputs": [
    {
     "data": {
      "text/plain": [
       "device(type='cuda')"
      ]
     },
     "execution_count": 3,
     "metadata": {},
     "output_type": "execute_result"
    }
   ],
   "source": [
    "device = torch.device(\"cuda\" if torch.cuda.is_available() else \"cpu\")\n",
    "device"
   ]
  },
  {
   "cell_type": "code",
   "execution_count": 4,
   "id": "eb7dba79",
   "metadata": {},
   "outputs": [],
   "source": [
    "path='dataset/Train_dataset_new'\n",
    "n_channels = 3\n",
    "n_classes = 10\n",
    "batch_size = 64\n",
    "learning_rate = 0.001\n",
    "transform = transforms.Compose([\n",
    "            transforms.RandomResizedCrop(224),\n",
    "            transforms.RandomHorizontalFlip(),\n",
    "            transforms.ToTensor(),\n",
    "            transforms.Normalize(mean=[0.485, 0.456, 0.406], std=[0.229, 0.224, 0.225])\n",
    "        ])"
   ]
  },
  {
   "cell_type": "code",
   "execution_count": 5,
   "id": "e8b1a2f7",
   "metadata": {},
   "outputs": [
    {
     "name": "stdout",
     "output_type": "stream",
     "text": [
      "532\n"
     ]
    }
   ],
   "source": [
    "dataset = datasets.ImageFolder(root=path, transform=transform)\n",
    "\n",
    "# Split the dataset into train, test and validation.\n",
    "total_dataset_len = len(dataset)\n",
    "train_dataset_len = int(0.7 * total_dataset_len)\n",
    "val_dataset_len = int(0.15 * total_dataset_len)\n",
    "test_dataset_len = total_dataset_len - train_dataset_len - val_dataset_len\n",
    "train_dataset, val_dataset, test_dataset = random_split(dataset, [train_dataset_len, val_dataset_len, test_dataset_len])\n",
    "\n",
    "train_loader = DataLoader(dataset=train_dataset, batch_size=64, num_workers=2, shuffle=True)\n",
    "val_loader = DataLoader(dataset=val_dataset, batch_size=64, num_workers=2, shuffle=False)\n",
    "test_loader = DataLoader(dataset=test_dataset, batch_size=64, num_workers=2, shuffle=False)\n",
    "print(len(train_loader))"
   ]
  },
  {
   "cell_type": "code",
   "execution_count": 42,
   "id": "83524a95",
   "metadata": {},
   "outputs": [
    {
     "data": {
      "text/plain": [
       "['airport_terminal',\n",
       " 'auditorium',\n",
       " 'bedroom',\n",
       " 'bookstore',\n",
       " 'bus_station-indoor',\n",
       " 'clothing_store',\n",
       " 'computer_room',\n",
       " 'food_court',\n",
       " 'jewelry_shop',\n",
       " 'railroad_track']"
      ]
     },
     "execution_count": 42,
     "metadata": {},
     "output_type": "execute_result"
    }
   ],
   "source": [
    "dataset.classes"
   ]
  },
  {
   "cell_type": "code",
   "execution_count": 6,
   "id": "67c5fec9",
   "metadata": {},
   "outputs": [
    {
     "name": "stdout",
     "output_type": "stream",
     "text": [
      "AlaxNet_custom(\n",
      "  (conv1): Conv2d(3, 64, kernel_size=(11, 11), stride=(4, 4), padding=(2, 2))\n",
      "  (bn1): BatchNorm2d(64, eps=1e-05, momentum=0.1, affine=True, track_running_stats=True)\n",
      "  (conv2): Conv2d(64, 192, kernel_size=(5, 5), stride=(1, 1), padding=(2, 2))\n",
      "  (bn2): BatchNorm2d(192, eps=1e-05, momentum=0.1, affine=True, track_running_stats=True)\n",
      "  (conv3): Conv2d(192, 384, kernel_size=(3, 3), stride=(1, 1), padding=(1, 1))\n",
      "  (bn3): BatchNorm2d(384, eps=1e-05, momentum=0.1, affine=True, track_running_stats=True)\n",
      "  (conv4): Conv2d(384, 256, kernel_size=(3, 3), stride=(1, 1), padding=(1, 1))\n",
      "  (bn4): BatchNorm2d(256, eps=1e-05, momentum=0.1, affine=True, track_running_stats=True)\n",
      "  (conv5): Conv2d(256, 256, kernel_size=(3, 3), stride=(1, 1), padding=(1, 1))\n",
      "  (bn5): BatchNorm2d(256, eps=1e-05, momentum=0.1, affine=True, track_running_stats=True)\n",
      "  (relu): ReLU(inplace=True)\n",
      "  (maxPool): MaxPool2d(kernel_size=3, stride=2, padding=0, dilation=1, ceil_mode=False)\n",
      "  (dropout): Dropout(p=0.5, inplace=False)\n",
      "  (fc1): Linear(in_features=9216, out_features=4096, bias=True)\n",
      "  (fc2): Linear(in_features=4096, out_features=4096, bias=True)\n",
      "  (fc3): Linear(in_features=4096, out_features=10, bias=True)\n",
      ")\n"
     ]
    }
   ],
   "source": [
    "import torch\n",
    "import torch.nn as nn\n",
    "import torch.nn.functional as F\n",
    "import torch.nn.init as init\n",
    "\n",
    "class AlaxNet_custom(nn.Module):\n",
    "    def __init__(self, in_channels, out_classes):\n",
    "        super(AlaxNet_custom, self).__init__()\n",
    "        self.conv1 = nn.Conv2d(in_channels=in_channels, out_channels=64, kernel_size=11, stride=4, padding=2)\n",
    "        self.bn1 = nn.BatchNorm2d(64)\n",
    "        self.conv2 = nn.Conv2d(in_channels=64, out_channels=192, kernel_size=5, stride=1, padding=2)\n",
    "        self.bn2 = nn.BatchNorm2d(192)\n",
    "        self.conv3 = nn.Conv2d(in_channels=192, out_channels=384, kernel_size=3, stride=1, padding=1)\n",
    "        self.bn3 = nn.BatchNorm2d(384)\n",
    "        self.conv4 = nn.Conv2d(in_channels=384, out_channels=256, kernel_size=3, stride=1, padding=1)\n",
    "        self.bn4 = nn.BatchNorm2d(256)\n",
    "        self.conv5 = nn.Conv2d(in_channels=256, out_channels=256, kernel_size=3, stride=1, padding=1)\n",
    "        self.bn5 = nn.BatchNorm2d(256)\n",
    "        \n",
    "        self.relu = nn.ReLU(inplace=True)\n",
    "        self.maxPool = nn.MaxPool2d(kernel_size=3, stride=2, padding=0, dilation=1, ceil_mode=False)\n",
    "        self.dropout = nn.Dropout(p=0.5)\n",
    "        self.fc1 = nn.Linear(in_features=9216, out_features=4096)\n",
    "        self.fc2 = nn.Linear(in_features=4096, out_features=4096)\n",
    "        self.fc3 = nn.Linear(in_features=4096, out_features=out_classes)\n",
    "\n",
    "    def forward(self, x):\n",
    "        img = self.bn1(self.conv1(x))\n",
    "        img = self.relu(img)\n",
    "        img = self.maxPool(img)\n",
    "        # 2nd\n",
    "        img = self.bn2(self.conv2(img))\n",
    "        img = self.relu(img)\n",
    "        img = self.maxPool(img)\n",
    "        # 3rd\n",
    "        img = self.bn3(self.conv3(img))\n",
    "        img = self.relu(img)\n",
    "        # 4th\n",
    "        img = self.bn4(self.conv4(img))\n",
    "        img = self.relu(img)\n",
    "        # 5th\n",
    "        img = self.bn5(self.conv5(img))\n",
    "        img = self.relu(img)\n",
    "        img = self.maxPool(img)\n",
    "        img = torch.flatten(img, 1)\n",
    "        # 6th\n",
    "        img = self.dropout(img)\n",
    "        img = self.fc1(img)\n",
    "        img = self.relu(img)\n",
    "        # 7th\n",
    "        img = self.dropout(img)\n",
    "        img = self.fc2(img)\n",
    "        img = self.relu(img)\n",
    "        # output\n",
    "        img = self.fc3(img)\n",
    "        return img\n",
    "\n",
    "\n",
    "\n",
    "# Create an instance of the model\n",
    "model = AlaxNet_custom(3, 10)\n",
    "# model.to(device)\n",
    "\n",
    "# Print the model architecture\n",
    "print(model)\n",
    "\n",
    "# Reference: https://blog.paperspace.com/alexnet-pytorch/\n",
    "# Reference: https://github.com/dansuh17/alexnet-pytorch/blob/d0c1b1c52296ffcbecfbf5b17e1d1685b4ca6744/model.py#L40"
   ]
  },
  {
   "cell_type": "code",
   "execution_count": 7,
   "id": "89ba1b7d",
   "metadata": {},
   "outputs": [],
   "source": [
    "def train_model(model, train_loader, val_loader, criterion, optimizer, scheduler, n_epochs):\n",
    "    train_losses, train_accs = [], []\n",
    "    val_losses, val_accs = [], []\n",
    "\n",
    "    for epoch in range(n_epochs):\n",
    "        model.train()\n",
    "        train_loss = 0\n",
    "        train_correct = 0\n",
    "        train_total = 0\n",
    "\n",
    "        for inputs, labels in train_loader:\n",
    "            inputs, labels = inputs.to(device), labels.to(device)\n",
    "            optimizer.zero_grad()\n",
    "            outputs = model(inputs)\n",
    "            loss = criterion(outputs, labels)\n",
    "            loss.backward()\n",
    "            optimizer.step()\n",
    "\n",
    "            train_loss += loss.item()\n",
    "            _, predicted = torch.max(outputs.data, 1)\n",
    "            train_total += labels.size(0)\n",
    "            train_correct += (predicted == labels).sum().item()\n",
    "\n",
    "        train_loss = train_loss / len(train_loader)\n",
    "        train_acc = (train_correct / train_total) * 100\n",
    "        train_losses.append(train_loss)\n",
    "        train_accs.append(train_acc)\n",
    "        if scheduler:\n",
    "            scheduler.step()\n",
    "\n",
    "        # Validation\n",
    "        model.eval()\n",
    "        val_loss = 0\n",
    "        val_correct = 0\n",
    "        val_total = 0\n",
    "\n",
    "        with torch.no_grad():\n",
    "            for inputs, labels in val_loader:\n",
    "                inputs, labels = inputs.to(device), labels.to(device)\n",
    "                outputs = model(inputs)\n",
    "                loss = criterion(outputs, labels)\n",
    "\n",
    "                val_loss += loss.item()\n",
    "                _, predicted = torch.max(outputs.data, 1)\n",
    "                val_total += labels.size(0)\n",
    "                val_correct += (predicted == labels).sum().item()\n",
    "\n",
    "        val_loss = val_loss / len(val_loader)\n",
    "        val_acc = (val_correct / val_total) * 100\n",
    "        val_losses.append(val_loss)\n",
    "        val_accs.append(val_acc)\n",
    "\n",
    "        print(f'Epoch {epoch+1}/{n_epochs}:')\n",
    "        print(f'Train Loss: {train_loss:.4f}, Train Acc: {train_acc:.4f}')\n",
    "        print(f'Val Loss: {val_loss:.4f}, Val Acc: {val_acc:.4f}')\n",
    "\n",
    "    return train_losses, train_accs, val_losses, val_accs"
   ]
  },
  {
   "cell_type": "code",
   "execution_count": 8,
   "id": "d8a1421f",
   "metadata": {},
   "outputs": [],
   "source": [
    "criterion = nn.CrossEntropyLoss().cuda()\n",
    "\n",
    "optimizer = torch.optim.Adam(model.parameters(), lr = 0.001)\n",
    "scheduler = optim.lr_scheduler.StepLR(optimizer, step_size=30, gamma=0.1)"
   ]
  },
  {
   "cell_type": "code",
   "execution_count": 12,
   "id": "029ccedb",
   "metadata": {},
   "outputs": [
    {
     "name": "stdout",
     "output_type": "stream",
     "text": [
      "Epoch 1/20:\n",
      "Train Loss: 0.7714, Train Acc: 74.2103\n",
      "Val Loss: 0.8394, Val Acc: 72.2161\n",
      "Epoch 2/20:\n",
      "Train Loss: 0.7693, Train Acc: 74.3337\n",
      "Val Loss: 0.8391, Val Acc: 72.2436\n",
      "Epoch 3/20:\n",
      "Train Loss: 0.7689, Train Acc: 74.4072\n",
      "Val Loss: 0.8386, Val Acc: 72.1887\n",
      "Epoch 4/20:\n",
      "Train Loss: 0.7640, Train Acc: 74.6452\n",
      "Val Loss: 0.8253, Val Acc: 72.7098\n",
      "Epoch 5/20:\n",
      "Train Loss: 0.7576, Train Acc: 74.7216\n",
      "Val Loss: 0.8334, Val Acc: 72.0653\n",
      "Epoch 6/20:\n",
      "Train Loss: 0.7596, Train Acc: 74.6511\n",
      "Val Loss: 0.8354, Val Acc: 72.5590\n",
      "Epoch 7/20:\n",
      "Train Loss: 0.7546, Train Acc: 74.9126\n",
      "Val Loss: 0.8259, Val Acc: 72.5041\n",
      "Epoch 8/20:\n",
      "Train Loss: 0.7491, Train Acc: 74.8215\n",
      "Val Loss: 0.8235, Val Acc: 72.6138\n",
      "Epoch 9/20:\n",
      "Train Loss: 0.7462, Train Acc: 74.9567\n",
      "Val Loss: 0.8294, Val Acc: 72.3807\n",
      "Epoch 10/20:\n",
      "Train Loss: 0.7384, Train Acc: 75.3181\n",
      "Val Loss: 0.8096, Val Acc: 74.0126\n",
      "Epoch 11/20:\n",
      "Train Loss: 0.7357, Train Acc: 75.3034\n",
      "Val Loss: 0.8081, Val Acc: 73.6972\n",
      "Epoch 12/20:\n",
      "Train Loss: 0.7451, Train Acc: 75.0213\n",
      "Val Loss: 0.8245, Val Acc: 73.2172\n",
      "Epoch 13/20:\n",
      "Train Loss: 0.7401, Train Acc: 75.2828\n",
      "Val Loss: 0.8164, Val Acc: 72.9292\n",
      "Epoch 14/20:\n",
      "Train Loss: 0.7312, Train Acc: 75.7500\n",
      "Val Loss: 0.8114, Val Acc: 73.3544\n",
      "Epoch 15/20:\n",
      "Train Loss: 0.7318, Train Acc: 75.7676\n",
      "Val Loss: 0.8163, Val Acc: 72.5315\n",
      "Epoch 16/20:\n",
      "Train Loss: 0.7231, Train Acc: 76.1849\n",
      "Val Loss: 0.8083, Val Acc: 73.2858\n",
      "Epoch 17/20:\n",
      "Train Loss: 0.7315, Train Acc: 75.6295\n",
      "Val Loss: 0.8106, Val Acc: 73.1624\n",
      "Epoch 18/20:\n",
      "Train Loss: 0.7216, Train Acc: 76.0497\n",
      "Val Loss: 0.8171, Val Acc: 73.0664\n",
      "Epoch 19/20:\n",
      "Train Loss: 0.7252, Train Acc: 75.7383\n",
      "Val Loss: 0.8129, Val Acc: 73.1761\n",
      "Epoch 20/20:\n",
      "Train Loss: 0.7217, Train Acc: 76.1261\n",
      "Val Loss: 0.8229, Val Acc: 73.2721\n"
     ]
    }
   ],
   "source": [
    "train_losses, train_accs, val_losses, val_accs = train_model(model, train_loader, val_loader, criterion, optimizer,scheduler, 20)"
   ]
  },
  {
   "cell_type": "code",
   "execution_count": 16,
   "id": "2303e381",
   "metadata": {},
   "outputs": [],
   "source": [
    "# torch.save(model.state_dict(), 'alaxnet_final_project_60.pth')"
   ]
  },
  {
   "cell_type": "code",
   "execution_count": 9,
   "id": "7c4c9371",
   "metadata": {},
   "outputs": [],
   "source": [
    "model.load_state_dict(torch.load('alaxnet_final_project_60.pth'))\n",
    "model = model.to(device)"
   ]
  },
  {
   "cell_type": "code",
   "execution_count": 20,
   "id": "bc3fbbcb",
   "metadata": {},
   "outputs": [],
   "source": [
    "def eval_model(model, data_loader, type='validation'):\n",
    "  correct=0\n",
    "  total=0\n",
    "  running_loss = 0.0\n",
    "  with torch.no_grad():\n",
    "    model.eval()\n",
    "    for inputs, labels in data_loader:\n",
    "      inputs, labels = inputs.to(device), labels.to(device)\n",
    "      pred = model(inputs)\n",
    "      total += labels.size(0)\n",
    "      loss = criterion(pred, labels.squeeze().long())\n",
    "      running_loss += loss.item()\n",
    "      _, predicted = torch.max(pred.data, 1)\n",
    "      correct += predicted.eq(labels.squeeze().long()).sum().item()\n",
    "    # print(f'Accuracy of {type},  {100 * correct // total} %')\n",
    "  test_val_loss = running_loss / len(data_loader)\n",
    "  test_val_accuracy = 100 * correct / total\n",
    "  return test_val_loss, test_val_accuracy"
   ]
  },
  {
   "cell_type": "code",
   "execution_count": 21,
   "id": "33255923",
   "metadata": {},
   "outputs": [],
   "source": [
    "test_loss, test_accuracy = eval_model(model, test_loader, type='testing')"
   ]
  },
  {
   "cell_type": "code",
   "execution_count": 22,
   "id": "56bcb7b6",
   "metadata": {},
   "outputs": [
    {
     "name": "stdout",
     "output_type": "stream",
     "text": [
      "0.7063335373736265 76.32300520976145\n"
     ]
    }
   ],
   "source": [
    "print(test_loss, test_accuracy)"
   ]
  },
  {
   "cell_type": "code",
   "execution_count": 27,
   "id": "9cc685c6",
   "metadata": {},
   "outputs": [],
   "source": [
    "import cv2\n",
    "\n",
    "image = cv2.imread('00000012.jpg')\n",
    "image_size = 224  # Assuming this matches your training image size\n",
    "mean = [0.485, 0.456, 0.406]\n",
    "std = [0.229, 0.224, 0.225]\n",
    "\n",
    "resized = cv2.resize(image, (image_size, image_size))\n",
    "normalized = (resized / 255.0 - mean)\n"
   ]
  },
  {
   "cell_type": "code",
   "execution_count": 36,
   "id": "fe94236d",
   "metadata": {},
   "outputs": [],
   "source": [
    "transformed_image = torch.from_numpy(normalized.astype(np.float32)).permute(2, 0, 1)\n",
    "transformed_image = transformed_image.unsqueeze(0) \n",
    "transformed_image = transformed_image.to(device)"
   ]
  },
  {
   "cell_type": "code",
   "execution_count": 43,
   "id": "97f3de12",
   "metadata": {},
   "outputs": [
    {
     "name": "stdout",
     "output_type": "stream",
     "text": [
      "Predicted class: airport_terminal\n"
     ]
    }
   ],
   "source": [
    "model.eval()\n",
    "with torch.no_grad():  # Disable gradient calculation for efficiency\n",
    "    outputs = model(transformed_image)\n",
    "    _, predicted = torch.max(outputs.data, 1)\n",
    "    class_names = ['airport_terminal',\n",
    "                     'auditorium',\n",
    "                     'bedroom',\n",
    "                     'bookstore',\n",
    "                     'bus_station-indoor',\n",
    "                     'clothing_store',\n",
    "                     'computer_room',\n",
    "                     'food_court',\n",
    "                     'jewelry_shop',\n",
    "                     'railroad_track']\n",
    "    predicted_class = class_names[predicted.item()]\n",
    "    print(f'Predicted class: {predicted_class}')\n"
   ]
  },
  {
   "cell_type": "code",
   "execution_count": 39,
   "id": "565466c2",
   "metadata": {},
   "outputs": [
    {
     "data": {
      "text/plain": [
       "0"
      ]
     },
     "execution_count": 39,
     "metadata": {},
     "output_type": "execute_result"
    }
   ],
   "source": [
    "predicted.item()"
   ]
  },
  {
   "cell_type": "code",
   "execution_count": null,
   "id": "62dafaf4",
   "metadata": {},
   "outputs": [],
   "source": []
  }
 ],
 "metadata": {
  "kernelspec": {
   "display_name": "Python 3 (ipykernel)",
   "language": "python",
   "name": "python3"
  },
  "language_info": {
   "codemirror_mode": {
    "name": "ipython",
    "version": 3
   },
   "file_extension": ".py",
   "mimetype": "text/x-python",
   "name": "python",
   "nbconvert_exporter": "python",
   "pygments_lexer": "ipython3",
   "version": "3.9.6"
  }
 },
 "nbformat": 4,
 "nbformat_minor": 5
}
